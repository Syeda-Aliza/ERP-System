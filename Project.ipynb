{
  "cells": [
    {
      "cell_type": "markdown",
      "metadata": {
        "id": "Y-okahSh7B-7"
      },
      "source": [
        "# **DATA LOADING**"
      ]
    },
    {
      "cell_type": "markdown",
      "metadata": {
        "id": "z0U_rdrq69y7"
      },
      "source": [
        "Importing Libraries"
      ]
    },
    {
      "cell_type": "code",
      "execution_count": 122,
      "metadata": {
        "id": "aOJZfCFr684I"
      },
      "outputs": [],
      "source": [
        "# importing libraries\n",
        "import pandas as pd\n",
        "import numpy as np\n",
        "import matplotlib.pyplot as plt\n",
        "import seaborn as sns\n",
        "from sklearn.model_selection import train_test_split\n",
        "from sklearn.ensemble import RandomForestRegressor\n",
        "from sklearn.metrics import mean_squared_error, r2_score\n",
        "from sklearn.preprocessing import StandardScaler"
      ]
    },
    {
      "cell_type": "code",
      "execution_count": 123,
      "metadata": {
        "colab": {
          "base_uri": "https://localhost:8080/",
          "height": 955
        },
        "id": "4rcCdH6JrndO",
        "outputId": "cda0e3ef-46af-4475-d9c4-71bed486ed61"
      },
      "outputs": [
        {
          "name": "stderr",
          "output_type": "stream",
          "text": [
            "C:\\Users\\SyedArshad\\AppData\\Local\\Temp\\ipykernel_17876\\4245470351.py:2: DtypeWarning: Columns (2,3,4,5,6,7,8,10,11) have mixed types. Specify dtype option on import or set low_memory=False.\n",
            "  df = pd.read_csv(\"C:/syeda aliza arshad/project/New Microsoft Excel Worksheet (5).csv\", parse_dates=[\"TrnsDate\"])\n"
          ]
        },
        {
          "data": {
            "text/html": [
              "<div>\n",
              "<style scoped>\n",
              "    .dataframe tbody tr th:only-of-type {\n",
              "        vertical-align: middle;\n",
              "    }\n",
              "\n",
              "    .dataframe tbody tr th {\n",
              "        vertical-align: top;\n",
              "    }\n",
              "\n",
              "    .dataframe thead th {\n",
              "        text-align: right;\n",
              "    }\n",
              "</style>\n",
              "<table border=\"1\" class=\"dataframe\">\n",
              "  <thead>\n",
              "    <tr style=\"text-align: right;\">\n",
              "      <th></th>\n",
              "      <th>TrnsNo</th>\n",
              "      <th>TrnsDate</th>\n",
              "      <th>Customer Id</th>\n",
              "      <th>Customer Name</th>\n",
              "      <th>City</th>\n",
              "      <th>Country</th>\n",
              "      <th>ProdId</th>\n",
              "      <th>ProdDesc</th>\n",
              "      <th>Unit</th>\n",
              "      <th>Qty</th>\n",
              "      <th>Rate</th>\n",
              "      <th>Amount</th>\n",
              "    </tr>\n",
              "  </thead>\n",
              "  <tbody>\n",
              "    <tr>\n",
              "      <th>0</th>\n",
              "      <td>23080001.0</td>\n",
              "      <td>02-08-2023</td>\n",
              "      <td>C-0004</td>\n",
              "      <td>Jimmy Gomez</td>\n",
              "      <td>NaN</td>\n",
              "      <td>NaN</td>\n",
              "      <td>04-0003</td>\n",
              "      <td>Accounts Plus Maintenance Charges</td>\n",
              "      <td>NaN</td>\n",
              "      <td>1.0</td>\n",
              "      <td>2.857142857</td>\n",
              "      <td>2.857142857</td>\n",
              "    </tr>\n",
              "    <tr>\n",
              "      <th>1</th>\n",
              "      <td>23080001.0</td>\n",
              "      <td>02-08-2023</td>\n",
              "      <td>C-0004</td>\n",
              "      <td>Amanda Long</td>\n",
              "      <td>NaN</td>\n",
              "      <td>NaN</td>\n",
              "      <td>04-0003</td>\n",
              "      <td>Accounts Plus Maintenance Charges</td>\n",
              "      <td>NaN</td>\n",
              "      <td>1.0</td>\n",
              "      <td>2.857142857</td>\n",
              "      <td>2.857142857</td>\n",
              "    </tr>\n",
              "    <tr>\n",
              "      <th>2</th>\n",
              "      <td>23080001.0</td>\n",
              "      <td>02-08-2023</td>\n",
              "      <td>C-0004</td>\n",
              "      <td>Jill Sandoval</td>\n",
              "      <td>NaN</td>\n",
              "      <td>NaN</td>\n",
              "      <td>04-0003</td>\n",
              "      <td>Accounts Plus Maintenance Charges</td>\n",
              "      <td>NaN</td>\n",
              "      <td>1.0</td>\n",
              "      <td>128565.7143</td>\n",
              "      <td>128565.7143</td>\n",
              "    </tr>\n",
              "    <tr>\n",
              "      <th>3</th>\n",
              "      <td>23080002.0</td>\n",
              "      <td>08-08-2023</td>\n",
              "      <td>C-0076</td>\n",
              "      <td>Ashley Coleman</td>\n",
              "      <td>Karachi</td>\n",
              "      <td>Pakistan</td>\n",
              "      <td>04-0008</td>\n",
              "      <td>Accounts Plus Business Suite</td>\n",
              "      <td>NOS</td>\n",
              "      <td>1.0</td>\n",
              "      <td>131428.5714</td>\n",
              "      <td>131428.5714</td>\n",
              "    </tr>\n",
              "    <tr>\n",
              "      <th>4</th>\n",
              "      <td>23090001.0</td>\n",
              "      <td>13-09-2023</td>\n",
              "      <td>C-0016</td>\n",
              "      <td>Janet Browning</td>\n",
              "      <td>NaN</td>\n",
              "      <td>NaN</td>\n",
              "      <td>04-0008</td>\n",
              "      <td>Accounts Plus Business Suite</td>\n",
              "      <td>NOS</td>\n",
              "      <td>1.0</td>\n",
              "      <td>2.857142857</td>\n",
              "      <td>2.857142857</td>\n",
              "    </tr>\n",
              "    <tr>\n",
              "      <th>5</th>\n",
              "      <td>23090001.0</td>\n",
              "      <td>13-09-2023</td>\n",
              "      <td>C-0016</td>\n",
              "      <td>Natalie Griffin</td>\n",
              "      <td>NaN</td>\n",
              "      <td>NaN</td>\n",
              "      <td>04-0008</td>\n",
              "      <td>Accounts Plus Business Suite</td>\n",
              "      <td>NOS</td>\n",
              "      <td>1.0</td>\n",
              "      <td>57142.85714</td>\n",
              "      <td>57142.85714</td>\n",
              "    </tr>\n",
              "    <tr>\n",
              "      <th>6</th>\n",
              "      <td>23090001.0</td>\n",
              "      <td>13-09-2023</td>\n",
              "      <td>C-0016</td>\n",
              "      <td>Anna Brooks</td>\n",
              "      <td>NaN</td>\n",
              "      <td>NaN</td>\n",
              "      <td>04-0008</td>\n",
              "      <td>Accounts Plus Business Suite</td>\n",
              "      <td>NOS</td>\n",
              "      <td>1.0</td>\n",
              "      <td>100000</td>\n",
              "      <td>100000</td>\n",
              "    </tr>\n",
              "    <tr>\n",
              "      <th>7</th>\n",
              "      <td>23090001.0</td>\n",
              "      <td>13-09-2023</td>\n",
              "      <td>C-0016</td>\n",
              "      <td>Tyrone Rubio</td>\n",
              "      <td>NaN</td>\n",
              "      <td>NaN</td>\n",
              "      <td>04-0008</td>\n",
              "      <td>Accounts Plus Business Suite</td>\n",
              "      <td>NOS</td>\n",
              "      <td>1.0</td>\n",
              "      <td>2.857142857</td>\n",
              "      <td>2.857142857</td>\n",
              "    </tr>\n",
              "    <tr>\n",
              "      <th>8</th>\n",
              "      <td>23090001.0</td>\n",
              "      <td>13-09-2023</td>\n",
              "      <td>C-0016</td>\n",
              "      <td>Anna Sanders</td>\n",
              "      <td>NaN</td>\n",
              "      <td>NaN</td>\n",
              "      <td>04-0008</td>\n",
              "      <td>Accounts Plus Business Suite</td>\n",
              "      <td>NOS</td>\n",
              "      <td>1.0</td>\n",
              "      <td>100000</td>\n",
              "      <td>100000</td>\n",
              "    </tr>\n",
              "    <tr>\n",
              "      <th>9</th>\n",
              "      <td>23090001.0</td>\n",
              "      <td>13-09-2023</td>\n",
              "      <td>C-0016</td>\n",
              "      <td>Jack Zimmerman</td>\n",
              "      <td>NaN</td>\n",
              "      <td>NaN</td>\n",
              "      <td>04-0008</td>\n",
              "      <td>Accounts Plus Business Suite</td>\n",
              "      <td>NOS</td>\n",
              "      <td>1.0</td>\n",
              "      <td>2.857142857</td>\n",
              "      <td>2.857142857</td>\n",
              "    </tr>\n",
              "  </tbody>\n",
              "</table>\n",
              "</div>"
            ],
            "text/plain": [
              "       TrnsNo    TrnsDate Customer Id    Customer Name     City   Country  \\\n",
              "0  23080001.0  02-08-2023      C-0004      Jimmy Gomez      NaN       NaN   \n",
              "1  23080001.0  02-08-2023      C-0004      Amanda Long      NaN       NaN   \n",
              "2  23080001.0  02-08-2023      C-0004    Jill Sandoval      NaN       NaN   \n",
              "3  23080002.0  08-08-2023      C-0076   Ashley Coleman  Karachi  Pakistan   \n",
              "4  23090001.0  13-09-2023      C-0016   Janet Browning      NaN       NaN   \n",
              "5  23090001.0  13-09-2023      C-0016  Natalie Griffin      NaN       NaN   \n",
              "6  23090001.0  13-09-2023      C-0016      Anna Brooks      NaN       NaN   \n",
              "7  23090001.0  13-09-2023      C-0016     Tyrone Rubio      NaN       NaN   \n",
              "8  23090001.0  13-09-2023      C-0016     Anna Sanders      NaN       NaN   \n",
              "9  23090001.0  13-09-2023      C-0016   Jack Zimmerman      NaN       NaN   \n",
              "\n",
              "    ProdId                           ProdDesc Unit  Qty         Rate  \\\n",
              "0  04-0003  Accounts Plus Maintenance Charges  NaN  1.0  2.857142857   \n",
              "1  04-0003  Accounts Plus Maintenance Charges  NaN  1.0  2.857142857   \n",
              "2  04-0003  Accounts Plus Maintenance Charges  NaN  1.0  128565.7143   \n",
              "3  04-0008       Accounts Plus Business Suite  NOS  1.0  131428.5714   \n",
              "4  04-0008       Accounts Plus Business Suite  NOS  1.0  2.857142857   \n",
              "5  04-0008       Accounts Plus Business Suite  NOS  1.0  57142.85714   \n",
              "6  04-0008       Accounts Plus Business Suite  NOS  1.0       100000   \n",
              "7  04-0008       Accounts Plus Business Suite  NOS  1.0  2.857142857   \n",
              "8  04-0008       Accounts Plus Business Suite  NOS  1.0       100000   \n",
              "9  04-0008       Accounts Plus Business Suite  NOS  1.0  2.857142857   \n",
              "\n",
              "        Amount  \n",
              "0  2.857142857  \n",
              "1  2.857142857  \n",
              "2  128565.7143  \n",
              "3  131428.5714  \n",
              "4  2.857142857  \n",
              "5  57142.85714  \n",
              "6       100000  \n",
              "7  2.857142857  \n",
              "8       100000  \n",
              "9  2.857142857  "
            ]
          },
          "execution_count": 123,
          "metadata": {},
          "output_type": "execute_result"
        }
      ],
      "source": [
        "# Load dataset\n",
        "df = pd.read_csv(\"C:/syeda aliza arshad/project/New Microsoft Excel Worksheet (5).csv\", parse_dates=[\"TrnsDate\"])\n",
        "\n",
        "df.head(10)"
      ]
    },
    {
      "cell_type": "code",
      "execution_count": 3,
      "metadata": {
        "colab": {
          "base_uri": "https://localhost:8080/",
          "height": 400
        },
        "id": "tt_XCJdtH6gB",
        "outputId": "0f70ba43-0cf8-4fd4-eb2f-073b12aac95a"
      },
      "outputs": [
        {
          "data": {
            "application/vnd.google.colaboratory.intrinsic+json": {
              "repr_error": "0",
              "type": "dataframe"
            },
            "text/html": [
              "\n",
              "  <div id=\"df-454b15a3-c93c-4caf-8d3d-af6f812bd438\" class=\"colab-df-container\">\n",
              "    <div>\n",
              "<style scoped>\n",
              "    .dataframe tbody tr th:only-of-type {\n",
              "        vertical-align: middle;\n",
              "    }\n",
              "\n",
              "    .dataframe tbody tr th {\n",
              "        vertical-align: top;\n",
              "    }\n",
              "\n",
              "    .dataframe thead th {\n",
              "        text-align: right;\n",
              "    }\n",
              "</style>\n",
              "<table border=\"1\" class=\"dataframe\">\n",
              "  <thead>\n",
              "    <tr style=\"text-align: right;\">\n",
              "      <th></th>\n",
              "      <th>TrnsNo</th>\n",
              "      <th>TrnsDate</th>\n",
              "      <th>Customer Id</th>\n",
              "      <th>Customer Name</th>\n",
              "      <th>City</th>\n",
              "      <th>Country</th>\n",
              "      <th>ProdId</th>\n",
              "      <th>ProdDesc</th>\n",
              "      <th>Unit</th>\n",
              "      <th>Qty</th>\n",
              "      <th>Rate</th>\n",
              "      <th>Amount</th>\n",
              "    </tr>\n",
              "  </thead>\n",
              "  <tbody>\n",
              "    <tr>\n",
              "      <th>1048565</th>\n",
              "      <td>NaN</td>\n",
              "      <td>NaN</td>\n",
              "      <td>NaN</td>\n",
              "      <td>NaN</td>\n",
              "      <td>NaN</td>\n",
              "      <td>NaN</td>\n",
              "      <td>NaN</td>\n",
              "      <td>NaN</td>\n",
              "      <td>NaN</td>\n",
              "      <td>NaN</td>\n",
              "      <td>0</td>\n",
              "      <td>0</td>\n",
              "    </tr>\n",
              "    <tr>\n",
              "      <th>1048566</th>\n",
              "      <td>NaN</td>\n",
              "      <td>NaN</td>\n",
              "      <td>NaN</td>\n",
              "      <td>NaN</td>\n",
              "      <td>NaN</td>\n",
              "      <td>NaN</td>\n",
              "      <td>NaN</td>\n",
              "      <td>NaN</td>\n",
              "      <td>NaN</td>\n",
              "      <td>NaN</td>\n",
              "      <td>0</td>\n",
              "      <td>0</td>\n",
              "    </tr>\n",
              "    <tr>\n",
              "      <th>1048567</th>\n",
              "      <td>NaN</td>\n",
              "      <td>NaN</td>\n",
              "      <td>NaN</td>\n",
              "      <td>NaN</td>\n",
              "      <td>NaN</td>\n",
              "      <td>NaN</td>\n",
              "      <td>NaN</td>\n",
              "      <td>NaN</td>\n",
              "      <td>NaN</td>\n",
              "      <td>NaN</td>\n",
              "      <td>0</td>\n",
              "      <td>0</td>\n",
              "    </tr>\n",
              "    <tr>\n",
              "      <th>1048568</th>\n",
              "      <td>NaN</td>\n",
              "      <td>NaN</td>\n",
              "      <td>NaN</td>\n",
              "      <td>NaN</td>\n",
              "      <td>NaN</td>\n",
              "      <td>NaN</td>\n",
              "      <td>NaN</td>\n",
              "      <td>NaN</td>\n",
              "      <td>NaN</td>\n",
              "      <td>NaN</td>\n",
              "      <td>0</td>\n",
              "      <td>0</td>\n",
              "    </tr>\n",
              "    <tr>\n",
              "      <th>1048569</th>\n",
              "      <td>NaN</td>\n",
              "      <td>NaN</td>\n",
              "      <td>NaN</td>\n",
              "      <td>NaN</td>\n",
              "      <td>NaN</td>\n",
              "      <td>NaN</td>\n",
              "      <td>NaN</td>\n",
              "      <td>NaN</td>\n",
              "      <td>NaN</td>\n",
              "      <td>NaN</td>\n",
              "      <td>0</td>\n",
              "      <td>0</td>\n",
              "    </tr>\n",
              "    <tr>\n",
              "      <th>1048570</th>\n",
              "      <td>NaN</td>\n",
              "      <td>NaN</td>\n",
              "      <td>NaN</td>\n",
              "      <td>NaN</td>\n",
              "      <td>NaN</td>\n",
              "      <td>NaN</td>\n",
              "      <td>NaN</td>\n",
              "      <td>NaN</td>\n",
              "      <td>NaN</td>\n",
              "      <td>NaN</td>\n",
              "      <td>0</td>\n",
              "      <td>0</td>\n",
              "    </tr>\n",
              "    <tr>\n",
              "      <th>1048571</th>\n",
              "      <td>NaN</td>\n",
              "      <td>NaN</td>\n",
              "      <td>NaN</td>\n",
              "      <td>NaN</td>\n",
              "      <td>NaN</td>\n",
              "      <td>NaN</td>\n",
              "      <td>NaN</td>\n",
              "      <td>NaN</td>\n",
              "      <td>NaN</td>\n",
              "      <td>NaN</td>\n",
              "      <td>0</td>\n",
              "      <td>0</td>\n",
              "    </tr>\n",
              "    <tr>\n",
              "      <th>1048572</th>\n",
              "      <td>NaN</td>\n",
              "      <td>NaN</td>\n",
              "      <td>NaN</td>\n",
              "      <td>NaN</td>\n",
              "      <td>NaN</td>\n",
              "      <td>NaN</td>\n",
              "      <td>NaN</td>\n",
              "      <td>NaN</td>\n",
              "      <td>NaN</td>\n",
              "      <td>NaN</td>\n",
              "      <td>0</td>\n",
              "      <td>0</td>\n",
              "    </tr>\n",
              "    <tr>\n",
              "      <th>1048573</th>\n",
              "      <td>NaN</td>\n",
              "      <td>NaN</td>\n",
              "      <td>NaN</td>\n",
              "      <td>NaN</td>\n",
              "      <td>NaN</td>\n",
              "      <td>NaN</td>\n",
              "      <td>NaN</td>\n",
              "      <td>NaN</td>\n",
              "      <td>NaN</td>\n",
              "      <td>NaN</td>\n",
              "      <td>0</td>\n",
              "      <td>0</td>\n",
              "    </tr>\n",
              "    <tr>\n",
              "      <th>1048574</th>\n",
              "      <td>NaN</td>\n",
              "      <td>NaN</td>\n",
              "      <td>NaN</td>\n",
              "      <td>NaN</td>\n",
              "      <td>NaN</td>\n",
              "      <td>NaN</td>\n",
              "      <td>NaN</td>\n",
              "      <td>NaN</td>\n",
              "      <td>NaN</td>\n",
              "      <td>NaN</td>\n",
              "      <td>0</td>\n",
              "      <td>0</td>\n",
              "    </tr>\n",
              "  </tbody>\n",
              "</table>\n",
              "</div>\n",
              "    <div class=\"colab-df-buttons\">\n",
              "\n",
              "  <div class=\"colab-df-container\">\n",
              "    <button class=\"colab-df-convert\" onclick=\"convertToInteractive('df-454b15a3-c93c-4caf-8d3d-af6f812bd438')\"\n",
              "            title=\"Convert this dataframe to an interactive table.\"\n",
              "            style=\"display:none;\">\n",
              "\n",
              "  <svg xmlns=\"http://www.w3.org/2000/svg\" height=\"24px\" viewBox=\"0 -960 960 960\">\n",
              "    <path d=\"M120-120v-720h720v720H120Zm60-500h600v-160H180v160Zm220 220h160v-160H400v160Zm0 220h160v-160H400v160ZM180-400h160v-160H180v160Zm440 0h160v-160H620v160ZM180-180h160v-160H180v160Zm440 0h160v-160H620v160Z\"/>\n",
              "  </svg>\n",
              "    </button>\n",
              "\n",
              "  <style>\n",
              "    .colab-df-container {\n",
              "      display:flex;\n",
              "      gap: 12px;\n",
              "    }\n",
              "\n",
              "    .colab-df-convert {\n",
              "      background-color: #E8F0FE;\n",
              "      border: none;\n",
              "      border-radius: 50%;\n",
              "      cursor: pointer;\n",
              "      display: none;\n",
              "      fill: #1967D2;\n",
              "      height: 32px;\n",
              "      padding: 0 0 0 0;\n",
              "      width: 32px;\n",
              "    }\n",
              "\n",
              "    .colab-df-convert:hover {\n",
              "      background-color: #E2EBFA;\n",
              "      box-shadow: 0px 1px 2px rgba(60, 64, 67, 0.3), 0px 1px 3px 1px rgba(60, 64, 67, 0.15);\n",
              "      fill: #174EA6;\n",
              "    }\n",
              "\n",
              "    .colab-df-buttons div {\n",
              "      margin-bottom: 4px;\n",
              "    }\n",
              "\n",
              "    [theme=dark] .colab-df-convert {\n",
              "      background-color: #3B4455;\n",
              "      fill: #D2E3FC;\n",
              "    }\n",
              "\n",
              "    [theme=dark] .colab-df-convert:hover {\n",
              "      background-color: #434B5C;\n",
              "      box-shadow: 0px 1px 3px 1px rgba(0, 0, 0, 0.15);\n",
              "      filter: drop-shadow(0px 1px 2px rgba(0, 0, 0, 0.3));\n",
              "      fill: #FFFFFF;\n",
              "    }\n",
              "  </style>\n",
              "\n",
              "    <script>\n",
              "      const buttonEl =\n",
              "        document.querySelector('#df-454b15a3-c93c-4caf-8d3d-af6f812bd438 button.colab-df-convert');\n",
              "      buttonEl.style.display =\n",
              "        google.colab.kernel.accessAllowed ? 'block' : 'none';\n",
              "\n",
              "      async function convertToInteractive(key) {\n",
              "        const element = document.querySelector('#df-454b15a3-c93c-4caf-8d3d-af6f812bd438');\n",
              "        const dataTable =\n",
              "          await google.colab.kernel.invokeFunction('convertToInteractive',\n",
              "                                                    [key], {});\n",
              "        if (!dataTable) return;\n",
              "\n",
              "        const docLinkHtml = 'Like what you see? Visit the ' +\n",
              "          '<a target=\"_blank\" href=https://colab.research.google.com/notebooks/data_table.ipynb>data table notebook</a>'\n",
              "          + ' to learn more about interactive tables.';\n",
              "        element.innerHTML = '';\n",
              "        dataTable['output_type'] = 'display_data';\n",
              "        await google.colab.output.renderOutput(dataTable, element);\n",
              "        const docLink = document.createElement('div');\n",
              "        docLink.innerHTML = docLinkHtml;\n",
              "        element.appendChild(docLink);\n",
              "      }\n",
              "    </script>\n",
              "  </div>\n",
              "\n",
              "\n",
              "<div id=\"df-5932213d-254f-40be-9f96-317c2768e289\">\n",
              "  <button class=\"colab-df-quickchart\" onclick=\"quickchart('df-5932213d-254f-40be-9f96-317c2768e289')\"\n",
              "            title=\"Suggest charts\"\n",
              "            style=\"display:none;\">\n",
              "\n",
              "<svg xmlns=\"http://www.w3.org/2000/svg\" height=\"24px\"viewBox=\"0 0 24 24\"\n",
              "     width=\"24px\">\n",
              "    <g>\n",
              "        <path d=\"M19 3H5c-1.1 0-2 .9-2 2v14c0 1.1.9 2 2 2h14c1.1 0 2-.9 2-2V5c0-1.1-.9-2-2-2zM9 17H7v-7h2v7zm4 0h-2V7h2v10zm4 0h-2v-4h2v4z\"/>\n",
              "    </g>\n",
              "</svg>\n",
              "  </button>\n",
              "\n",
              "<style>\n",
              "  .colab-df-quickchart {\n",
              "      --bg-color: #E8F0FE;\n",
              "      --fill-color: #1967D2;\n",
              "      --hover-bg-color: #E2EBFA;\n",
              "      --hover-fill-color: #174EA6;\n",
              "      --disabled-fill-color: #AAA;\n",
              "      --disabled-bg-color: #DDD;\n",
              "  }\n",
              "\n",
              "  [theme=dark] .colab-df-quickchart {\n",
              "      --bg-color: #3B4455;\n",
              "      --fill-color: #D2E3FC;\n",
              "      --hover-bg-color: #434B5C;\n",
              "      --hover-fill-color: #FFFFFF;\n",
              "      --disabled-bg-color: #3B4455;\n",
              "      --disabled-fill-color: #666;\n",
              "  }\n",
              "\n",
              "  .colab-df-quickchart {\n",
              "    background-color: var(--bg-color);\n",
              "    border: none;\n",
              "    border-radius: 50%;\n",
              "    cursor: pointer;\n",
              "    display: none;\n",
              "    fill: var(--fill-color);\n",
              "    height: 32px;\n",
              "    padding: 0;\n",
              "    width: 32px;\n",
              "  }\n",
              "\n",
              "  .colab-df-quickchart:hover {\n",
              "    background-color: var(--hover-bg-color);\n",
              "    box-shadow: 0 1px 2px rgba(60, 64, 67, 0.3), 0 1px 3px 1px rgba(60, 64, 67, 0.15);\n",
              "    fill: var(--button-hover-fill-color);\n",
              "  }\n",
              "\n",
              "  .colab-df-quickchart-complete:disabled,\n",
              "  .colab-df-quickchart-complete:disabled:hover {\n",
              "    background-color: var(--disabled-bg-color);\n",
              "    fill: var(--disabled-fill-color);\n",
              "    box-shadow: none;\n",
              "  }\n",
              "\n",
              "  .colab-df-spinner {\n",
              "    border: 2px solid var(--fill-color);\n",
              "    border-color: transparent;\n",
              "    border-bottom-color: var(--fill-color);\n",
              "    animation:\n",
              "      spin 1s steps(1) infinite;\n",
              "  }\n",
              "\n",
              "  @keyframes spin {\n",
              "    0% {\n",
              "      border-color: transparent;\n",
              "      border-bottom-color: var(--fill-color);\n",
              "      border-left-color: var(--fill-color);\n",
              "    }\n",
              "    20% {\n",
              "      border-color: transparent;\n",
              "      border-left-color: var(--fill-color);\n",
              "      border-top-color: var(--fill-color);\n",
              "    }\n",
              "    30% {\n",
              "      border-color: transparent;\n",
              "      border-left-color: var(--fill-color);\n",
              "      border-top-color: var(--fill-color);\n",
              "      border-right-color: var(--fill-color);\n",
              "    }\n",
              "    40% {\n",
              "      border-color: transparent;\n",
              "      border-right-color: var(--fill-color);\n",
              "      border-top-color: var(--fill-color);\n",
              "    }\n",
              "    60% {\n",
              "      border-color: transparent;\n",
              "      border-right-color: var(--fill-color);\n",
              "    }\n",
              "    80% {\n",
              "      border-color: transparent;\n",
              "      border-right-color: var(--fill-color);\n",
              "      border-bottom-color: var(--fill-color);\n",
              "    }\n",
              "    90% {\n",
              "      border-color: transparent;\n",
              "      border-bottom-color: var(--fill-color);\n",
              "    }\n",
              "  }\n",
              "</style>\n",
              "\n",
              "  <script>\n",
              "    async function quickchart(key) {\n",
              "      const quickchartButtonEl =\n",
              "        document.querySelector('#' + key + ' button');\n",
              "      quickchartButtonEl.disabled = true;  // To prevent multiple clicks.\n",
              "      quickchartButtonEl.classList.add('colab-df-spinner');\n",
              "      try {\n",
              "        const charts = await google.colab.kernel.invokeFunction(\n",
              "            'suggestCharts', [key], {});\n",
              "      } catch (error) {\n",
              "        console.error('Error during call to suggestCharts:', error);\n",
              "      }\n",
              "      quickchartButtonEl.classList.remove('colab-df-spinner');\n",
              "      quickchartButtonEl.classList.add('colab-df-quickchart-complete');\n",
              "    }\n",
              "    (() => {\n",
              "      let quickchartButtonEl =\n",
              "        document.querySelector('#df-5932213d-254f-40be-9f96-317c2768e289 button');\n",
              "      quickchartButtonEl.style.display =\n",
              "        google.colab.kernel.accessAllowed ? 'block' : 'none';\n",
              "    })();\n",
              "  </script>\n",
              "</div>\n",
              "\n",
              "    </div>\n",
              "  </div>\n"
            ],
            "text/plain": [
              "         TrnsNo TrnsDate Customer Id Customer Name City Country ProdId  \\\n",
              "1048565     NaN      NaN         NaN           NaN  NaN     NaN    NaN   \n",
              "1048566     NaN      NaN         NaN           NaN  NaN     NaN    NaN   \n",
              "1048567     NaN      NaN         NaN           NaN  NaN     NaN    NaN   \n",
              "1048568     NaN      NaN         NaN           NaN  NaN     NaN    NaN   \n",
              "1048569     NaN      NaN         NaN           NaN  NaN     NaN    NaN   \n",
              "1048570     NaN      NaN         NaN           NaN  NaN     NaN    NaN   \n",
              "1048571     NaN      NaN         NaN           NaN  NaN     NaN    NaN   \n",
              "1048572     NaN      NaN         NaN           NaN  NaN     NaN    NaN   \n",
              "1048573     NaN      NaN         NaN           NaN  NaN     NaN    NaN   \n",
              "1048574     NaN      NaN         NaN           NaN  NaN     NaN    NaN   \n",
              "\n",
              "        ProdDesc Unit  Qty Rate Amount  \n",
              "1048565      NaN  NaN  NaN    0      0  \n",
              "1048566      NaN  NaN  NaN    0      0  \n",
              "1048567      NaN  NaN  NaN    0      0  \n",
              "1048568      NaN  NaN  NaN    0      0  \n",
              "1048569      NaN  NaN  NaN    0      0  \n",
              "1048570      NaN  NaN  NaN    0      0  \n",
              "1048571      NaN  NaN  NaN    0      0  \n",
              "1048572      NaN  NaN  NaN    0      0  \n",
              "1048573      NaN  NaN  NaN    0      0  \n",
              "1048574      NaN  NaN  NaN    0      0  "
            ]
          },
          "execution_count": 3,
          "metadata": {},
          "output_type": "execute_result"
        }
      ],
      "source": [
        "df.tail(10)"
      ]
    },
    {
      "cell_type": "markdown",
      "metadata": {
        "id": "zyLT-Yw4_8w8"
      },
      "source": [
        "# ***PREPROCESSED AND CLEANING THE DATA***"
      ]
    },
    {
      "cell_type": "code",
      "execution_count": 138,
      "metadata": {
        "colab": {
          "base_uri": "https://localhost:8080/"
        },
        "id": "lTjHsu6gs6B2",
        "outputId": "3ce7b0e2-2619-40e6-c681-ebd847b645d1"
      },
      "outputs": [
        {
          "ename": "KeyError",
          "evalue": "\"['TrnsNo', 'Customer Id', 'Customer Name', 'City', 'Country', 'Unit'] not found in axis\"",
          "output_type": "error",
          "traceback": [
            "\u001b[1;31m---------------------------------------------------------------------------\u001b[0m",
            "\u001b[1;31mKeyError\u001b[0m                                  Traceback (most recent call last)",
            "Cell \u001b[1;32mIn[138], line 2\u001b[0m\n\u001b[0;32m      1\u001b[0m \u001b[38;5;66;03m# Drop columns that are not relevant for sales prediction\u001b[39;00m\n\u001b[1;32m----> 2\u001b[0m df \u001b[38;5;241m=\u001b[39m \u001b[43mdf\u001b[49m\u001b[38;5;241;43m.\u001b[39;49m\u001b[43mdrop\u001b[49m\u001b[43m(\u001b[49m\u001b[43m[\u001b[49m\u001b[38;5;124;43m'\u001b[39;49m\u001b[38;5;124;43mTrnsNo\u001b[39;49m\u001b[38;5;124;43m'\u001b[39;49m\u001b[43m,\u001b[49m\u001b[43m \u001b[49m\u001b[38;5;124;43m'\u001b[39;49m\u001b[38;5;124;43mCustomer Id\u001b[39;49m\u001b[38;5;124;43m'\u001b[39;49m\u001b[43m,\u001b[49m\u001b[43m \u001b[49m\u001b[38;5;124;43m'\u001b[39;49m\u001b[38;5;124;43mCustomer Name\u001b[39;49m\u001b[38;5;124;43m'\u001b[39;49m\u001b[43m,\u001b[49m\u001b[43m \u001b[49m\u001b[38;5;124;43m'\u001b[39;49m\u001b[38;5;124;43mCity\u001b[39;49m\u001b[38;5;124;43m'\u001b[39;49m\u001b[43m,\u001b[49m\u001b[43m \u001b[49m\u001b[38;5;124;43m'\u001b[39;49m\u001b[38;5;124;43mCountry\u001b[39;49m\u001b[38;5;124;43m'\u001b[39;49m\u001b[43m,\u001b[49m\u001b[43m \u001b[49m\u001b[38;5;124;43m'\u001b[39;49m\u001b[38;5;124;43mUnit\u001b[39;49m\u001b[38;5;124;43m'\u001b[39;49m\u001b[43m,\u001b[49m\u001b[43m \u001b[49m\u001b[38;5;124;43m'\u001b[39;49m\u001b[38;5;124;43mAmount\u001b[39;49m\u001b[38;5;124;43m'\u001b[39;49m\u001b[43m]\u001b[49m\u001b[43m,\u001b[49m\u001b[43m \u001b[49m\u001b[43maxis\u001b[49m\u001b[38;5;241;43m=\u001b[39;49m\u001b[38;5;241;43m1\u001b[39;49m\u001b[43m)\u001b[49m\n\u001b[0;32m      3\u001b[0m df\u001b[38;5;241m.\u001b[39minfo()\n",
            "File \u001b[1;32mc:\\syeda aliza arshad\\project\\myenv\\Lib\\site-packages\\pandas\\core\\frame.py:5581\u001b[0m, in \u001b[0;36mDataFrame.drop\u001b[1;34m(self, labels, axis, index, columns, level, inplace, errors)\u001b[0m\n\u001b[0;32m   5433\u001b[0m \u001b[38;5;28;01mdef\u001b[39;00m\u001b[38;5;250m \u001b[39m\u001b[38;5;21mdrop\u001b[39m(\n\u001b[0;32m   5434\u001b[0m     \u001b[38;5;28mself\u001b[39m,\n\u001b[0;32m   5435\u001b[0m     labels: IndexLabel \u001b[38;5;241m|\u001b[39m \u001b[38;5;28;01mNone\u001b[39;00m \u001b[38;5;241m=\u001b[39m \u001b[38;5;28;01mNone\u001b[39;00m,\n\u001b[1;32m   (...)\u001b[0m\n\u001b[0;32m   5442\u001b[0m     errors: IgnoreRaise \u001b[38;5;241m=\u001b[39m \u001b[38;5;124m\"\u001b[39m\u001b[38;5;124mraise\u001b[39m\u001b[38;5;124m\"\u001b[39m,\n\u001b[0;32m   5443\u001b[0m ) \u001b[38;5;241m-\u001b[39m\u001b[38;5;241m>\u001b[39m DataFrame \u001b[38;5;241m|\u001b[39m \u001b[38;5;28;01mNone\u001b[39;00m:\n\u001b[0;32m   5444\u001b[0m \u001b[38;5;250m    \u001b[39m\u001b[38;5;124;03m\"\"\"\u001b[39;00m\n\u001b[0;32m   5445\u001b[0m \u001b[38;5;124;03m    Drop specified labels from rows or columns.\u001b[39;00m\n\u001b[0;32m   5446\u001b[0m \n\u001b[1;32m   (...)\u001b[0m\n\u001b[0;32m   5579\u001b[0m \u001b[38;5;124;03m            weight  1.0     0.8\u001b[39;00m\n\u001b[0;32m   5580\u001b[0m \u001b[38;5;124;03m    \"\"\"\u001b[39;00m\n\u001b[1;32m-> 5581\u001b[0m     \u001b[38;5;28;01mreturn\u001b[39;00m \u001b[38;5;28;43msuper\u001b[39;49m\u001b[43m(\u001b[49m\u001b[43m)\u001b[49m\u001b[38;5;241;43m.\u001b[39;49m\u001b[43mdrop\u001b[49m\u001b[43m(\u001b[49m\n\u001b[0;32m   5582\u001b[0m \u001b[43m        \u001b[49m\u001b[43mlabels\u001b[49m\u001b[38;5;241;43m=\u001b[39;49m\u001b[43mlabels\u001b[49m\u001b[43m,\u001b[49m\n\u001b[0;32m   5583\u001b[0m \u001b[43m        \u001b[49m\u001b[43maxis\u001b[49m\u001b[38;5;241;43m=\u001b[39;49m\u001b[43maxis\u001b[49m\u001b[43m,\u001b[49m\n\u001b[0;32m   5584\u001b[0m \u001b[43m        \u001b[49m\u001b[43mindex\u001b[49m\u001b[38;5;241;43m=\u001b[39;49m\u001b[43mindex\u001b[49m\u001b[43m,\u001b[49m\n\u001b[0;32m   5585\u001b[0m \u001b[43m        \u001b[49m\u001b[43mcolumns\u001b[49m\u001b[38;5;241;43m=\u001b[39;49m\u001b[43mcolumns\u001b[49m\u001b[43m,\u001b[49m\n\u001b[0;32m   5586\u001b[0m \u001b[43m        \u001b[49m\u001b[43mlevel\u001b[49m\u001b[38;5;241;43m=\u001b[39;49m\u001b[43mlevel\u001b[49m\u001b[43m,\u001b[49m\n\u001b[0;32m   5587\u001b[0m \u001b[43m        \u001b[49m\u001b[43minplace\u001b[49m\u001b[38;5;241;43m=\u001b[39;49m\u001b[43minplace\u001b[49m\u001b[43m,\u001b[49m\n\u001b[0;32m   5588\u001b[0m \u001b[43m        \u001b[49m\u001b[43merrors\u001b[49m\u001b[38;5;241;43m=\u001b[39;49m\u001b[43merrors\u001b[49m\u001b[43m,\u001b[49m\n\u001b[0;32m   5589\u001b[0m \u001b[43m    \u001b[49m\u001b[43m)\u001b[49m\n",
            "File \u001b[1;32mc:\\syeda aliza arshad\\project\\myenv\\Lib\\site-packages\\pandas\\core\\generic.py:4788\u001b[0m, in \u001b[0;36mNDFrame.drop\u001b[1;34m(self, labels, axis, index, columns, level, inplace, errors)\u001b[0m\n\u001b[0;32m   4786\u001b[0m \u001b[38;5;28;01mfor\u001b[39;00m axis, labels \u001b[38;5;129;01min\u001b[39;00m axes\u001b[38;5;241m.\u001b[39mitems():\n\u001b[0;32m   4787\u001b[0m     \u001b[38;5;28;01mif\u001b[39;00m labels \u001b[38;5;129;01mis\u001b[39;00m \u001b[38;5;129;01mnot\u001b[39;00m \u001b[38;5;28;01mNone\u001b[39;00m:\n\u001b[1;32m-> 4788\u001b[0m         obj \u001b[38;5;241m=\u001b[39m \u001b[43mobj\u001b[49m\u001b[38;5;241;43m.\u001b[39;49m\u001b[43m_drop_axis\u001b[49m\u001b[43m(\u001b[49m\u001b[43mlabels\u001b[49m\u001b[43m,\u001b[49m\u001b[43m \u001b[49m\u001b[43maxis\u001b[49m\u001b[43m,\u001b[49m\u001b[43m \u001b[49m\u001b[43mlevel\u001b[49m\u001b[38;5;241;43m=\u001b[39;49m\u001b[43mlevel\u001b[49m\u001b[43m,\u001b[49m\u001b[43m \u001b[49m\u001b[43merrors\u001b[49m\u001b[38;5;241;43m=\u001b[39;49m\u001b[43merrors\u001b[49m\u001b[43m)\u001b[49m\n\u001b[0;32m   4790\u001b[0m \u001b[38;5;28;01mif\u001b[39;00m inplace:\n\u001b[0;32m   4791\u001b[0m     \u001b[38;5;28mself\u001b[39m\u001b[38;5;241m.\u001b[39m_update_inplace(obj)\n",
            "File \u001b[1;32mc:\\syeda aliza arshad\\project\\myenv\\Lib\\site-packages\\pandas\\core\\generic.py:4830\u001b[0m, in \u001b[0;36mNDFrame._drop_axis\u001b[1;34m(self, labels, axis, level, errors, only_slice)\u001b[0m\n\u001b[0;32m   4828\u001b[0m         new_axis \u001b[38;5;241m=\u001b[39m axis\u001b[38;5;241m.\u001b[39mdrop(labels, level\u001b[38;5;241m=\u001b[39mlevel, errors\u001b[38;5;241m=\u001b[39merrors)\n\u001b[0;32m   4829\u001b[0m     \u001b[38;5;28;01melse\u001b[39;00m:\n\u001b[1;32m-> 4830\u001b[0m         new_axis \u001b[38;5;241m=\u001b[39m \u001b[43maxis\u001b[49m\u001b[38;5;241;43m.\u001b[39;49m\u001b[43mdrop\u001b[49m\u001b[43m(\u001b[49m\u001b[43mlabels\u001b[49m\u001b[43m,\u001b[49m\u001b[43m \u001b[49m\u001b[43merrors\u001b[49m\u001b[38;5;241;43m=\u001b[39;49m\u001b[43merrors\u001b[49m\u001b[43m)\u001b[49m\n\u001b[0;32m   4831\u001b[0m     indexer \u001b[38;5;241m=\u001b[39m axis\u001b[38;5;241m.\u001b[39mget_indexer(new_axis)\n\u001b[0;32m   4833\u001b[0m \u001b[38;5;66;03m# Case for non-unique axis\u001b[39;00m\n\u001b[0;32m   4834\u001b[0m \u001b[38;5;28;01melse\u001b[39;00m:\n",
            "File \u001b[1;32mc:\\syeda aliza arshad\\project\\myenv\\Lib\\site-packages\\pandas\\core\\indexes\\base.py:7070\u001b[0m, in \u001b[0;36mIndex.drop\u001b[1;34m(self, labels, errors)\u001b[0m\n\u001b[0;32m   7068\u001b[0m \u001b[38;5;28;01mif\u001b[39;00m mask\u001b[38;5;241m.\u001b[39many():\n\u001b[0;32m   7069\u001b[0m     \u001b[38;5;28;01mif\u001b[39;00m errors \u001b[38;5;241m!=\u001b[39m \u001b[38;5;124m\"\u001b[39m\u001b[38;5;124mignore\u001b[39m\u001b[38;5;124m\"\u001b[39m:\n\u001b[1;32m-> 7070\u001b[0m         \u001b[38;5;28;01mraise\u001b[39;00m \u001b[38;5;167;01mKeyError\u001b[39;00m(\u001b[38;5;124mf\u001b[39m\u001b[38;5;124m\"\u001b[39m\u001b[38;5;132;01m{\u001b[39;00mlabels[mask]\u001b[38;5;241m.\u001b[39mtolist()\u001b[38;5;132;01m}\u001b[39;00m\u001b[38;5;124m not found in axis\u001b[39m\u001b[38;5;124m\"\u001b[39m)\n\u001b[0;32m   7071\u001b[0m     indexer \u001b[38;5;241m=\u001b[39m indexer[\u001b[38;5;241m~\u001b[39mmask]\n\u001b[0;32m   7072\u001b[0m \u001b[38;5;28;01mreturn\u001b[39;00m \u001b[38;5;28mself\u001b[39m\u001b[38;5;241m.\u001b[39mdelete(indexer)\n",
            "\u001b[1;31mKeyError\u001b[0m: \"['TrnsNo', 'Customer Id', 'Customer Name', 'City', 'Country', 'Unit'] not found in axis\""
          ]
        }
      ],
      "source": [
        "# Drop columns that are not relevant for sales prediction\n",
        "df = df.drop(['TrnsNo', 'Customer Id', 'Customer Name', 'City', 'Country', 'Unit', 'Amount'], axis=1)\n",
        "df.info()"
      ]
    },
    {
      "cell_type": "code",
      "execution_count": 6,
      "metadata": {
        "colab": {
          "base_uri": "https://localhost:8080/",
          "height": 362
        },
        "id": "BpRWvEEC5eoJ",
        "outputId": "70276e16-3395-4804-99f4-5fe1b78e95a3"
      },
      "outputs": [
        {
          "data": {
            "text/html": [
              "<div>\n",
              "<style scoped>\n",
              "    .dataframe tbody tr th:only-of-type {\n",
              "        vertical-align: middle;\n",
              "    }\n",
              "\n",
              "    .dataframe tbody tr th {\n",
              "        vertical-align: top;\n",
              "    }\n",
              "\n",
              "    .dataframe thead th {\n",
              "        text-align: right;\n",
              "    }\n",
              "</style>\n",
              "<table border=\"1\" class=\"dataframe\">\n",
              "  <thead>\n",
              "    <tr style=\"text-align: right;\">\n",
              "      <th></th>\n",
              "      <th>TrnsDate</th>\n",
              "      <th>ProdId</th>\n",
              "      <th>ProdDesc</th>\n",
              "      <th>Qty</th>\n",
              "      <th>Rate</th>\n",
              "    </tr>\n",
              "  </thead>\n",
              "  <tbody>\n",
              "    <tr>\n",
              "      <th>0</th>\n",
              "      <td>02-08-2023</td>\n",
              "      <td>04-0003</td>\n",
              "      <td>Accounts Plus Maintenance Charges</td>\n",
              "      <td>1.0</td>\n",
              "      <td>2.857142857</td>\n",
              "    </tr>\n",
              "    <tr>\n",
              "      <th>1</th>\n",
              "      <td>02-08-2023</td>\n",
              "      <td>04-0003</td>\n",
              "      <td>Accounts Plus Maintenance Charges</td>\n",
              "      <td>1.0</td>\n",
              "      <td>2.857142857</td>\n",
              "    </tr>\n",
              "    <tr>\n",
              "      <th>2</th>\n",
              "      <td>02-08-2023</td>\n",
              "      <td>04-0003</td>\n",
              "      <td>Accounts Plus Maintenance Charges</td>\n",
              "      <td>1.0</td>\n",
              "      <td>128565.7143</td>\n",
              "    </tr>\n",
              "    <tr>\n",
              "      <th>3</th>\n",
              "      <td>08-08-2023</td>\n",
              "      <td>04-0008</td>\n",
              "      <td>Accounts Plus Business Suite</td>\n",
              "      <td>1.0</td>\n",
              "      <td>131428.5714</td>\n",
              "    </tr>\n",
              "    <tr>\n",
              "      <th>4</th>\n",
              "      <td>13-09-2023</td>\n",
              "      <td>04-0008</td>\n",
              "      <td>Accounts Plus Business Suite</td>\n",
              "      <td>1.0</td>\n",
              "      <td>2.857142857</td>\n",
              "    </tr>\n",
              "    <tr>\n",
              "      <th>5</th>\n",
              "      <td>13-09-2023</td>\n",
              "      <td>04-0008</td>\n",
              "      <td>Accounts Plus Business Suite</td>\n",
              "      <td>1.0</td>\n",
              "      <td>57142.85714</td>\n",
              "    </tr>\n",
              "    <tr>\n",
              "      <th>6</th>\n",
              "      <td>13-09-2023</td>\n",
              "      <td>04-0008</td>\n",
              "      <td>Accounts Plus Business Suite</td>\n",
              "      <td>1.0</td>\n",
              "      <td>100000</td>\n",
              "    </tr>\n",
              "    <tr>\n",
              "      <th>7</th>\n",
              "      <td>13-09-2023</td>\n",
              "      <td>04-0008</td>\n",
              "      <td>Accounts Plus Business Suite</td>\n",
              "      <td>1.0</td>\n",
              "      <td>2.857142857</td>\n",
              "    </tr>\n",
              "    <tr>\n",
              "      <th>8</th>\n",
              "      <td>13-09-2023</td>\n",
              "      <td>04-0008</td>\n",
              "      <td>Accounts Plus Business Suite</td>\n",
              "      <td>1.0</td>\n",
              "      <td>100000</td>\n",
              "    </tr>\n",
              "    <tr>\n",
              "      <th>9</th>\n",
              "      <td>13-09-2023</td>\n",
              "      <td>04-0008</td>\n",
              "      <td>Accounts Plus Business Suite</td>\n",
              "      <td>1.0</td>\n",
              "      <td>2.857142857</td>\n",
              "    </tr>\n",
              "  </tbody>\n",
              "</table>\n",
              "</div>"
            ],
            "text/plain": [
              "     TrnsDate   ProdId                           ProdDesc  Qty         Rate\n",
              "0  02-08-2023  04-0003  Accounts Plus Maintenance Charges  1.0  2.857142857\n",
              "1  02-08-2023  04-0003  Accounts Plus Maintenance Charges  1.0  2.857142857\n",
              "2  02-08-2023  04-0003  Accounts Plus Maintenance Charges  1.0  128565.7143\n",
              "3  08-08-2023  04-0008       Accounts Plus Business Suite  1.0  131428.5714\n",
              "4  13-09-2023  04-0008       Accounts Plus Business Suite  1.0  2.857142857\n",
              "5  13-09-2023  04-0008       Accounts Plus Business Suite  1.0  57142.85714\n",
              "6  13-09-2023  04-0008       Accounts Plus Business Suite  1.0       100000\n",
              "7  13-09-2023  04-0008       Accounts Plus Business Suite  1.0  2.857142857\n",
              "8  13-09-2023  04-0008       Accounts Plus Business Suite  1.0       100000\n",
              "9  13-09-2023  04-0008       Accounts Plus Business Suite  1.0  2.857142857"
            ]
          },
          "execution_count": 6,
          "metadata": {},
          "output_type": "execute_result"
        }
      ],
      "source": [
        "df.head(10)"
      ]
    },
    {
      "cell_type": "code",
      "execution_count": 17,
      "metadata": {},
      "outputs": [
        {
          "data": {
            "text/html": [
              "<div>\n",
              "<style scoped>\n",
              "    .dataframe tbody tr th:only-of-type {\n",
              "        vertical-align: middle;\n",
              "    }\n",
              "\n",
              "    .dataframe tbody tr th {\n",
              "        vertical-align: top;\n",
              "    }\n",
              "\n",
              "    .dataframe thead th {\n",
              "        text-align: right;\n",
              "    }\n",
              "</style>\n",
              "<table border=\"1\" class=\"dataframe\">\n",
              "  <thead>\n",
              "    <tr style=\"text-align: right;\">\n",
              "      <th></th>\n",
              "      <th>TrnsDate</th>\n",
              "      <th>ProdId</th>\n",
              "      <th>ProdDesc</th>\n",
              "      <th>Qty</th>\n",
              "      <th>Rate</th>\n",
              "    </tr>\n",
              "  </thead>\n",
              "  <tbody>\n",
              "    <tr>\n",
              "      <th>1048565</th>\n",
              "      <td>NaN</td>\n",
              "      <td>NaN</td>\n",
              "      <td>NaN</td>\n",
              "      <td>NaN</td>\n",
              "      <td>0</td>\n",
              "    </tr>\n",
              "    <tr>\n",
              "      <th>1048566</th>\n",
              "      <td>NaN</td>\n",
              "      <td>NaN</td>\n",
              "      <td>NaN</td>\n",
              "      <td>NaN</td>\n",
              "      <td>0</td>\n",
              "    </tr>\n",
              "    <tr>\n",
              "      <th>1048567</th>\n",
              "      <td>NaN</td>\n",
              "      <td>NaN</td>\n",
              "      <td>NaN</td>\n",
              "      <td>NaN</td>\n",
              "      <td>0</td>\n",
              "    </tr>\n",
              "    <tr>\n",
              "      <th>1048568</th>\n",
              "      <td>NaN</td>\n",
              "      <td>NaN</td>\n",
              "      <td>NaN</td>\n",
              "      <td>NaN</td>\n",
              "      <td>0</td>\n",
              "    </tr>\n",
              "    <tr>\n",
              "      <th>1048569</th>\n",
              "      <td>NaN</td>\n",
              "      <td>NaN</td>\n",
              "      <td>NaN</td>\n",
              "      <td>NaN</td>\n",
              "      <td>0</td>\n",
              "    </tr>\n",
              "    <tr>\n",
              "      <th>1048570</th>\n",
              "      <td>NaN</td>\n",
              "      <td>NaN</td>\n",
              "      <td>NaN</td>\n",
              "      <td>NaN</td>\n",
              "      <td>0</td>\n",
              "    </tr>\n",
              "    <tr>\n",
              "      <th>1048571</th>\n",
              "      <td>NaN</td>\n",
              "      <td>NaN</td>\n",
              "      <td>NaN</td>\n",
              "      <td>NaN</td>\n",
              "      <td>0</td>\n",
              "    </tr>\n",
              "    <tr>\n",
              "      <th>1048572</th>\n",
              "      <td>NaN</td>\n",
              "      <td>NaN</td>\n",
              "      <td>NaN</td>\n",
              "      <td>NaN</td>\n",
              "      <td>0</td>\n",
              "    </tr>\n",
              "    <tr>\n",
              "      <th>1048573</th>\n",
              "      <td>NaN</td>\n",
              "      <td>NaN</td>\n",
              "      <td>NaN</td>\n",
              "      <td>NaN</td>\n",
              "      <td>0</td>\n",
              "    </tr>\n",
              "    <tr>\n",
              "      <th>1048574</th>\n",
              "      <td>NaN</td>\n",
              "      <td>NaN</td>\n",
              "      <td>NaN</td>\n",
              "      <td>NaN</td>\n",
              "      <td>0</td>\n",
              "    </tr>\n",
              "  </tbody>\n",
              "</table>\n",
              "</div>"
            ],
            "text/plain": [
              "        TrnsDate ProdId ProdDesc  Qty Rate\n",
              "1048565      NaN    NaN      NaN  NaN    0\n",
              "1048566      NaN    NaN      NaN  NaN    0\n",
              "1048567      NaN    NaN      NaN  NaN    0\n",
              "1048568      NaN    NaN      NaN  NaN    0\n",
              "1048569      NaN    NaN      NaN  NaN    0\n",
              "1048570      NaN    NaN      NaN  NaN    0\n",
              "1048571      NaN    NaN      NaN  NaN    0\n",
              "1048572      NaN    NaN      NaN  NaN    0\n",
              "1048573      NaN    NaN      NaN  NaN    0\n",
              "1048574      NaN    NaN      NaN  NaN    0"
            ]
          },
          "execution_count": 17,
          "metadata": {},
          "output_type": "execute_result"
        }
      ],
      "source": [
        "df.tail(10)"
      ]
    },
    {
      "cell_type": "code",
      "execution_count": 12,
      "metadata": {
        "colab": {
          "base_uri": "https://localhost:8080/",
          "height": 206
        },
        "id": "MjQ_ZVlIuwhE",
        "outputId": "6054f970-4562-4aea-b853-208e24b1e308"
      },
      "outputs": [
        {
          "data": {
            "text/html": [
              "<div>\n",
              "<style scoped>\n",
              "    .dataframe tbody tr th:only-of-type {\n",
              "        vertical-align: middle;\n",
              "    }\n",
              "\n",
              "    .dataframe tbody tr th {\n",
              "        vertical-align: top;\n",
              "    }\n",
              "\n",
              "    .dataframe thead th {\n",
              "        text-align: right;\n",
              "    }\n",
              "</style>\n",
              "<table border=\"1\" class=\"dataframe\">\n",
              "  <thead>\n",
              "    <tr style=\"text-align: right;\">\n",
              "      <th></th>\n",
              "      <th>TrnsDate</th>\n",
              "      <th>ProdId</th>\n",
              "      <th>ProdDesc</th>\n",
              "      <th>Qty</th>\n",
              "      <th>Rate</th>\n",
              "    </tr>\n",
              "  </thead>\n",
              "  <tbody>\n",
              "    <tr>\n",
              "      <th>1048570</th>\n",
              "      <td>29-06-2024</td>\n",
              "      <td>NaN</td>\n",
              "      <td>Accounts Plus Business Suite</td>\n",
              "      <td>12.0</td>\n",
              "      <td>0</td>\n",
              "    </tr>\n",
              "    <tr>\n",
              "      <th>1048571</th>\n",
              "      <td>29-06-2024</td>\n",
              "      <td>NaN</td>\n",
              "      <td>Accounts Plus Business Suite</td>\n",
              "      <td>12.0</td>\n",
              "      <td>0</td>\n",
              "    </tr>\n",
              "    <tr>\n",
              "      <th>1048572</th>\n",
              "      <td>29-06-2024</td>\n",
              "      <td>NaN</td>\n",
              "      <td>Accounts Plus Business Suite</td>\n",
              "      <td>12.0</td>\n",
              "      <td>0</td>\n",
              "    </tr>\n",
              "    <tr>\n",
              "      <th>1048573</th>\n",
              "      <td>29-06-2024</td>\n",
              "      <td>NaN</td>\n",
              "      <td>Accounts Plus Business Suite</td>\n",
              "      <td>12.0</td>\n",
              "      <td>0</td>\n",
              "    </tr>\n",
              "    <tr>\n",
              "      <th>1048574</th>\n",
              "      <td>29-06-2024</td>\n",
              "      <td>NaN</td>\n",
              "      <td>Accounts Plus Business Suite</td>\n",
              "      <td>12.0</td>\n",
              "      <td>0</td>\n",
              "    </tr>\n",
              "  </tbody>\n",
              "</table>\n",
              "</div>"
            ],
            "text/plain": [
              "           TrnsDate ProdId                      ProdDesc   Qty Rate\n",
              "1048570  29-06-2024    NaN  Accounts Plus Business Suite  12.0    0\n",
              "1048571  29-06-2024    NaN  Accounts Plus Business Suite  12.0    0\n",
              "1048572  29-06-2024    NaN  Accounts Plus Business Suite  12.0    0\n",
              "1048573  29-06-2024    NaN  Accounts Plus Business Suite  12.0    0\n",
              "1048574  29-06-2024    NaN  Accounts Plus Business Suite  12.0    0"
            ]
          },
          "execution_count": 12,
          "metadata": {},
          "output_type": "execute_result"
        }
      ],
      "source": [
        "df.tail(5)"
      ]
    },
    {
      "cell_type": "code",
      "execution_count": 139,
      "metadata": {
        "colab": {
          "base_uri": "https://localhost:8080/"
        },
        "id": "12Z10rGvvBdL",
        "outputId": "679da177-9965-467c-8ef4-c693866d1d6e"
      },
      "outputs": [
        {
          "name": "stdout",
          "output_type": "stream",
          "text": [
            "Empty DataFrame\n",
            "Columns: [TrnsDate, ProdId, ProdDesc, Qty, Rate, Amount]\n",
            "Index: []\n"
          ]
        }
      ],
      "source": [
        "missing_rows = df[df['ProdId'].isnull()]\n",
        "\n",
        "print(missing_rows)"
      ]
    },
    {
      "cell_type": "markdown",
      "metadata": {},
      "source": [
        "Replacing new unique values of 'ProdId' which is increasing accordingly"
      ]
    },
    {
      "cell_type": "code",
      "execution_count": 125,
      "metadata": {
        "colab": {
          "base_uri": "https://localhost:8080/"
        },
        "id": "Ql2qULaYvsu8",
        "outputId": "ca920c9c-676b-4cb1-e0f4-d3515cd6e538"
      },
      "outputs": [
        {
          "name": "stdout",
          "output_type": "stream",
          "text": [
            "           TrnsDate   ProdId                           ProdDesc  Qty  \\\n",
            "0        02-08-2023      100  Accounts Plus Maintenance Charges  1.0   \n",
            "1        02-08-2023      101  Accounts Plus Maintenance Charges  1.0   \n",
            "2        02-08-2023      102  Accounts Plus Maintenance Charges  1.0   \n",
            "3        08-08-2023      103       Accounts Plus Business Suite  1.0   \n",
            "4        13-09-2023      104       Accounts Plus Business Suite  1.0   \n",
            "...             ...      ...                                ...  ...   \n",
            "1048570         NaN  1048670                                NaN  NaN   \n",
            "1048571         NaN  1048671                                NaN  NaN   \n",
            "1048572         NaN  1048672                                NaN  NaN   \n",
            "1048573         NaN  1048673                                NaN  NaN   \n",
            "1048574         NaN  1048674                                NaN  NaN   \n",
            "\n",
            "                Rate  \n",
            "0        2.857142857  \n",
            "1        2.857142857  \n",
            "2        128565.7143  \n",
            "3        131428.5714  \n",
            "4        2.857142857  \n",
            "...              ...  \n",
            "1048570            0  \n",
            "1048571            0  \n",
            "1048572            0  \n",
            "1048573            0  \n",
            "1048574            0  \n",
            "\n",
            "[1048575 rows x 5 columns]\n"
          ]
        }
      ],
      "source": [
        "# Start value for new ProdId values\n",
        "start_value = 100\n",
        "\n",
        "# Generate sequential numbers for the entire column\n",
        "df['ProdId'] = range(start_value, start_value + len(df))\n",
        "\n",
        "print(df)\n"
      ]
    },
    {
      "cell_type": "code",
      "execution_count": null,
      "metadata": {
        "colab": {
          "base_uri": "https://localhost:8080/",
          "height": 362
        },
        "id": "4fNN6hLRvxpC",
        "outputId": "800e3315-ee73-4e3a-f769-0abcb9689075"
      },
      "outputs": [
        {
          "data": {
            "application/vnd.google.colaboratory.intrinsic+json": {
              "repr_error": "0",
              "type": "dataframe"
            },
            "text/html": [
              "\n",
              "  <div id=\"df-5f838328-acb1-4392-b384-1db146c19cff\" class=\"colab-df-container\">\n",
              "    <div>\n",
              "<style scoped>\n",
              "    .dataframe tbody tr th:only-of-type {\n",
              "        vertical-align: middle;\n",
              "    }\n",
              "\n",
              "    .dataframe tbody tr th {\n",
              "        vertical-align: top;\n",
              "    }\n",
              "\n",
              "    .dataframe thead th {\n",
              "        text-align: right;\n",
              "    }\n",
              "</style>\n",
              "<table border=\"1\" class=\"dataframe\">\n",
              "  <thead>\n",
              "    <tr style=\"text-align: right;\">\n",
              "      <th></th>\n",
              "      <th>TrnsDate</th>\n",
              "      <th>ProdId</th>\n",
              "      <th>ProdDesc</th>\n",
              "      <th>Qty</th>\n",
              "      <th>Rate</th>\n",
              "    </tr>\n",
              "  </thead>\n",
              "  <tbody>\n",
              "    <tr>\n",
              "      <th>1048565</th>\n",
              "      <td>29-06-2024</td>\n",
              "      <td>1048665</td>\n",
              "      <td>Accounts Plus Business Suite</td>\n",
              "      <td>12.0</td>\n",
              "      <td>0</td>\n",
              "    </tr>\n",
              "    <tr>\n",
              "      <th>1048566</th>\n",
              "      <td>29-06-2024</td>\n",
              "      <td>1048666</td>\n",
              "      <td>Accounts Plus Business Suite</td>\n",
              "      <td>12.0</td>\n",
              "      <td>0</td>\n",
              "    </tr>\n",
              "    <tr>\n",
              "      <th>1048567</th>\n",
              "      <td>29-06-2024</td>\n",
              "      <td>1048667</td>\n",
              "      <td>Accounts Plus Business Suite</td>\n",
              "      <td>12.0</td>\n",
              "      <td>0</td>\n",
              "    </tr>\n",
              "    <tr>\n",
              "      <th>1048568</th>\n",
              "      <td>29-06-2024</td>\n",
              "      <td>1048668</td>\n",
              "      <td>Accounts Plus Business Suite</td>\n",
              "      <td>12.0</td>\n",
              "      <td>0</td>\n",
              "    </tr>\n",
              "    <tr>\n",
              "      <th>1048569</th>\n",
              "      <td>29-06-2024</td>\n",
              "      <td>1048669</td>\n",
              "      <td>Accounts Plus Business Suite</td>\n",
              "      <td>12.0</td>\n",
              "      <td>0</td>\n",
              "    </tr>\n",
              "    <tr>\n",
              "      <th>1048570</th>\n",
              "      <td>29-06-2024</td>\n",
              "      <td>1048670</td>\n",
              "      <td>Accounts Plus Business Suite</td>\n",
              "      <td>12.0</td>\n",
              "      <td>0</td>\n",
              "    </tr>\n",
              "    <tr>\n",
              "      <th>1048571</th>\n",
              "      <td>29-06-2024</td>\n",
              "      <td>1048671</td>\n",
              "      <td>Accounts Plus Business Suite</td>\n",
              "      <td>12.0</td>\n",
              "      <td>0</td>\n",
              "    </tr>\n",
              "    <tr>\n",
              "      <th>1048572</th>\n",
              "      <td>29-06-2024</td>\n",
              "      <td>1048672</td>\n",
              "      <td>Accounts Plus Business Suite</td>\n",
              "      <td>12.0</td>\n",
              "      <td>0</td>\n",
              "    </tr>\n",
              "    <tr>\n",
              "      <th>1048573</th>\n",
              "      <td>29-06-2024</td>\n",
              "      <td>1048673</td>\n",
              "      <td>Accounts Plus Business Suite</td>\n",
              "      <td>12.0</td>\n",
              "      <td>0</td>\n",
              "    </tr>\n",
              "    <tr>\n",
              "      <th>1048574</th>\n",
              "      <td>29-06-2024</td>\n",
              "      <td>1048674</td>\n",
              "      <td>Accounts Plus Business Suite</td>\n",
              "      <td>12.0</td>\n",
              "      <td>0</td>\n",
              "    </tr>\n",
              "  </tbody>\n",
              "</table>\n",
              "</div>\n",
              "    <div class=\"colab-df-buttons\">\n",
              "\n",
              "  <div class=\"colab-df-container\">\n",
              "    <button class=\"colab-df-convert\" onclick=\"convertToInteractive('df-5f838328-acb1-4392-b384-1db146c19cff')\"\n",
              "            title=\"Convert this dataframe to an interactive table.\"\n",
              "            style=\"display:none;\">\n",
              "\n",
              "  <svg xmlns=\"http://www.w3.org/2000/svg\" height=\"24px\" viewBox=\"0 -960 960 960\">\n",
              "    <path d=\"M120-120v-720h720v720H120Zm60-500h600v-160H180v160Zm220 220h160v-160H400v160Zm0 220h160v-160H400v160ZM180-400h160v-160H180v160Zm440 0h160v-160H620v160ZM180-180h160v-160H180v160Zm440 0h160v-160H620v160Z\"/>\n",
              "  </svg>\n",
              "    </button>\n",
              "\n",
              "  <style>\n",
              "    .colab-df-container {\n",
              "      display:flex;\n",
              "      gap: 12px;\n",
              "    }\n",
              "\n",
              "    .colab-df-convert {\n",
              "      background-color: #E8F0FE;\n",
              "      border: none;\n",
              "      border-radius: 50%;\n",
              "      cursor: pointer;\n",
              "      display: none;\n",
              "      fill: #1967D2;\n",
              "      height: 32px;\n",
              "      padding: 0 0 0 0;\n",
              "      width: 32px;\n",
              "    }\n",
              "\n",
              "    .colab-df-convert:hover {\n",
              "      background-color: #E2EBFA;\n",
              "      box-shadow: 0px 1px 2px rgba(60, 64, 67, 0.3), 0px 1px 3px 1px rgba(60, 64, 67, 0.15);\n",
              "      fill: #174EA6;\n",
              "    }\n",
              "\n",
              "    .colab-df-buttons div {\n",
              "      margin-bottom: 4px;\n",
              "    }\n",
              "\n",
              "    [theme=dark] .colab-df-convert {\n",
              "      background-color: #3B4455;\n",
              "      fill: #D2E3FC;\n",
              "    }\n",
              "\n",
              "    [theme=dark] .colab-df-convert:hover {\n",
              "      background-color: #434B5C;\n",
              "      box-shadow: 0px 1px 3px 1px rgba(0, 0, 0, 0.15);\n",
              "      filter: drop-shadow(0px 1px 2px rgba(0, 0, 0, 0.3));\n",
              "      fill: #FFFFFF;\n",
              "    }\n",
              "  </style>\n",
              "\n",
              "    <script>\n",
              "      const buttonEl =\n",
              "        document.querySelector('#df-5f838328-acb1-4392-b384-1db146c19cff button.colab-df-convert');\n",
              "      buttonEl.style.display =\n",
              "        google.colab.kernel.accessAllowed ? 'block' : 'none';\n",
              "\n",
              "      async function convertToInteractive(key) {\n",
              "        const element = document.querySelector('#df-5f838328-acb1-4392-b384-1db146c19cff');\n",
              "        const dataTable =\n",
              "          await google.colab.kernel.invokeFunction('convertToInteractive',\n",
              "                                                    [key], {});\n",
              "        if (!dataTable) return;\n",
              "\n",
              "        const docLinkHtml = 'Like what you see? Visit the ' +\n",
              "          '<a target=\"_blank\" href=https://colab.research.google.com/notebooks/data_table.ipynb>data table notebook</a>'\n",
              "          + ' to learn more about interactive tables.';\n",
              "        element.innerHTML = '';\n",
              "        dataTable['output_type'] = 'display_data';\n",
              "        await google.colab.output.renderOutput(dataTable, element);\n",
              "        const docLink = document.createElement('div');\n",
              "        docLink.innerHTML = docLinkHtml;\n",
              "        element.appendChild(docLink);\n",
              "      }\n",
              "    </script>\n",
              "  </div>\n",
              "\n",
              "\n",
              "<div id=\"df-ab83f6b6-de8f-4b2f-b6d6-ba01fe3a5d55\">\n",
              "  <button class=\"colab-df-quickchart\" onclick=\"quickchart('df-ab83f6b6-de8f-4b2f-b6d6-ba01fe3a5d55')\"\n",
              "            title=\"Suggest charts\"\n",
              "            style=\"display:none;\">\n",
              "\n",
              "<svg xmlns=\"http://www.w3.org/2000/svg\" height=\"24px\"viewBox=\"0 0 24 24\"\n",
              "     width=\"24px\">\n",
              "    <g>\n",
              "        <path d=\"M19 3H5c-1.1 0-2 .9-2 2v14c0 1.1.9 2 2 2h14c1.1 0 2-.9 2-2V5c0-1.1-.9-2-2-2zM9 17H7v-7h2v7zm4 0h-2V7h2v10zm4 0h-2v-4h2v4z\"/>\n",
              "    </g>\n",
              "</svg>\n",
              "  </button>\n",
              "\n",
              "<style>\n",
              "  .colab-df-quickchart {\n",
              "      --bg-color: #E8F0FE;\n",
              "      --fill-color: #1967D2;\n",
              "      --hover-bg-color: #E2EBFA;\n",
              "      --hover-fill-color: #174EA6;\n",
              "      --disabled-fill-color: #AAA;\n",
              "      --disabled-bg-color: #DDD;\n",
              "  }\n",
              "\n",
              "  [theme=dark] .colab-df-quickchart {\n",
              "      --bg-color: #3B4455;\n",
              "      --fill-color: #D2E3FC;\n",
              "      --hover-bg-color: #434B5C;\n",
              "      --hover-fill-color: #FFFFFF;\n",
              "      --disabled-bg-color: #3B4455;\n",
              "      --disabled-fill-color: #666;\n",
              "  }\n",
              "\n",
              "  .colab-df-quickchart {\n",
              "    background-color: var(--bg-color);\n",
              "    border: none;\n",
              "    border-radius: 50%;\n",
              "    cursor: pointer;\n",
              "    display: none;\n",
              "    fill: var(--fill-color);\n",
              "    height: 32px;\n",
              "    padding: 0;\n",
              "    width: 32px;\n",
              "  }\n",
              "\n",
              "  .colab-df-quickchart:hover {\n",
              "    background-color: var(--hover-bg-color);\n",
              "    box-shadow: 0 1px 2px rgba(60, 64, 67, 0.3), 0 1px 3px 1px rgba(60, 64, 67, 0.15);\n",
              "    fill: var(--button-hover-fill-color);\n",
              "  }\n",
              "\n",
              "  .colab-df-quickchart-complete:disabled,\n",
              "  .colab-df-quickchart-complete:disabled:hover {\n",
              "    background-color: var(--disabled-bg-color);\n",
              "    fill: var(--disabled-fill-color);\n",
              "    box-shadow: none;\n",
              "  }\n",
              "\n",
              "  .colab-df-spinner {\n",
              "    border: 2px solid var(--fill-color);\n",
              "    border-color: transparent;\n",
              "    border-bottom-color: var(--fill-color);\n",
              "    animation:\n",
              "      spin 1s steps(1) infinite;\n",
              "  }\n",
              "\n",
              "  @keyframes spin {\n",
              "    0% {\n",
              "      border-color: transparent;\n",
              "      border-bottom-color: var(--fill-color);\n",
              "      border-left-color: var(--fill-color);\n",
              "    }\n",
              "    20% {\n",
              "      border-color: transparent;\n",
              "      border-left-color: var(--fill-color);\n",
              "      border-top-color: var(--fill-color);\n",
              "    }\n",
              "    30% {\n",
              "      border-color: transparent;\n",
              "      border-left-color: var(--fill-color);\n",
              "      border-top-color: var(--fill-color);\n",
              "      border-right-color: var(--fill-color);\n",
              "    }\n",
              "    40% {\n",
              "      border-color: transparent;\n",
              "      border-right-color: var(--fill-color);\n",
              "      border-top-color: var(--fill-color);\n",
              "    }\n",
              "    60% {\n",
              "      border-color: transparent;\n",
              "      border-right-color: var(--fill-color);\n",
              "    }\n",
              "    80% {\n",
              "      border-color: transparent;\n",
              "      border-right-color: var(--fill-color);\n",
              "      border-bottom-color: var(--fill-color);\n",
              "    }\n",
              "    90% {\n",
              "      border-color: transparent;\n",
              "      border-bottom-color: var(--fill-color);\n",
              "    }\n",
              "  }\n",
              "</style>\n",
              "\n",
              "  <script>\n",
              "    async function quickchart(key) {\n",
              "      const quickchartButtonEl =\n",
              "        document.querySelector('#' + key + ' button');\n",
              "      quickchartButtonEl.disabled = true;  // To prevent multiple clicks.\n",
              "      quickchartButtonEl.classList.add('colab-df-spinner');\n",
              "      try {\n",
              "        const charts = await google.colab.kernel.invokeFunction(\n",
              "            'suggestCharts', [key], {});\n",
              "      } catch (error) {\n",
              "        console.error('Error during call to suggestCharts:', error);\n",
              "      }\n",
              "      quickchartButtonEl.classList.remove('colab-df-spinner');\n",
              "      quickchartButtonEl.classList.add('colab-df-quickchart-complete');\n",
              "    }\n",
              "    (() => {\n",
              "      let quickchartButtonEl =\n",
              "        document.querySelector('#df-ab83f6b6-de8f-4b2f-b6d6-ba01fe3a5d55 button');\n",
              "      quickchartButtonEl.style.display =\n",
              "        google.colab.kernel.accessAllowed ? 'block' : 'none';\n",
              "    })();\n",
              "  </script>\n",
              "</div>\n",
              "\n",
              "    </div>\n",
              "  </div>\n"
            ],
            "text/plain": [
              "           TrnsDate   ProdId                      ProdDesc   Qty Rate\n",
              "1048565  29-06-2024  1048665  Accounts Plus Business Suite  12.0    0\n",
              "1048566  29-06-2024  1048666  Accounts Plus Business Suite  12.0    0\n",
              "1048567  29-06-2024  1048667  Accounts Plus Business Suite  12.0    0\n",
              "1048568  29-06-2024  1048668  Accounts Plus Business Suite  12.0    0\n",
              "1048569  29-06-2024  1048669  Accounts Plus Business Suite  12.0    0\n",
              "1048570  29-06-2024  1048670  Accounts Plus Business Suite  12.0    0\n",
              "1048571  29-06-2024  1048671  Accounts Plus Business Suite  12.0    0\n",
              "1048572  29-06-2024  1048672  Accounts Plus Business Suite  12.0    0\n",
              "1048573  29-06-2024  1048673  Accounts Plus Business Suite  12.0    0\n",
              "1048574  29-06-2024  1048674  Accounts Plus Business Suite  12.0    0"
            ]
          },
          "execution_count": 38,
          "metadata": {},
          "output_type": "execute_result"
        }
      ],
      "source": [
        "df.tail(10)"
      ]
    },
    {
      "cell_type": "markdown",
      "metadata": {
        "id": "s3aDOWR4q7GR"
      },
      "source": [
        "In **Step:1** the code command is used to remove rows where the 'ProdId' column contains missing values (NaN)."
      ]
    },
    {
      "cell_type": "code",
      "execution_count": 126,
      "metadata": {
        "id": "zaLFoozMtn1_"
      },
      "outputs": [],
      "source": [
        "# Drop rows with missing ProdId, ProdDesc\n",
        "df.dropna(subset=['ProdId'], inplace=True)\n",
        "df.dropna(subset=['ProdDesc'], inplace=True)"
      ]
    },
    {
      "cell_type": "markdown",
      "metadata": {
        "id": "rNzS5pHjqWxY"
      },
      "source": [
        "In **Step:2** code command is used to fill missing values (NaN) in the 'Qty' column with the average (mean) of the non-missing values in the same column."
      ]
    },
    {
      "cell_type": "code",
      "execution_count": 127,
      "metadata": {
        "id": "MiDX7PL5qY55"
      },
      "outputs": [],
      "source": [
        "# Step 3: Fill missing values in 'Qty' with the mean of the column\n",
        "df['Qty'] = df['Qty'].fillna(df['Qty'].mean())"
      ]
    },
    {
      "cell_type": "markdown",
      "metadata": {
        "id": "d_3dWdg2WzB_"
      },
      "source": [
        "If there is a 0 in the 'ProdDesc' or 'Qty' columns, it is not relevant for our predictions. Without knowing the product description and the quantity the client purchased, it is impossible to determine the rate. For accurate predictions, we need both the product description and the quantity."
      ]
    },
    {
      "cell_type": "code",
      "execution_count": 128,
      "metadata": {
        "id": "27T0TLOByIT5"
      },
      "outputs": [],
      "source": [
        " #Remove rows where 'ProdDesc' and 'Qty' are 0\n",
        "df = df[(df['ProdDesc'] != 0) & (df['Qty'] != 0)]\n"
      ]
    },
    {
      "cell_type": "markdown",
      "metadata": {},
      "source": [
        "# ***Converting ('ProdDesc') to Categorical type***\n",
        "\n",
        "Linear Regression rely on numbers, Categorical data,the (ProdDesc) column, are non-numeric making it impossible for linear regression to process them directly. So we have converted the 'ProdDesc' column to categorical data to analyze relationships between categorical features and numeric features (like 'Qty' and 'Rate')."
      ]
    },
    {
      "cell_type": "code",
      "execution_count": 129,
      "metadata": {},
      "outputs": [],
      "source": [
        "import pandas as pd\n",
        "from sklearn.preprocessing import LabelEncoder\n",
        "\n",
        "#Convert categorical columns ('ProdDesc') using Label Encoding\n",
        "label_encoder = LabelEncoder()\n",
        "df['ProdDesc'] = label_encoder.fit_transform(df['ProdDesc'])"
      ]
    },
    {
      "cell_type": "code",
      "execution_count": 38,
      "metadata": {
        "colab": {
          "base_uri": "https://localhost:8080/"
        },
        "id": "5sYJXShMR9O6",
        "outputId": "82e75b28-ccba-4f14-97ed-081fafbf93eb"
      },
      "outputs": [
        {
          "data": {
            "text/plain": [
              "np.int64(0)"
            ]
          },
          "execution_count": 38,
          "metadata": {},
          "output_type": "execute_result"
        }
      ],
      "source": [
        "df.duplicated().sum()"
      ]
    },
    {
      "cell_type": "code",
      "execution_count": 39,
      "metadata": {},
      "outputs": [
        {
          "data": {
            "text/html": [
              "<div>\n",
              "<style scoped>\n",
              "    .dataframe tbody tr th:only-of-type {\n",
              "        vertical-align: middle;\n",
              "    }\n",
              "\n",
              "    .dataframe tbody tr th {\n",
              "        vertical-align: top;\n",
              "    }\n",
              "\n",
              "    .dataframe thead th {\n",
              "        text-align: right;\n",
              "    }\n",
              "</style>\n",
              "<table border=\"1\" class=\"dataframe\">\n",
              "  <thead>\n",
              "    <tr style=\"text-align: right;\">\n",
              "      <th></th>\n",
              "      <th>TrnsDate</th>\n",
              "      <th>ProdId</th>\n",
              "      <th>ProdDesc</th>\n",
              "      <th>Qty</th>\n",
              "      <th>Rate</th>\n",
              "    </tr>\n",
              "  </thead>\n",
              "  <tbody>\n",
              "    <tr>\n",
              "      <th>171728</th>\n",
              "      <td>31-05-2019</td>\n",
              "      <td>171828</td>\n",
              "      <td>Contoso SLR Camera 35\" M358 Pink</td>\n",
              "      <td>700.0</td>\n",
              "      <td>128.571429</td>\n",
              "    </tr>\n",
              "    <tr>\n",
              "      <th>171729</th>\n",
              "      <td>29-06-2019</td>\n",
              "      <td>171829</td>\n",
              "      <td>The Phone Company Smart phones 160x160 M26 Grey</td>\n",
              "      <td>1.0</td>\n",
              "      <td>428571.4286</td>\n",
              "    </tr>\n",
              "    <tr>\n",
              "      <th>171730</th>\n",
              "      <td>29-06-2019</td>\n",
              "      <td>171830</td>\n",
              "      <td>Litware Home Theater System 5.1 Channel M515 B...</td>\n",
              "      <td>1.0</td>\n",
              "      <td>500000.0</td>\n",
              "    </tr>\n",
              "    <tr>\n",
              "      <th>171731</th>\n",
              "      <td>30-08-2018</td>\n",
              "      <td>171831</td>\n",
              "      <td>Litware Microwave 0.9CuFt E090 Grey</td>\n",
              "      <td>875.0</td>\n",
              "      <td>37.142857</td>\n",
              "    </tr>\n",
              "    <tr>\n",
              "      <th>171732</th>\n",
              "      <td>30-08-2018</td>\n",
              "      <td>171832</td>\n",
              "      <td>SV 22xDVD M600 Silver</td>\n",
              "      <td>680.0</td>\n",
              "      <td>37.142857</td>\n",
              "    </tr>\n",
              "  </tbody>\n",
              "</table>\n",
              "</div>"
            ],
            "text/plain": [
              "          TrnsDate  ProdId                                           ProdDesc  \\\n",
              "171728  31-05-2019  171828                   Contoso SLR Camera 35\" M358 Pink   \n",
              "171729  29-06-2019  171829    The Phone Company Smart phones 160x160 M26 Grey   \n",
              "171730  29-06-2019  171830  Litware Home Theater System 5.1 Channel M515 B...   \n",
              "171731  30-08-2018  171831                Litware Microwave 0.9CuFt E090 Grey   \n",
              "171732  30-08-2018  171832                              SV 22xDVD M600 Silver   \n",
              "\n",
              "          Qty         Rate  \n",
              "171728  700.0   128.571429  \n",
              "171729    1.0  428571.4286  \n",
              "171730    1.0     500000.0  \n",
              "171731  875.0    37.142857  \n",
              "171732  680.0    37.142857  "
            ]
          },
          "execution_count": 39,
          "metadata": {},
          "output_type": "execute_result"
        }
      ],
      "source": [
        "df.tail(5)"
      ]
    },
    {
      "cell_type": "markdown",
      "metadata": {
        "id": "kiZD-95PXpWY"
      },
      "source": [
        "Code to identify missing values (NaN) in the 'Rate' column for analysis and condition setting."
      ]
    },
    {
      "cell_type": "code",
      "execution_count": null,
      "metadata": {
        "colab": {
          "base_uri": "https://localhost:8080/"
        },
        "id": "zNn77Yv1SbrQ",
        "outputId": "8a400df5-8304-4e6c-89e4-9e6806f3df34"
      },
      "outputs": [
        {
          "name": "stdout",
          "output_type": "stream",
          "text": [
            "          TrnsDate           ProdId  \\\n",
            "131572  29-09-2020  2-01-02-01-0060   \n",
            "131769  30-01-2021  2-01-02-01-0054   \n",
            "131770  20-03-2021  2-01-02-01-0054   \n",
            "131771  18-02-2021  2-01-02-01-0054   \n",
            "131772  20-02-2021  2-01-02-01-0054   \n",
            "...            ...              ...   \n",
            "171687  12-04-2019  2-01-01-01-0021   \n",
            "171691  10-06-2019  2-01-01-01-0021   \n",
            "171693  14-06-2019  2-01-01-01-0021   \n",
            "171694  17-06-2019  2-01-01-01-0021   \n",
            "171695  18-06-2019  2-01-01-01-0021   \n",
            "\n",
            "                                                 ProdDesc      Qty Rate  \n",
            "131572  Contoso Home Theater System 5.1 Channel M1540 ...   1121.0  0.0  \n",
            "131769               SV DVD External DVD Burner M200 Blue  10200.0  0.0  \n",
            "131770  Contoso Cyber Shot Digital Cameras Adapter E30...  13500.0  0.0  \n",
            "131771                           WWI Chandelier M815 Blue   6000.0  0.0  \n",
            "131772  The Phone Company Touch Screen Phones 26-1.4\" ...  10200.0  0.0  \n",
            "...                                                   ...      ...  ...  \n",
            "171687  Litware Home Theater System 4.1 Channel M411 S...   2100.0  0.0  \n",
            "171691         Contoso Reserve Pen - Tablet Pen E200 Grey  15000.0  0.0  \n",
            "171693  The Phone Company PDA Handheld 3.7 inch M630 S...   2500.0  0.0  \n",
            "171694      A. Datum All in One Digital Camera M200 Azure   7500.0  0.0  \n",
            "171695                               SV 8xDVD E100 Silver   5000.0  0.0  \n",
            "\n",
            "[5584 rows x 5 columns]\n"
          ]
        }
      ],
      "source": [
        "# code to see the missing values of columns 'rate'\n",
        "\n",
        "filtered_df = df[(df['Rate'] == 0)]\n",
        "\n",
        "# Display the filtered DataFrame\n",
        "print(filtered_df)"
      ]
    },
    {
      "cell_type": "markdown",
      "metadata": {
        "id": "apLb-h79f9F4"
      },
      "source": [
        "Code to fill the lowest value of 10,000 where the 'Rate' column contains 0 and the 'Qty' column contains 1."
      ]
    },
    {
      "cell_type": "code",
      "execution_count": 140,
      "metadata": {
        "id": "AMqu9V0Hfmbz"
      },
      "outputs": [],
      "source": [
        "# Function to fill the lowest value of column rate as 10,000 of column qty 1\n",
        "def fill_rate(row):\n",
        "    if row['Qty'] == 1:\n",
        "        return 10000\n",
        "    else:\n",
        "        return row['Qty'] * 5000\n",
        "\n",
        "# Apply the function to the dataframe\n",
        "df['Rate'] = df.apply(fill_rate, axis=1)\n"
      ]
    },
    {
      "cell_type": "markdown",
      "metadata": {
        "id": "dD4URNPsIM-s"
      },
      "source": [
        "Converting 'TrnsDate' column to datetime format"
      ]
    },
    {
      "cell_type": "code",
      "execution_count": 136,
      "metadata": {
        "colab": {
          "base_uri": "https://localhost:8080/"
        },
        "id": "nNerv4A1I4st",
        "outputId": "2c124ae7-b36b-483c-d20e-872c436fd2ae"
      },
      "outputs": [
        {
          "name": "stdout",
          "output_type": "stream",
          "text": [
            "datetime64[ns]\n"
          ]
        }
      ],
      "source": [
        "# Step 1: Inspect the TrnsDate column\n",
        "print(df['TrnsDate'].dtypes)"
      ]
    },
    {
      "cell_type": "code",
      "execution_count": 131,
      "metadata": {
        "id": "LS15vkuWIkUd"
      },
      "outputs": [],
      "source": [
        "# Step 2: Convert TrnsDate to datetime format\n",
        "df['TrnsDate'] = pd.to_datetime(df['TrnsDate'], format='%d-%m-%Y', errors='coerce')"
      ]
    },
    {
      "cell_type": "code",
      "execution_count": 137,
      "metadata": {
        "colab": {
          "base_uri": "https://localhost:8080/"
        },
        "id": "e_v3himkSGuJ",
        "outputId": "89f7d36b-5677-4a34-fd88-792c6d4c01bd"
      },
      "outputs": [
        {
          "name": "stdout",
          "output_type": "stream",
          "text": [
            "Empty DataFrame\n",
            "Columns: [TrnsDate, ProdId, ProdDesc, Qty, Rate, Amount]\n",
            "Index: []\n"
          ]
        }
      ],
      "source": [
        "# Step 3: Check for NaT values after conversion\n",
        "nat_values = df[df['TrnsDate'].isna()]\n",
        "print(nat_values)"
      ]
    },
    {
      "cell_type": "code",
      "execution_count": 133,
      "metadata": {
        "colab": {
          "base_uri": "https://localhost:8080/",
          "height": 206
        },
        "id": "ZhtAsKqGUT8P",
        "outputId": "0cae8371-2b13-4bfa-bd9a-1836e9c1ba33"
      },
      "outputs": [
        {
          "data": {
            "text/html": [
              "<div>\n",
              "<style scoped>\n",
              "    .dataframe tbody tr th:only-of-type {\n",
              "        vertical-align: middle;\n",
              "    }\n",
              "\n",
              "    .dataframe tbody tr th {\n",
              "        vertical-align: top;\n",
              "    }\n",
              "\n",
              "    .dataframe thead th {\n",
              "        text-align: right;\n",
              "    }\n",
              "</style>\n",
              "<table border=\"1\" class=\"dataframe\">\n",
              "  <thead>\n",
              "    <tr style=\"text-align: right;\">\n",
              "      <th></th>\n",
              "      <th>TrnsDate</th>\n",
              "      <th>ProdId</th>\n",
              "      <th>ProdDesc</th>\n",
              "      <th>Qty</th>\n",
              "      <th>Rate</th>\n",
              "      <th>Amount</th>\n",
              "    </tr>\n",
              "  </thead>\n",
              "  <tbody>\n",
              "    <tr>\n",
              "      <th>0</th>\n",
              "      <td>2023-08-02</td>\n",
              "      <td>100</td>\n",
              "      <td>135</td>\n",
              "      <td>1.0</td>\n",
              "      <td>10000.0</td>\n",
              "      <td>10000.0</td>\n",
              "    </tr>\n",
              "    <tr>\n",
              "      <th>1</th>\n",
              "      <td>2023-08-02</td>\n",
              "      <td>101</td>\n",
              "      <td>135</td>\n",
              "      <td>1.0</td>\n",
              "      <td>10000.0</td>\n",
              "      <td>10000.0</td>\n",
              "    </tr>\n",
              "    <tr>\n",
              "      <th>2</th>\n",
              "      <td>2023-08-02</td>\n",
              "      <td>102</td>\n",
              "      <td>135</td>\n",
              "      <td>1.0</td>\n",
              "      <td>10000.0</td>\n",
              "      <td>10000.0</td>\n",
              "    </tr>\n",
              "    <tr>\n",
              "      <th>3</th>\n",
              "      <td>2023-08-08</td>\n",
              "      <td>103</td>\n",
              "      <td>134</td>\n",
              "      <td>1.0</td>\n",
              "      <td>10000.0</td>\n",
              "      <td>10000.0</td>\n",
              "    </tr>\n",
              "    <tr>\n",
              "      <th>4</th>\n",
              "      <td>2023-09-13</td>\n",
              "      <td>104</td>\n",
              "      <td>134</td>\n",
              "      <td>1.0</td>\n",
              "      <td>10000.0</td>\n",
              "      <td>10000.0</td>\n",
              "    </tr>\n",
              "  </tbody>\n",
              "</table>\n",
              "</div>"
            ],
            "text/plain": [
              "    TrnsDate  ProdId  ProdDesc  Qty     Rate   Amount\n",
              "0 2023-08-02     100       135  1.0  10000.0  10000.0\n",
              "1 2023-08-02     101       135  1.0  10000.0  10000.0\n",
              "2 2023-08-02     102       135  1.0  10000.0  10000.0\n",
              "3 2023-08-08     103       134  1.0  10000.0  10000.0\n",
              "4 2023-09-13     104       134  1.0  10000.0  10000.0"
            ]
          },
          "execution_count": 133,
          "metadata": {},
          "output_type": "execute_result"
        }
      ],
      "source": [
        "# Create 'Amount' Column\n",
        "df['Amount'] = df['Qty'] * df['Rate']\n",
        "df.head()"
      ]
    },
    {
      "cell_type": "code",
      "execution_count": 44,
      "metadata": {
        "colab": {
          "base_uri": "https://localhost:8080/",
          "height": 206
        },
        "id": "Au_OEXAtSlxj",
        "outputId": "bc75ebcd-e2af-40cc-e9ac-23bcaff5a051"
      },
      "outputs": [
        {
          "data": {
            "text/html": [
              "<div>\n",
              "<style scoped>\n",
              "    .dataframe tbody tr th:only-of-type {\n",
              "        vertical-align: middle;\n",
              "    }\n",
              "\n",
              "    .dataframe tbody tr th {\n",
              "        vertical-align: top;\n",
              "    }\n",
              "\n",
              "    .dataframe thead th {\n",
              "        text-align: right;\n",
              "    }\n",
              "</style>\n",
              "<table border=\"1\" class=\"dataframe\">\n",
              "  <thead>\n",
              "    <tr style=\"text-align: right;\">\n",
              "      <th></th>\n",
              "      <th>TrnsDate</th>\n",
              "      <th>ProdId</th>\n",
              "      <th>ProdDesc</th>\n",
              "      <th>Qty</th>\n",
              "      <th>Rate</th>\n",
              "      <th>Amount</th>\n",
              "    </tr>\n",
              "  </thead>\n",
              "  <tbody>\n",
              "    <tr>\n",
              "      <th>171728</th>\n",
              "      <td>2019-05-31</td>\n",
              "      <td>171828</td>\n",
              "      <td>Contoso SLR Camera 35\" M358 Pink</td>\n",
              "      <td>700.0</td>\n",
              "      <td>3500000.0</td>\n",
              "      <td>2.450000e+09</td>\n",
              "    </tr>\n",
              "    <tr>\n",
              "      <th>171729</th>\n",
              "      <td>2019-06-29</td>\n",
              "      <td>171829</td>\n",
              "      <td>The Phone Company Smart phones 160x160 M26 Grey</td>\n",
              "      <td>1.0</td>\n",
              "      <td>10000.0</td>\n",
              "      <td>1.000000e+04</td>\n",
              "    </tr>\n",
              "    <tr>\n",
              "      <th>171730</th>\n",
              "      <td>2019-06-29</td>\n",
              "      <td>171830</td>\n",
              "      <td>Litware Home Theater System 5.1 Channel M515 B...</td>\n",
              "      <td>1.0</td>\n",
              "      <td>10000.0</td>\n",
              "      <td>1.000000e+04</td>\n",
              "    </tr>\n",
              "    <tr>\n",
              "      <th>171731</th>\n",
              "      <td>2018-08-30</td>\n",
              "      <td>171831</td>\n",
              "      <td>Litware Microwave 0.9CuFt E090 Grey</td>\n",
              "      <td>875.0</td>\n",
              "      <td>4375000.0</td>\n",
              "      <td>3.828125e+09</td>\n",
              "    </tr>\n",
              "    <tr>\n",
              "      <th>171732</th>\n",
              "      <td>2018-08-30</td>\n",
              "      <td>171832</td>\n",
              "      <td>SV 22xDVD M600 Silver</td>\n",
              "      <td>680.0</td>\n",
              "      <td>3400000.0</td>\n",
              "      <td>2.312000e+09</td>\n",
              "    </tr>\n",
              "  </tbody>\n",
              "</table>\n",
              "</div>"
            ],
            "text/plain": [
              "         TrnsDate  ProdId                                           ProdDesc  \\\n",
              "171728 2019-05-31  171828                   Contoso SLR Camera 35\" M358 Pink   \n",
              "171729 2019-06-29  171829    The Phone Company Smart phones 160x160 M26 Grey   \n",
              "171730 2019-06-29  171830  Litware Home Theater System 5.1 Channel M515 B...   \n",
              "171731 2018-08-30  171831                Litware Microwave 0.9CuFt E090 Grey   \n",
              "171732 2018-08-30  171832                              SV 22xDVD M600 Silver   \n",
              "\n",
              "          Qty       Rate        Amount  \n",
              "171728  700.0  3500000.0  2.450000e+09  \n",
              "171729    1.0    10000.0  1.000000e+04  \n",
              "171730    1.0    10000.0  1.000000e+04  \n",
              "171731  875.0  4375000.0  3.828125e+09  \n",
              "171732  680.0  3400000.0  2.312000e+09  "
            ]
          },
          "execution_count": 44,
          "metadata": {},
          "output_type": "execute_result"
        }
      ],
      "source": [
        "df.tail(5)"
      ]
    },
    {
      "cell_type": "code",
      "execution_count": 21,
      "metadata": {
        "colab": {
          "base_uri": "https://localhost:8080/",
          "height": 362
        },
        "id": "H4YfrjjDTTtH",
        "outputId": "bffaeaa9-cbad-47c1-deb0-bceb727f52d2"
      },
      "outputs": [
        {
          "data": {
            "text/html": [
              "<div>\n",
              "<style scoped>\n",
              "    .dataframe tbody tr th:only-of-type {\n",
              "        vertical-align: middle;\n",
              "    }\n",
              "\n",
              "    .dataframe tbody tr th {\n",
              "        vertical-align: top;\n",
              "    }\n",
              "\n",
              "    .dataframe thead th {\n",
              "        text-align: right;\n",
              "    }\n",
              "</style>\n",
              "<table border=\"1\" class=\"dataframe\">\n",
              "  <thead>\n",
              "    <tr style=\"text-align: right;\">\n",
              "      <th></th>\n",
              "      <th>TrnsDate</th>\n",
              "      <th>ProdId</th>\n",
              "      <th>ProdDesc</th>\n",
              "      <th>Qty</th>\n",
              "      <th>Rate</th>\n",
              "      <th>Amount</th>\n",
              "    </tr>\n",
              "  </thead>\n",
              "  <tbody>\n",
              "    <tr>\n",
              "      <th>1048565</th>\n",
              "      <td>2024-06-29</td>\n",
              "      <td>1048665</td>\n",
              "      <td>Accounts Plus Business Suite</td>\n",
              "      <td>12.0</td>\n",
              "      <td>60000.0</td>\n",
              "      <td>720000.0</td>\n",
              "    </tr>\n",
              "    <tr>\n",
              "      <th>1048566</th>\n",
              "      <td>2024-06-29</td>\n",
              "      <td>1048666</td>\n",
              "      <td>Accounts Plus Business Suite</td>\n",
              "      <td>12.0</td>\n",
              "      <td>60000.0</td>\n",
              "      <td>720000.0</td>\n",
              "    </tr>\n",
              "    <tr>\n",
              "      <th>1048567</th>\n",
              "      <td>2024-06-29</td>\n",
              "      <td>1048667</td>\n",
              "      <td>Accounts Plus Business Suite</td>\n",
              "      <td>12.0</td>\n",
              "      <td>60000.0</td>\n",
              "      <td>720000.0</td>\n",
              "    </tr>\n",
              "    <tr>\n",
              "      <th>1048568</th>\n",
              "      <td>2024-06-29</td>\n",
              "      <td>1048668</td>\n",
              "      <td>Accounts Plus Business Suite</td>\n",
              "      <td>12.0</td>\n",
              "      <td>60000.0</td>\n",
              "      <td>720000.0</td>\n",
              "    </tr>\n",
              "    <tr>\n",
              "      <th>1048569</th>\n",
              "      <td>2024-06-29</td>\n",
              "      <td>1048669</td>\n",
              "      <td>Accounts Plus Business Suite</td>\n",
              "      <td>12.0</td>\n",
              "      <td>60000.0</td>\n",
              "      <td>720000.0</td>\n",
              "    </tr>\n",
              "    <tr>\n",
              "      <th>1048570</th>\n",
              "      <td>2024-06-29</td>\n",
              "      <td>1048670</td>\n",
              "      <td>Accounts Plus Business Suite</td>\n",
              "      <td>12.0</td>\n",
              "      <td>60000.0</td>\n",
              "      <td>720000.0</td>\n",
              "    </tr>\n",
              "    <tr>\n",
              "      <th>1048571</th>\n",
              "      <td>2024-06-29</td>\n",
              "      <td>1048671</td>\n",
              "      <td>Accounts Plus Business Suite</td>\n",
              "      <td>12.0</td>\n",
              "      <td>60000.0</td>\n",
              "      <td>720000.0</td>\n",
              "    </tr>\n",
              "    <tr>\n",
              "      <th>1048572</th>\n",
              "      <td>2024-06-29</td>\n",
              "      <td>1048672</td>\n",
              "      <td>Accounts Plus Business Suite</td>\n",
              "      <td>12.0</td>\n",
              "      <td>60000.0</td>\n",
              "      <td>720000.0</td>\n",
              "    </tr>\n",
              "    <tr>\n",
              "      <th>1048573</th>\n",
              "      <td>2024-06-29</td>\n",
              "      <td>1048673</td>\n",
              "      <td>Accounts Plus Business Suite</td>\n",
              "      <td>12.0</td>\n",
              "      <td>60000.0</td>\n",
              "      <td>720000.0</td>\n",
              "    </tr>\n",
              "    <tr>\n",
              "      <th>1048574</th>\n",
              "      <td>2024-06-29</td>\n",
              "      <td>1048674</td>\n",
              "      <td>Accounts Plus Business Suite</td>\n",
              "      <td>12.0</td>\n",
              "      <td>60000.0</td>\n",
              "      <td>720000.0</td>\n",
              "    </tr>\n",
              "  </tbody>\n",
              "</table>\n",
              "</div>"
            ],
            "text/plain": [
              "          TrnsDate   ProdId                      ProdDesc   Qty     Rate  \\\n",
              "1048565 2024-06-29  1048665  Accounts Plus Business Suite  12.0  60000.0   \n",
              "1048566 2024-06-29  1048666  Accounts Plus Business Suite  12.0  60000.0   \n",
              "1048567 2024-06-29  1048667  Accounts Plus Business Suite  12.0  60000.0   \n",
              "1048568 2024-06-29  1048668  Accounts Plus Business Suite  12.0  60000.0   \n",
              "1048569 2024-06-29  1048669  Accounts Plus Business Suite  12.0  60000.0   \n",
              "1048570 2024-06-29  1048670  Accounts Plus Business Suite  12.0  60000.0   \n",
              "1048571 2024-06-29  1048671  Accounts Plus Business Suite  12.0  60000.0   \n",
              "1048572 2024-06-29  1048672  Accounts Plus Business Suite  12.0  60000.0   \n",
              "1048573 2024-06-29  1048673  Accounts Plus Business Suite  12.0  60000.0   \n",
              "1048574 2024-06-29  1048674  Accounts Plus Business Suite  12.0  60000.0   \n",
              "\n",
              "           Amount  \n",
              "1048565  720000.0  \n",
              "1048566  720000.0  \n",
              "1048567  720000.0  \n",
              "1048568  720000.0  \n",
              "1048569  720000.0  \n",
              "1048570  720000.0  \n",
              "1048571  720000.0  \n",
              "1048572  720000.0  \n",
              "1048573  720000.0  \n",
              "1048574  720000.0  "
            ]
          },
          "execution_count": 21,
          "metadata": {},
          "output_type": "execute_result"
        }
      ],
      "source": [
        "df.tail(10)"
      ]
    },
    {
      "cell_type": "code",
      "execution_count": 46,
      "metadata": {
        "colab": {
          "base_uri": "https://localhost:8080/",
          "height": 206
        },
        "id": "qYfvgh5Fu3K1",
        "outputId": "0927d8bd-78e3-4240-c4a9-b749827bd9a9"
      },
      "outputs": [
        {
          "data": {
            "text/html": [
              "<div>\n",
              "<style scoped>\n",
              "    .dataframe tbody tr th:only-of-type {\n",
              "        vertical-align: middle;\n",
              "    }\n",
              "\n",
              "    .dataframe tbody tr th {\n",
              "        vertical-align: top;\n",
              "    }\n",
              "\n",
              "    .dataframe thead th {\n",
              "        text-align: right;\n",
              "    }\n",
              "</style>\n",
              "<table border=\"1\" class=\"dataframe\">\n",
              "  <thead>\n",
              "    <tr style=\"text-align: right;\">\n",
              "      <th></th>\n",
              "      <th>TrnsDate</th>\n",
              "      <th>ProdId</th>\n",
              "      <th>ProdDesc</th>\n",
              "      <th>Qty</th>\n",
              "      <th>Rate</th>\n",
              "      <th>Amount</th>\n",
              "    </tr>\n",
              "  </thead>\n",
              "  <tbody>\n",
              "    <tr>\n",
              "      <th>0</th>\n",
              "      <td>2023-08-02</td>\n",
              "      <td>100</td>\n",
              "      <td>135</td>\n",
              "      <td>1.0</td>\n",
              "      <td>10000.0</td>\n",
              "      <td>10000.0</td>\n",
              "    </tr>\n",
              "    <tr>\n",
              "      <th>1</th>\n",
              "      <td>2023-08-02</td>\n",
              "      <td>101</td>\n",
              "      <td>135</td>\n",
              "      <td>1.0</td>\n",
              "      <td>10000.0</td>\n",
              "      <td>10000.0</td>\n",
              "    </tr>\n",
              "    <tr>\n",
              "      <th>2</th>\n",
              "      <td>2023-08-02</td>\n",
              "      <td>102</td>\n",
              "      <td>135</td>\n",
              "      <td>1.0</td>\n",
              "      <td>10000.0</td>\n",
              "      <td>10000.0</td>\n",
              "    </tr>\n",
              "    <tr>\n",
              "      <th>3</th>\n",
              "      <td>2023-08-08</td>\n",
              "      <td>103</td>\n",
              "      <td>134</td>\n",
              "      <td>1.0</td>\n",
              "      <td>10000.0</td>\n",
              "      <td>10000.0</td>\n",
              "    </tr>\n",
              "    <tr>\n",
              "      <th>4</th>\n",
              "      <td>2023-09-13</td>\n",
              "      <td>104</td>\n",
              "      <td>134</td>\n",
              "      <td>1.0</td>\n",
              "      <td>10000.0</td>\n",
              "      <td>10000.0</td>\n",
              "    </tr>\n",
              "  </tbody>\n",
              "</table>\n",
              "</div>"
            ],
            "text/plain": [
              "    TrnsDate  ProdId  ProdDesc  Qty     Rate   Amount\n",
              "0 2023-08-02     100       135  1.0  10000.0  10000.0\n",
              "1 2023-08-02     101       135  1.0  10000.0  10000.0\n",
              "2 2023-08-02     102       135  1.0  10000.0  10000.0\n",
              "3 2023-08-08     103       134  1.0  10000.0  10000.0\n",
              "4 2023-09-13     104       134  1.0  10000.0  10000.0"
            ]
          },
          "execution_count": 46,
          "metadata": {},
          "output_type": "execute_result"
        }
      ],
      "source": [
        "df.head()"
      ]
    },
    {
      "cell_type": "code",
      "execution_count": 47,
      "metadata": {
        "colab": {
          "base_uri": "https://localhost:8080/",
          "height": 146
        },
        "id": "ep_9ITVypBet",
        "outputId": "ff42b517-6da1-423b-f2a4-79759fb84b42"
      },
      "outputs": [
        {
          "data": {
            "text/plain": [
              "Qty\n",
              "False    171658\n",
              "Name: count, dtype: int64"
            ]
          },
          "execution_count": 47,
          "metadata": {},
          "output_type": "execute_result"
        }
      ],
      "source": [
        "missing_value=df['Qty'].isnull()\n",
        "\n",
        "missing_value.value_counts()"
      ]
    },
    {
      "cell_type": "code",
      "execution_count": 134,
      "metadata": {
        "colab": {
          "base_uri": "https://localhost:8080/",
          "height": 424
        },
        "id": "QaABkg3Bp57Y",
        "outputId": "3c7c8b0b-9441-48b5-f0c4-e79bb1dc012b"
      },
      "outputs": [
        {
          "data": {
            "text/html": [
              "<div>\n",
              "<style scoped>\n",
              "    .dataframe tbody tr th:only-of-type {\n",
              "        vertical-align: middle;\n",
              "    }\n",
              "\n",
              "    .dataframe tbody tr th {\n",
              "        vertical-align: top;\n",
              "    }\n",
              "\n",
              "    .dataframe thead th {\n",
              "        text-align: right;\n",
              "    }\n",
              "</style>\n",
              "<table border=\"1\" class=\"dataframe\">\n",
              "  <thead>\n",
              "    <tr style=\"text-align: right;\">\n",
              "      <th></th>\n",
              "      <th>TrnsDate</th>\n",
              "      <th>ProdId</th>\n",
              "      <th>ProdDesc</th>\n",
              "      <th>Qty</th>\n",
              "      <th>Rate</th>\n",
              "      <th>Amount</th>\n",
              "    </tr>\n",
              "  </thead>\n",
              "  <tbody>\n",
              "    <tr>\n",
              "      <th>0</th>\n",
              "      <td>2023-08-02</td>\n",
              "      <td>100</td>\n",
              "      <td>135</td>\n",
              "      <td>1.0</td>\n",
              "      <td>10000.0</td>\n",
              "      <td>10000.0</td>\n",
              "    </tr>\n",
              "    <tr>\n",
              "      <th>1</th>\n",
              "      <td>2023-08-02</td>\n",
              "      <td>101</td>\n",
              "      <td>135</td>\n",
              "      <td>1.0</td>\n",
              "      <td>10000.0</td>\n",
              "      <td>10000.0</td>\n",
              "    </tr>\n",
              "    <tr>\n",
              "      <th>2</th>\n",
              "      <td>2023-08-02</td>\n",
              "      <td>102</td>\n",
              "      <td>135</td>\n",
              "      <td>1.0</td>\n",
              "      <td>10000.0</td>\n",
              "      <td>10000.0</td>\n",
              "    </tr>\n",
              "    <tr>\n",
              "      <th>3</th>\n",
              "      <td>2023-08-08</td>\n",
              "      <td>103</td>\n",
              "      <td>134</td>\n",
              "      <td>1.0</td>\n",
              "      <td>10000.0</td>\n",
              "      <td>10000.0</td>\n",
              "    </tr>\n",
              "  </tbody>\n",
              "</table>\n",
              "</div>"
            ],
            "text/plain": [
              "    TrnsDate  ProdId  ProdDesc  Qty     Rate   Amount\n",
              "0 2023-08-02     100       135  1.0  10000.0  10000.0\n",
              "1 2023-08-02     101       135  1.0  10000.0  10000.0\n",
              "2 2023-08-02     102       135  1.0  10000.0  10000.0\n",
              "3 2023-08-08     103       134  1.0  10000.0  10000.0"
            ]
          },
          "execution_count": 134,
          "metadata": {},
          "output_type": "execute_result"
        }
      ],
      "source": [
        "df.head(4)"
      ]
    },
    {
      "cell_type": "code",
      "execution_count": 135,
      "metadata": {},
      "outputs": [
        {
          "data": {
            "text/html": [
              "<a href='Prediction.csv' target='_blank'>Prediction.csv</a><br>"
            ],
            "text/plain": [
              "c:\\syeda aliza arshad\\project\\Prediction.csv"
            ]
          },
          "execution_count": 135,
          "metadata": {},
          "output_type": "execute_result"
        }
      ],
      "source": [
        "from IPython.display import FileLink\n",
        "\n",
        "# Save the file\n",
        "df.to_csv('Prediction.csv', index=False)\n",
        "\n",
        "# Display a download link\n",
        "FileLink('Prediction.csv')\n"
      ]
    },
    {
      "cell_type": "markdown",
      "metadata": {
        "id": "wJtk-jH_qLOd"
      },
      "source": [
        "# **EXPOLATORY DATA ANALYSIS**"
      ]
    },
    {
      "cell_type": "code",
      "execution_count": null,
      "metadata": {},
      "outputs": [],
      "source": [
        "sns.set()\n",
        "plt.figure(figsize=(6,6))\n",
        "sns.countplot(df['Amount'])\n",
        "plt.show()"
      ]
    },
    {
      "cell_type": "code",
      "execution_count": 49,
      "metadata": {
        "colab": {
          "base_uri": "https://localhost:8080/",
          "height": 292
        },
        "id": "j0M-SAapqMB2",
        "outputId": "6e4cd4e4-c579-492d-e74f-8f3351110340"
      },
      "outputs": [
        {
          "data": {
            "image/png": "[encoded data removed]",
            "text/plain": [
              "<Figure size 1200x500 with 3 Axes>"
            ]
          },
          "metadata": {},
          "output_type": "display_data"
        }
      ],
      "source": [
        "# Create subplots for box plots\n",
        "fig, axes = plt.subplots(1, 3, figsize=(12, 5))\n",
        "sns.boxplot(data=df['Rate'], ax=axes[0])\n",
        "axes[0].set_title('Box Plot of Rate')\n",
        "sns.boxplot(data=df['Qty'], ax=axes[1])\n",
        "axes[1].set_title('Box Plot of Qty')\n",
        "sns.boxplot(data=df['Amount'], ax=axes[2])\n",
        "axes[2].set_title('Box Plot of Amount')\n",
        "plt.show()\n"
      ]
    },
    {
      "cell_type": "code",
      "execution_count": 50,
      "metadata": {
        "colab": {
          "base_uri": "https://localhost:8080/"
        },
        "id": "8UMXwgZJviOJ",
        "outputId": "44990865-4c05-43b7-c81f-047756650858"
      },
      "outputs": [
        {
          "data": {
            "text/plain": [
              "np.int64(0)"
            ]
          },
          "execution_count": 50,
          "metadata": {},
          "output_type": "execute_result"
        }
      ],
      "source": [
        "#checking for the missing values in 'Qty'\n",
        "df['Qty'].isnull().sum()"
      ]
    },
    {
      "cell_type": "code",
      "execution_count": 51,
      "metadata": {
        "colab": {
          "base_uri": "https://localhost:8080/"
        },
        "id": "jWdeyXCvvrO8",
        "outputId": "a3fa2048-0177-47bf-d533-32625604fa05"
      },
      "outputs": [
        {
          "data": {
            "text/plain": [
              "dtype('float64')"
            ]
          },
          "execution_count": 51,
          "metadata": {},
          "output_type": "execute_result"
        }
      ],
      "source": [
        "#checking datatype of 'Qty'\n",
        "df['Qty'].dtype"
      ]
    },
    {
      "cell_type": "code",
      "execution_count": 52,
      "metadata": {
        "colab": {
          "base_uri": "https://localhost:8080/"
        },
        "id": "1sAUWWRrvjPc",
        "outputId": "8270cb07-bbfe-494a-829a-26f8460f9ff5"
      },
      "outputs": [
        {
          "data": {
            "text/plain": [
              "np.int64(0)"
            ]
          },
          "execution_count": 52,
          "metadata": {},
          "output_type": "execute_result"
        }
      ],
      "source": [
        "#checking for the missing values in 'Rate'\n",
        "df['Rate'].isnull().sum()"
      ]
    },
    {
      "cell_type": "code",
      "execution_count": 53,
      "metadata": {
        "colab": {
          "base_uri": "https://localhost:8080/"
        },
        "id": "VmCH3NLUvucH",
        "outputId": "a866eb98-94b9-4b31-8eac-07f14223c01c"
      },
      "outputs": [
        {
          "data": {
            "text/plain": [
              "dtype('float64')"
            ]
          },
          "execution_count": 53,
          "metadata": {},
          "output_type": "execute_result"
        }
      ],
      "source": [
        "#checking datatype of 'Rate'\n",
        "df['Rate'].dtype"
      ]
    },
    {
      "cell_type": "markdown",
      "metadata": {
        "id": "GXf9WH8vq4Rb"
      },
      "source": [
        "# ***Scaling Data Using Standardization***"
      ]
    },
    {
      "cell_type": "markdown",
      "metadata": {
        "id": "rzlh-4IrctKF"
      },
      "source": [
        "After Detecting and handling outlier now we have to scales the 'Qty' and 'Rate' columns using StandardScaler. This transforms the data to have zero mean and unit variance, which can improve the performance of some machine learning algorithms."
      ]
    },
    {
      "cell_type": "markdown",
      "metadata": {
        "id": "2Z-AijXoill_"
      },
      "source": [
        " **Standardization:** It transforms the data so that each feature has zero mean and unit variance (standard deviation of 1).\n",
        "\n",
        " Calculate Mean and Standard Deviation: The fit() method of StandardScaler calculates the mean and standard deviation of each feature (column) in the data.\n",
        "\n",
        "Transform Data: The transform() method then applies the following transformation to each data point.\n",
        "\n",
        "This effectively shifts the data so that the mean is zero and scales it so that the standard deviation is one.\n"
      ]
    },
    {
      "cell_type": "code",
      "execution_count": 67,
      "metadata": {
        "colab": {
          "base_uri": "https://localhost:8080/"
        },
        "id": "t8TWhLvlcthg",
        "outputId": "68298207-a49f-4061-e9c3-634c657ddbab"
      },
      "outputs": [
        {
          "name": "stdout",
          "output_type": "stream",
          "text": [
            "             Qty      Rate    Amount  ProdId  ProdDesc  Month  Year  Week\n",
            "0      -0.583579 -0.311440 -0.099836     100       135      8  2023     2\n",
            "1      -0.583579 -0.311440 -0.099836     101       135      8  2023     2\n",
            "2      -0.583579 -0.311440 -0.099836     102       135      8  2023     2\n",
            "3      -0.583579 -0.311440 -0.099836     103       134      8  2023     1\n",
            "4      -0.583579 -0.311440 -0.099836     104       134      9  2023     2\n",
            "...          ...       ...       ...     ...       ...    ...   ...   ...\n",
            "171728 -0.532382 -0.293959 -0.099808  171828       798      5  2019     4\n",
            "171729 -0.583579 -0.311440 -0.099836  171829      2012      6  2019     5\n",
            "171730 -0.583579 -0.311440 -0.099836  171830      1348      6  2019     5\n",
            "171731 -0.519417 -0.289577 -0.099793  171831      1368      8  2018     3\n",
            "171732 -0.533864 -0.294460 -0.099810  171832      1818      8  2018     3\n",
            "\n",
            "[171658 rows x 8 columns]\n",
            "(171658, 9)\n"
          ]
        }
      ],
      "source": [
        "# Create a copy of the DataFrame to avoid modifying the original\n",
        "df_scaled = df[['Qty', 'Rate', 'Amount','ProdId','ProdDesc','Month','Year','Week']].copy()\n",
        "\n",
        "# Initialize the StandardScaler\n",
        "scaler = StandardScaler()\n",
        "\n",
        "# Fit and transform the data (use df_scaled within fit_transform)\n",
        "df_scaled[['Qty', 'Rate', 'Amount']] = scaler.fit_transform(df_scaled[['Qty', 'Rate', 'Amount']])\n",
        "\n",
        "# Print the scaled DataFrame\n",
        "print(df_scaled)\n",
        "\n",
        "# Print the shape of the original DataFrame\n",
        "print(df.shape)\n"
      ]
    },
    {
      "cell_type": "code",
      "execution_count": 56,
      "metadata": {
        "colab": {
          "base_uri": "https://localhost:8080/",
          "height": 300
        },
        "id": "R5gXH5r5-8pG",
        "outputId": "9df15b4c-7762-4111-86af-2f778e3c7691"
      },
      "outputs": [
        {
          "name": "stderr",
          "output_type": "stream",
          "text": [
            "c:\\syeda aliza arshad\\project\\myenv\\Lib\\site-packages\\numpy\\lib\\_function_base_impl.py:4842: UserWarning: Warning: 'partition' will ignore the 'mask' of the MaskedArray.\n",
            "  arr.partition(\n",
            "c:\\syeda aliza arshad\\project\\myenv\\Lib\\site-packages\\numpy\\lib\\_function_base_impl.py:4842: UserWarning: Warning: 'partition' will ignore the 'mask' of the MaskedArray.\n",
            "  arr.partition(\n",
            "c:\\syeda aliza arshad\\project\\myenv\\Lib\\site-packages\\numpy\\lib\\_function_base_impl.py:4842: UserWarning: Warning: 'partition' will ignore the 'mask' of the MaskedArray.\n",
            "  arr.partition(\n"
          ]
        },
        {
          "data": {
            "text/html": [
              "<div>\n",
              "<style scoped>\n",
              "    .dataframe tbody tr th:only-of-type {\n",
              "        vertical-align: middle;\n",
              "    }\n",
              "\n",
              "    .dataframe tbody tr th {\n",
              "        vertical-align: top;\n",
              "    }\n",
              "\n",
              "    .dataframe thead th {\n",
              "        text-align: right;\n",
              "    }\n",
              "</style>\n",
              "<table border=\"1\" class=\"dataframe\">\n",
              "  <thead>\n",
              "    <tr style=\"text-align: right;\">\n",
              "      <th></th>\n",
              "      <th>TrnsDate</th>\n",
              "      <th>ProdId</th>\n",
              "      <th>ProdDesc</th>\n",
              "      <th>Qty</th>\n",
              "      <th>Rate</th>\n",
              "      <th>Amount</th>\n",
              "    </tr>\n",
              "  </thead>\n",
              "  <tbody>\n",
              "    <tr>\n",
              "      <th>count</th>\n",
              "      <td>171658</td>\n",
              "      <td>171658.000000</td>\n",
              "      <td>171658.000000</td>\n",
              "      <td>171658.000000</td>\n",
              "      <td>1.716580e+05</td>\n",
              "      <td>1.716580e+05</td>\n",
              "    </tr>\n",
              "    <tr>\n",
              "      <th>mean</th>\n",
              "      <td>2022-07-11 05:18:28.282748160</td>\n",
              "      <td>85935.961854</td>\n",
              "      <td>1126.750906</td>\n",
              "      <td>7885.633775</td>\n",
              "      <td>6.218955e+07</td>\n",
              "      <td>8.745695e+12</td>\n",
              "    </tr>\n",
              "    <tr>\n",
              "      <th>min</th>\n",
              "      <td>2018-07-02 00:00:00</td>\n",
              "      <td>100.000000</td>\n",
              "      <td>0.000000</td>\n",
              "      <td>9.000000</td>\n",
              "      <td>5.000000e+01</td>\n",
              "      <td>5.000000e-01</td>\n",
              "    </tr>\n",
              "    <tr>\n",
              "      <th>25%</th>\n",
              "      <td>2020-12-11 00:00:00</td>\n",
              "      <td>43014.250000</td>\n",
              "      <td>566.000000</td>\n",
              "      <td>120.000000</td>\n",
              "      <td>6.000000e+05</td>\n",
              "      <td>7.200000e+07</td>\n",
              "    </tr>\n",
              "    <tr>\n",
              "      <th>50%</th>\n",
              "      <td>2023-01-11 00:00:00</td>\n",
              "      <td>85928.500000</td>\n",
              "      <td>1127.000000</td>\n",
              "      <td>2000.000000</td>\n",
              "      <td>1.000000e+07</td>\n",
              "      <td>2.000000e+10</td>\n",
              "    </tr>\n",
              "    <tr>\n",
              "      <th>75%</th>\n",
              "      <td>2024-02-24 00:00:00</td>\n",
              "      <td>128842.750000</td>\n",
              "      <td>1691.000000</td>\n",
              "      <td>8000.000000</td>\n",
              "      <td>4.000000e+07</td>\n",
              "      <td>3.200000e+11</td>\n",
              "    </tr>\n",
              "    <tr>\n",
              "      <th>max</th>\n",
              "      <td>2024-12-28 00:00:00</td>\n",
              "      <td>171832.000000</td>\n",
              "      <td>2246.000000</td>\n",
              "      <td>51000.000000</td>\n",
              "      <td>5.400000e+09</td>\n",
              "      <td>5.832000e+15</td>\n",
              "    </tr>\n",
              "    <tr>\n",
              "      <th>std</th>\n",
              "      <td>NaN</td>\n",
              "      <td>49565.065737</td>\n",
              "      <td>648.799360</td>\n",
              "      <td>13497.167059</td>\n",
              "      <td>1.996526e+08</td>\n",
              "      <td>8.760046e+13</td>\n",
              "    </tr>\n",
              "  </tbody>\n",
              "</table>\n",
              "</div>"
            ],
            "text/plain": [
              "                            TrnsDate         ProdId       ProdDesc  \\\n",
              "count                         171658  171658.000000  171658.000000   \n",
              "mean   2022-07-11 05:18:28.282748160   85935.961854    1126.750906   \n",
              "min              2018-07-02 00:00:00     100.000000       0.000000   \n",
              "25%              2020-12-11 00:00:00   43014.250000     566.000000   \n",
              "50%              2023-01-11 00:00:00   85928.500000    1127.000000   \n",
              "75%              2024-02-24 00:00:00  128842.750000    1691.000000   \n",
              "max              2024-12-28 00:00:00  171832.000000    2246.000000   \n",
              "std                              NaN   49565.065737     648.799360   \n",
              "\n",
              "                 Qty          Rate        Amount  \n",
              "count  171658.000000  1.716580e+05  1.716580e+05  \n",
              "mean     7885.633775  6.218955e+07  8.745695e+12  \n",
              "min         9.000000  5.000000e+01  5.000000e-01  \n",
              "25%       120.000000  6.000000e+05  7.200000e+07  \n",
              "50%      2000.000000  1.000000e+07  2.000000e+10  \n",
              "75%      8000.000000  4.000000e+07  3.200000e+11  \n",
              "max     51000.000000  5.400000e+09  5.832000e+15  \n",
              "std     13497.167059  1.996526e+08  8.760046e+13  "
            ]
          },
          "execution_count": 56,
          "metadata": {},
          "output_type": "execute_result"
        }
      ],
      "source": [
        "df.describe()"
      ]
    },
    {
      "cell_type": "code",
      "execution_count": 57,
      "metadata": {
        "colab": {
          "base_uri": "https://localhost:8080/",
          "height": 363
        },
        "id": "1AnA3Msd_DLh",
        "outputId": "1b3a9d6a-3414-434b-cf86-4ea8e999f546"
      },
      "outputs": [
        {
          "data": {
            "text/html": [
              "<div>\n",
              "<style scoped>\n",
              "    .dataframe tbody tr th:only-of-type {\n",
              "        vertical-align: middle;\n",
              "    }\n",
              "\n",
              "    .dataframe tbody tr th {\n",
              "        vertical-align: top;\n",
              "    }\n",
              "\n",
              "    .dataframe thead th {\n",
              "        text-align: right;\n",
              "    }\n",
              "</style>\n",
              "<table border=\"1\" class=\"dataframe\">\n",
              "  <thead>\n",
              "    <tr style=\"text-align: right;\">\n",
              "      <th></th>\n",
              "      <th>Qty</th>\n",
              "      <th>Rate</th>\n",
              "      <th>Amount</th>\n",
              "      <th>ProdId</th>\n",
              "      <th>ProdDesc</th>\n",
              "    </tr>\n",
              "  </thead>\n",
              "  <tbody>\n",
              "    <tr>\n",
              "      <th>171723</th>\n",
              "      <td>-0.515934</td>\n",
              "      <td>-0.288400</td>\n",
              "      <td>-0.099788</td>\n",
              "      <td>171823</td>\n",
              "      <td>1175</td>\n",
              "    </tr>\n",
              "    <tr>\n",
              "      <th>171724</th>\n",
              "      <td>-0.515934</td>\n",
              "      <td>-0.288400</td>\n",
              "      <td>-0.099788</td>\n",
              "      <td>171824</td>\n",
              "      <td>896</td>\n",
              "    </tr>\n",
              "    <tr>\n",
              "      <th>171725</th>\n",
              "      <td>-0.524973</td>\n",
              "      <td>-0.291455</td>\n",
              "      <td>-0.099800</td>\n",
              "      <td>171825</td>\n",
              "      <td>1569</td>\n",
              "    </tr>\n",
              "    <tr>\n",
              "      <th>171726</th>\n",
              "      <td>-0.517564</td>\n",
              "      <td>-0.288950</td>\n",
              "      <td>-0.099790</td>\n",
              "      <td>171826</td>\n",
              "      <td>1148</td>\n",
              "    </tr>\n",
              "    <tr>\n",
              "      <th>171727</th>\n",
              "      <td>-0.517564</td>\n",
              "      <td>-0.288950</td>\n",
              "      <td>-0.099790</td>\n",
              "      <td>171827</td>\n",
              "      <td>995</td>\n",
              "    </tr>\n",
              "    <tr>\n",
              "      <th>171728</th>\n",
              "      <td>-0.532382</td>\n",
              "      <td>-0.293959</td>\n",
              "      <td>-0.099808</td>\n",
              "      <td>171828</td>\n",
              "      <td>798</td>\n",
              "    </tr>\n",
              "    <tr>\n",
              "      <th>171729</th>\n",
              "      <td>-0.583579</td>\n",
              "      <td>-0.311440</td>\n",
              "      <td>-0.099836</td>\n",
              "      <td>171829</td>\n",
              "      <td>2012</td>\n",
              "    </tr>\n",
              "    <tr>\n",
              "      <th>171730</th>\n",
              "      <td>-0.583579</td>\n",
              "      <td>-0.311440</td>\n",
              "      <td>-0.099836</td>\n",
              "      <td>171830</td>\n",
              "      <td>1348</td>\n",
              "    </tr>\n",
              "    <tr>\n",
              "      <th>171731</th>\n",
              "      <td>-0.519417</td>\n",
              "      <td>-0.289577</td>\n",
              "      <td>-0.099793</td>\n",
              "      <td>171831</td>\n",
              "      <td>1368</td>\n",
              "    </tr>\n",
              "    <tr>\n",
              "      <th>171732</th>\n",
              "      <td>-0.533864</td>\n",
              "      <td>-0.294460</td>\n",
              "      <td>-0.099810</td>\n",
              "      <td>171832</td>\n",
              "      <td>1818</td>\n",
              "    </tr>\n",
              "  </tbody>\n",
              "</table>\n",
              "</div>"
            ],
            "text/plain": [
              "             Qty      Rate    Amount  ProdId  ProdDesc\n",
              "171723 -0.515934 -0.288400 -0.099788  171823      1175\n",
              "171724 -0.515934 -0.288400 -0.099788  171824       896\n",
              "171725 -0.524973 -0.291455 -0.099800  171825      1569\n",
              "171726 -0.517564 -0.288950 -0.099790  171826      1148\n",
              "171727 -0.517564 -0.288950 -0.099790  171827       995\n",
              "171728 -0.532382 -0.293959 -0.099808  171828       798\n",
              "171729 -0.583579 -0.311440 -0.099836  171829      2012\n",
              "171730 -0.583579 -0.311440 -0.099836  171830      1348\n",
              "171731 -0.519417 -0.289577 -0.099793  171831      1368\n",
              "171732 -0.533864 -0.294460 -0.099810  171832      1818"
            ]
          },
          "execution_count": 57,
          "metadata": {},
          "output_type": "execute_result"
        }
      ],
      "source": [
        "df_scaled.tail(10)"
      ]
    },
    {
      "cell_type": "markdown",
      "metadata": {
        "id": "OhcRcPmbe9oS"
      },
      "source": [
        "This code gives comprehensive overview of the descriptive statistics and relationships between variables in your dataset."
      ]
    },
    {
      "cell_type": "code",
      "execution_count": 58,
      "metadata": {
        "colab": {
          "base_uri": "https://localhost:8080/"
        },
        "id": "xv0bUt46xDex",
        "outputId": "f74b3a49-d235-4494-99f2-6c9fbcb4ef95"
      },
      "outputs": [
        {
          "name": "stdout",
          "output_type": "stream",
          "text": [
            "(171658, 6)\n",
            "(171658, 5)\n"
          ]
        }
      ],
      "source": [
        "print(df.shape)  # Shape of the original DataFrame\n",
        "print(df_scaled.shape)  # Shape after scaling"
      ]
    },
    {
      "cell_type": "code",
      "execution_count": 59,
      "metadata": {
        "colab": {
          "base_uri": "https://localhost:8080/",
          "height": 206
        },
        "id": "YLCciG_kBxFz",
        "outputId": "66bc2de5-7c03-48e6-f290-21cd45f07fc6"
      },
      "outputs": [
        {
          "data": {
            "text/html": [
              "<div>\n",
              "<style scoped>\n",
              "    .dataframe tbody tr th:only-of-type {\n",
              "        vertical-align: middle;\n",
              "    }\n",
              "\n",
              "    .dataframe tbody tr th {\n",
              "        vertical-align: top;\n",
              "    }\n",
              "\n",
              "    .dataframe thead th {\n",
              "        text-align: right;\n",
              "    }\n",
              "</style>\n",
              "<table border=\"1\" class=\"dataframe\">\n",
              "  <thead>\n",
              "    <tr style=\"text-align: right;\">\n",
              "      <th></th>\n",
              "      <th>Qty</th>\n",
              "      <th>Rate</th>\n",
              "      <th>Amount</th>\n",
              "      <th>ProdId</th>\n",
              "      <th>ProdDesc</th>\n",
              "    </tr>\n",
              "  </thead>\n",
              "  <tbody>\n",
              "    <tr>\n",
              "      <th>0</th>\n",
              "      <td>-0.583579</td>\n",
              "      <td>-0.31144</td>\n",
              "      <td>-0.099836</td>\n",
              "      <td>100</td>\n",
              "      <td>135</td>\n",
              "    </tr>\n",
              "    <tr>\n",
              "      <th>1</th>\n",
              "      <td>-0.583579</td>\n",
              "      <td>-0.31144</td>\n",
              "      <td>-0.099836</td>\n",
              "      <td>101</td>\n",
              "      <td>135</td>\n",
              "    </tr>\n",
              "    <tr>\n",
              "      <th>2</th>\n",
              "      <td>-0.583579</td>\n",
              "      <td>-0.31144</td>\n",
              "      <td>-0.099836</td>\n",
              "      <td>102</td>\n",
              "      <td>135</td>\n",
              "    </tr>\n",
              "    <tr>\n",
              "      <th>3</th>\n",
              "      <td>-0.583579</td>\n",
              "      <td>-0.31144</td>\n",
              "      <td>-0.099836</td>\n",
              "      <td>103</td>\n",
              "      <td>134</td>\n",
              "    </tr>\n",
              "    <tr>\n",
              "      <th>4</th>\n",
              "      <td>-0.583579</td>\n",
              "      <td>-0.31144</td>\n",
              "      <td>-0.099836</td>\n",
              "      <td>104</td>\n",
              "      <td>134</td>\n",
              "    </tr>\n",
              "  </tbody>\n",
              "</table>\n",
              "</div>"
            ],
            "text/plain": [
              "        Qty     Rate    Amount  ProdId  ProdDesc\n",
              "0 -0.583579 -0.31144 -0.099836     100       135\n",
              "1 -0.583579 -0.31144 -0.099836     101       135\n",
              "2 -0.583579 -0.31144 -0.099836     102       135\n",
              "3 -0.583579 -0.31144 -0.099836     103       134\n",
              "4 -0.583579 -0.31144 -0.099836     104       134"
            ]
          },
          "execution_count": 59,
          "metadata": {},
          "output_type": "execute_result"
        }
      ],
      "source": [
        "df_scaled.head()"
      ]
    },
    {
      "cell_type": "code",
      "execution_count": null,
      "metadata": {
        "colab": {
          "base_uri": "https://localhost:8080/",
          "height": 877
        },
        "collapsed": true,
        "id": "MlU_aM31spCf",
        "outputId": "1ac54e16-c1f6-4596-ed98-824b913ba56a"
      },
      "outputs": [
        {
          "data": {
            "application/vnd.google.colaboratory.intrinsic+json": {
              "summary": "{\n  \"name\": \"df[['Rate', 'Qty']]\",\n  \"rows\": 400,\n  \"fields\": [\n    {\n      \"column\": \"Rate\",\n      \"properties\": {\n        \"dtype\": \"number\",\n        \"std\": 278770.16768473893,\n        \"min\": 10000.0,\n        \"max\": 3240000.0,\n        \"num_unique_values\": 31,\n        \"samples\": [\n          130000.0,\n          60000.0,\n          3240000.0\n        ],\n        \"semantic_type\": \"\",\n        \"description\": \"\"\n      }\n    },\n    {\n      \"column\": \"Qty\",\n      \"properties\": {\n        \"dtype\": \"number\",\n        \"std\": 55.92982529154596,\n        \"min\": 1.0,\n        \"max\": 648.0,\n        \"num_unique_values\": 32,\n        \"samples\": [\n          130.0,\n          4.0,\n          648.0\n        ],\n        \"semantic_type\": \"\",\n        \"description\": \"\"\n      }\n    }\n  ]\n}",
              "type": "dataframe"
            },
            "text/html": [
              "\n",
              "  <div id=\"df-a2ffffcf-ee7c-49b1-a2f5-843ba7de20c3\" class=\"colab-df-container\">\n",
              "    <div>\n",
              "<style scoped>\n",
              "    .dataframe tbody tr th:only-of-type {\n",
              "        vertical-align: middle;\n",
              "    }\n",
              "\n",
              "    .dataframe tbody tr th {\n",
              "        vertical-align: top;\n",
              "    }\n",
              "\n",
              "    .dataframe thead th {\n",
              "        text-align: right;\n",
              "    }\n",
              "</style>\n",
              "<table border=\"1\" class=\"dataframe\">\n",
              "  <thead>\n",
              "    <tr style=\"text-align: right;\">\n",
              "      <th></th>\n",
              "      <th>Rate</th>\n",
              "      <th>Qty</th>\n",
              "    </tr>\n",
              "  </thead>\n",
              "  <tbody>\n",
              "    <tr>\n",
              "      <th>0</th>\n",
              "      <td>10000.0</td>\n",
              "      <td>1.0</td>\n",
              "    </tr>\n",
              "    <tr>\n",
              "      <th>1</th>\n",
              "      <td>10000.0</td>\n",
              "      <td>1.0</td>\n",
              "    </tr>\n",
              "    <tr>\n",
              "      <th>2</th>\n",
              "      <td>10000.0</td>\n",
              "      <td>1.0</td>\n",
              "    </tr>\n",
              "    <tr>\n",
              "      <th>3</th>\n",
              "      <td>10000.0</td>\n",
              "      <td>1.0</td>\n",
              "    </tr>\n",
              "    <tr>\n",
              "      <th>4</th>\n",
              "      <td>10000.0</td>\n",
              "      <td>1.0</td>\n",
              "    </tr>\n",
              "    <tr>\n",
              "      <th>...</th>\n",
              "      <td>...</td>\n",
              "      <td>...</td>\n",
              "    </tr>\n",
              "    <tr>\n",
              "      <th>396</th>\n",
              "      <td>100000.0</td>\n",
              "      <td>20.0</td>\n",
              "    </tr>\n",
              "    <tr>\n",
              "      <th>397</th>\n",
              "      <td>100000.0</td>\n",
              "      <td>20.0</td>\n",
              "    </tr>\n",
              "    <tr>\n",
              "      <th>398</th>\n",
              "      <td>100000.0</td>\n",
              "      <td>20.0</td>\n",
              "    </tr>\n",
              "    <tr>\n",
              "      <th>399</th>\n",
              "      <td>20000.0</td>\n",
              "      <td>4.0</td>\n",
              "    </tr>\n",
              "    <tr>\n",
              "      <th>400</th>\n",
              "      <td>30000.0</td>\n",
              "      <td>6.0</td>\n",
              "    </tr>\n",
              "  </tbody>\n",
              "</table>\n",
              "<p>400 rows × 2 columns</p>\n",
              "</div>\n",
              "    <div class=\"colab-df-buttons\">\n",
              "\n",
              "  <div class=\"colab-df-container\">\n",
              "    <button class=\"colab-df-convert\" onclick=\"convertToInteractive('df-a2ffffcf-ee7c-49b1-a2f5-843ba7de20c3')\"\n",
              "            title=\"Convert this dataframe to an interactive table.\"\n",
              "            style=\"display:none;\">\n",
              "\n",
              "  <svg xmlns=\"http://www.w3.org/2000/svg\" height=\"24px\" viewBox=\"0 -960 960 960\">\n",
              "    <path d=\"M120-120v-720h720v720H120Zm60-500h600v-160H180v160Zm220 220h160v-160H400v160Zm0 220h160v-160H400v160ZM180-400h160v-160H180v160Zm440 0h160v-160H620v160ZM180-180h160v-160H180v160Zm440 0h160v-160H620v160Z\"/>\n",
              "  </svg>\n",
              "    </button>\n",
              "\n",
              "  <style>\n",
              "    .colab-df-container {\n",
              "      display:flex;\n",
              "      gap: 12px;\n",
              "    }\n",
              "\n",
              "    .colab-df-convert {\n",
              "      background-color: #E8F0FE;\n",
              "      border: none;\n",
              "      border-radius: 50%;\n",
              "      cursor: pointer;\n",
              "      display: none;\n",
              "      fill: #1967D2;\n",
              "      height: 32px;\n",
              "      padding: 0 0 0 0;\n",
              "      width: 32px;\n",
              "    }\n",
              "\n",
              "    .colab-df-convert:hover {\n",
              "      background-color: #E2EBFA;\n",
              "      box-shadow: 0px 1px 2px rgba(60, 64, 67, 0.3), 0px 1px 3px 1px rgba(60, 64, 67, 0.15);\n",
              "      fill: #174EA6;\n",
              "    }\n",
              "\n",
              "    .colab-df-buttons div {\n",
              "      margin-bottom: 4px;\n",
              "    }\n",
              "\n",
              "    [theme=dark] .colab-df-convert {\n",
              "      background-color: #3B4455;\n",
              "      fill: #D2E3FC;\n",
              "    }\n",
              "\n",
              "    [theme=dark] .colab-df-convert:hover {\n",
              "      background-color: #434B5C;\n",
              "      box-shadow: 0px 1px 3px 1px rgba(0, 0, 0, 0.15);\n",
              "      filter: drop-shadow(0px 1px 2px rgba(0, 0, 0, 0.3));\n",
              "      fill: #FFFFFF;\n",
              "    }\n",
              "  </style>\n",
              "\n",
              "    <script>\n",
              "      const buttonEl =\n",
              "        document.querySelector('#df-a2ffffcf-ee7c-49b1-a2f5-843ba7de20c3 button.colab-df-convert');\n",
              "      buttonEl.style.display =\n",
              "        google.colab.kernel.accessAllowed ? 'block' : 'none';\n",
              "\n",
              "      async function convertToInteractive(key) {\n",
              "        const element = document.querySelector('#df-a2ffffcf-ee7c-49b1-a2f5-843ba7de20c3');\n",
              "        const dataTable =\n",
              "          await google.colab.kernel.invokeFunction('convertToInteractive',\n",
              "                                                    [key], {});\n",
              "        if (!dataTable) return;\n",
              "\n",
              "        const docLinkHtml = 'Like what you see? Visit the ' +\n",
              "          '<a target=\"_blank\" href=https://colab.research.google.com/notebooks/data_table.ipynb>data table notebook</a>'\n",
              "          + ' to learn more about interactive tables.';\n",
              "        element.innerHTML = '';\n",
              "        dataTable['output_type'] = 'display_data';\n",
              "        await google.colab.output.renderOutput(dataTable, element);\n",
              "        const docLink = document.createElement('div');\n",
              "        docLink.innerHTML = docLinkHtml;\n",
              "        element.appendChild(docLink);\n",
              "      }\n",
              "    </script>\n",
              "  </div>\n",
              "\n",
              "\n",
              "<div id=\"df-1471403f-e3e0-4b52-8c23-ab0c43f96484\">\n",
              "  <button class=\"colab-df-quickchart\" onclick=\"quickchart('df-1471403f-e3e0-4b52-8c23-ab0c43f96484')\"\n",
              "            title=\"Suggest charts\"\n",
              "            style=\"display:none;\">\n",
              "\n",
              "<svg xmlns=\"http://www.w3.org/2000/svg\" height=\"24px\"viewBox=\"0 0 24 24\"\n",
              "     width=\"24px\">\n",
              "    <g>\n",
              "        <path d=\"M19 3H5c-1.1 0-2 .9-2 2v14c0 1.1.9 2 2 2h14c1.1 0 2-.9 2-2V5c0-1.1-.9-2-2-2zM9 17H7v-7h2v7zm4 0h-2V7h2v10zm4 0h-2v-4h2v4z\"/>\n",
              "    </g>\n",
              "</svg>\n",
              "  </button>\n",
              "\n",
              "<style>\n",
              "  .colab-df-quickchart {\n",
              "      --bg-color: #E8F0FE;\n",
              "      --fill-color: #1967D2;\n",
              "      --hover-bg-color: #E2EBFA;\n",
              "      --hover-fill-color: #174EA6;\n",
              "      --disabled-fill-color: #AAA;\n",
              "      --disabled-bg-color: #DDD;\n",
              "  }\n",
              "\n",
              "  [theme=dark] .colab-df-quickchart {\n",
              "      --bg-color: #3B4455;\n",
              "      --fill-color: #D2E3FC;\n",
              "      --hover-bg-color: #434B5C;\n",
              "      --hover-fill-color: #FFFFFF;\n",
              "      --disabled-bg-color: #3B4455;\n",
              "      --disabled-fill-color: #666;\n",
              "  }\n",
              "\n",
              "  .colab-df-quickchart {\n",
              "    background-color: var(--bg-color);\n",
              "    border: none;\n",
              "    border-radius: 50%;\n",
              "    cursor: pointer;\n",
              "    display: none;\n",
              "    fill: var(--fill-color);\n",
              "    height: 32px;\n",
              "    padding: 0;\n",
              "    width: 32px;\n",
              "  }\n",
              "\n",
              "  .colab-df-quickchart:hover {\n",
              "    background-color: var(--hover-bg-color);\n",
              "    box-shadow: 0 1px 2px rgba(60, 64, 67, 0.3), 0 1px 3px 1px rgba(60, 64, 67, 0.15);\n",
              "    fill: var(--button-hover-fill-color);\n",
              "  }\n",
              "\n",
              "  .colab-df-quickchart-complete:disabled,\n",
              "  .colab-df-quickchart-complete:disabled:hover {\n",
              "    background-color: var(--disabled-bg-color);\n",
              "    fill: var(--disabled-fill-color);\n",
              "    box-shadow: none;\n",
              "  }\n",
              "\n",
              "  .colab-df-spinner {\n",
              "    border: 2px solid var(--fill-color);\n",
              "    border-color: transparent;\n",
              "    border-bottom-color: var(--fill-color);\n",
              "    animation:\n",
              "      spin 1s steps(1) infinite;\n",
              "  }\n",
              "\n",
              "  @keyframes spin {\n",
              "    0% {\n",
              "      border-color: transparent;\n",
              "      border-bottom-color: var(--fill-color);\n",
              "      border-left-color: var(--fill-color);\n",
              "    }\n",
              "    20% {\n",
              "      border-color: transparent;\n",
              "      border-left-color: var(--fill-color);\n",
              "      border-top-color: var(--fill-color);\n",
              "    }\n",
              "    30% {\n",
              "      border-color: transparent;\n",
              "      border-left-color: var(--fill-color);\n",
              "      border-top-color: var(--fill-color);\n",
              "      border-right-color: var(--fill-color);\n",
              "    }\n",
              "    40% {\n",
              "      border-color: transparent;\n",
              "      border-right-color: var(--fill-color);\n",
              "      border-top-color: var(--fill-color);\n",
              "    }\n",
              "    60% {\n",
              "      border-color: transparent;\n",
              "      border-right-color: var(--fill-color);\n",
              "    }\n",
              "    80% {\n",
              "      border-color: transparent;\n",
              "      border-right-color: var(--fill-color);\n",
              "      border-bottom-color: var(--fill-color);\n",
              "    }\n",
              "    90% {\n",
              "      border-color: transparent;\n",
              "      border-bottom-color: var(--fill-color);\n",
              "    }\n",
              "  }\n",
              "</style>\n",
              "\n",
              "  <script>\n",
              "    async function quickchart(key) {\n",
              "      const quickchartButtonEl =\n",
              "        document.querySelector('#' + key + ' button');\n",
              "      quickchartButtonEl.disabled = true;  // To prevent multiple clicks.\n",
              "      quickchartButtonEl.classList.add('colab-df-spinner');\n",
              "      try {\n",
              "        const charts = await google.colab.kernel.invokeFunction(\n",
              "            'suggestCharts', [key], {});\n",
              "      } catch (error) {\n",
              "        console.error('Error during call to suggestCharts:', error);\n",
              "      }\n",
              "      quickchartButtonEl.classList.remove('colab-df-spinner');\n",
              "      quickchartButtonEl.classList.add('colab-df-quickchart-complete');\n",
              "    }\n",
              "    (() => {\n",
              "      let quickchartButtonEl =\n",
              "        document.querySelector('#df-1471403f-e3e0-4b52-8c23-ab0c43f96484 button');\n",
              "      quickchartButtonEl.style.display =\n",
              "        google.colab.kernel.accessAllowed ? 'block' : 'none';\n",
              "    })();\n",
              "  </script>\n",
              "</div>\n",
              "\n",
              "    </div>\n",
              "  </div>\n"
            ],
            "text/plain": [
              "         Rate   Qty\n",
              "0     10000.0   1.0\n",
              "1     10000.0   1.0\n",
              "2     10000.0   1.0\n",
              "3     10000.0   1.0\n",
              "4     10000.0   1.0\n",
              "..        ...   ...\n",
              "396  100000.0  20.0\n",
              "397  100000.0  20.0\n",
              "398  100000.0  20.0\n",
              "399   20000.0   4.0\n",
              "400   30000.0   6.0\n",
              "\n",
              "[400 rows x 2 columns]"
            ]
          },
          "execution_count": 77,
          "metadata": {},
          "output_type": "execute_result"
        }
      ],
      "source": [
        "# Display the data in 'Rate' and 'Qty' columns\n",
        "df[['Rate', 'Qty']].head(10)\n"
      ]
    },
    {
      "cell_type": "code",
      "execution_count": 60,
      "metadata": {
        "colab": {
          "base_uri": "https://localhost:8080/"
        },
        "id": "i8r2cQe8jOlI",
        "outputId": "340cf468-1f16-4ae8-c68f-571842705254"
      },
      "outputs": [
        {
          "name": "stdout",
          "output_type": "stream",
          "text": [
            "[]\n"
          ]
        }
      ],
      "source": [
        "# Check for non-numeric data types\n",
        "non_numeric = df.select_dtypes(include=['object']).columns.tolist()\n",
        "\n",
        "\n",
        "print(non_numeric)"
      ]
    },
    {
      "cell_type": "code",
      "execution_count": 61,
      "metadata": {
        "colab": {
          "base_uri": "https://localhost:8080/",
          "height": 731
        },
        "id": "D9JKbngixGQ2",
        "outputId": "494503bd-daff-4063-ddd1-dd15b576e668"
      },
      "outputs": [
        {
          "data": {
            "text/html": [
              "<div>\n",
              "<style scoped>\n",
              "    .dataframe tbody tr th:only-of-type {\n",
              "        vertical-align: middle;\n",
              "    }\n",
              "\n",
              "    .dataframe tbody tr th {\n",
              "        vertical-align: top;\n",
              "    }\n",
              "\n",
              "    .dataframe thead th {\n",
              "        text-align: right;\n",
              "    }\n",
              "</style>\n",
              "<table border=\"1\" class=\"dataframe\">\n",
              "  <thead>\n",
              "    <tr style=\"text-align: right;\">\n",
              "      <th></th>\n",
              "      <th>TrnsDate</th>\n",
              "      <th>ProdId</th>\n",
              "      <th>ProdDesc</th>\n",
              "      <th>Qty</th>\n",
              "      <th>Rate</th>\n",
              "      <th>Amount</th>\n",
              "    </tr>\n",
              "  </thead>\n",
              "  <tbody>\n",
              "    <tr>\n",
              "      <th>171729</th>\n",
              "      <td>2019-06-29</td>\n",
              "      <td>171829</td>\n",
              "      <td>2012</td>\n",
              "      <td>9.0</td>\n",
              "      <td>10000.0</td>\n",
              "      <td>1.000000e+04</td>\n",
              "    </tr>\n",
              "    <tr>\n",
              "      <th>171730</th>\n",
              "      <td>2019-06-29</td>\n",
              "      <td>171830</td>\n",
              "      <td>1348</td>\n",
              "      <td>9.0</td>\n",
              "      <td>10000.0</td>\n",
              "      <td>1.000000e+04</td>\n",
              "    </tr>\n",
              "    <tr>\n",
              "      <th>171731</th>\n",
              "      <td>2018-08-30</td>\n",
              "      <td>171831</td>\n",
              "      <td>1368</td>\n",
              "      <td>875.0</td>\n",
              "      <td>4375000.0</td>\n",
              "      <td>3.828125e+09</td>\n",
              "    </tr>\n",
              "    <tr>\n",
              "      <th>171732</th>\n",
              "      <td>2018-08-30</td>\n",
              "      <td>171832</td>\n",
              "      <td>1818</td>\n",
              "      <td>680.0</td>\n",
              "      <td>3400000.0</td>\n",
              "      <td>2.312000e+09</td>\n",
              "    </tr>\n",
              "  </tbody>\n",
              "</table>\n",
              "</div>"
            ],
            "text/plain": [
              "         TrnsDate  ProdId  ProdDesc    Qty       Rate        Amount\n",
              "171729 2019-06-29  171829      2012    9.0    10000.0  1.000000e+04\n",
              "171730 2019-06-29  171830      1348    9.0    10000.0  1.000000e+04\n",
              "171731 2018-08-30  171831      1368  875.0  4375000.0  3.828125e+09\n",
              "171732 2018-08-30  171832      1818  680.0  3400000.0  2.312000e+09"
            ]
          },
          "execution_count": 61,
          "metadata": {},
          "output_type": "execute_result"
        }
      ],
      "source": [
        "df.tail(4)"
      ]
    },
    {
      "cell_type": "markdown",
      "metadata": {},
      "source": [
        "Feature Engineering:"
      ]
    },
    {
      "cell_type": "code",
      "execution_count": 66,
      "metadata": {
        "id": "0avSlnXPL13h"
      },
      "outputs": [],
      "source": [
        "# Extract year, month, day of week from 'TrnsDate'\n",
        "df['Month'] = df['TrnsDate'].dt.month\n",
        "df['Year'] = df['TrnsDate'].dt.year\n",
        "df['Week'] = df['TrnsDate'].dt.day_of_week"
      ]
    },
    {
      "cell_type": "markdown",
      "metadata": {},
      "source": [
        "Time series analysis:\n",
        "It is used to analyze data points collected or recorded at specific time intervals. It's often used in forecasting, anomaly detection, and trend analysis.\n",
        "\n",
        "Data Loading and Preprocessing:\n",
        "\n",
        "A simple time series of monthly sales is created using pd.date_range to generate dates and np.random.randint for the sales data. \n",
        "\n",
        "Visualization:\n",
        "\n",
        "The time series data is visualized using matplotlib to see the pattern and trends in the data.\n",
        "\n",
        "Decomposition:\n",
        "\n",
        "The seasonal_decompose function from statsmodels breaks the time series into trend, seasonal, and residual components. This helps understand the underlying patterns in the data.\n",
        "\n",
        "ARIMA Model:\n",
        "\n",
        "ARIMA (AutoRegressive Integrated Moving Average) is a commonly used model for time series forecasting.\n",
        "The code uses ARIMA(1, 1, 1), where:\n",
        "1: Number of lag observations for AR (AutoRegressive part)\n",
        "1: Number of times to difference the data to make it stationary (Differencing part)\n",
        "1: Size of the moving average window (Moving Average part)\n",
        "The model is trained on the training data (train), and forecasts are made on the test data (test).\n",
        "\n",
        "Model Evaluation:\n",
        "\n",
        "The performance of the model is evaluated using Mean Squared Error (MSE), which measures how well the forecast matches the actual values. A lower MSE indicates better performance.\n",
        "\n",
        "Forecast Visualization:\n",
        "\n",
        "The forecasted sales are plotted alongside the training and test data to visualize how well the ARIMA model predicts future sales."
      ]
    },
    {
      "cell_type": "code",
      "execution_count": 117,
      "metadata": {},
      "outputs": [
        {
          "name": "stderr",
          "output_type": "stream",
          "text": [
            "C:\\Users\\SyedArshad\\AppData\\Local\\Temp\\ipykernel_17876\\331876267.py:9: FutureWarning: 'M' is deprecated and will be removed in a future version, please use 'ME' instead.\n",
            "  dates = pd.date_range(start=\"2020-01-01\", periods=24, freq=\"M\")\n"
          ]
        },
        {
          "data": {
            "image/png": "[encoded data removed]",
            "text/plain": [
              "<Figure size 1000x600 with 1 Axes>"
            ]
          },
          "metadata": {},
          "output_type": "display_data"
        },
        {
          "data": {
            "image/png": "[encoded data removed]",
            "text/plain": [
              "<Figure size 640x480 with 4 Axes>"
            ]
          },
          "metadata": {},
          "output_type": "display_data"
        },
        {
          "name": "stderr",
          "output_type": "stream",
          "text": [
            "c:\\syeda aliza arshad\\project\\myenv\\Lib\\site-packages\\statsmodels\\tsa\\base\\tsa_model.py:473: ValueWarning: No frequency information was provided, so inferred frequency ME will be used.\n",
            "  self._init_dates(dates, freq)\n",
            "c:\\syeda aliza arshad\\project\\myenv\\Lib\\site-packages\\statsmodels\\tsa\\base\\tsa_model.py:473: ValueWarning: No frequency information was provided, so inferred frequency ME will be used.\n",
            "  self._init_dates(dates, freq)\n",
            "c:\\syeda aliza arshad\\project\\myenv\\Lib\\site-packages\\statsmodels\\tsa\\base\\tsa_model.py:473: ValueWarning: No frequency information was provided, so inferred frequency ME will be used.\n",
            "  self._init_dates(dates, freq)\n"
          ]
        },
        {
          "name": "stdout",
          "output_type": "stream",
          "text": [
            "Mean Squared Error: 14734.648683367905\n"
          ]
        },
        {
          "data": {
            "image/png": "[encoded data removed]",
            "text/plain": [
              "<Figure size 1000x600 with 1 Axes>"
            ]
          },
          "metadata": {},
          "output_type": "display_data"
        }
      ],
      "source": [
        "from statsmodels.tsa.seasonal import seasonal_decompose\n",
        "from statsmodels.tsa.arima.model import ARIMA\n",
        "from sklearn.metrics import mean_squared_error\n",
        "from datetime import datetime\n",
        "\n",
        "# Step 1: Load and preprocess the data\n",
        "\n",
        "# Example: Creating a simple time series (monthly sales data)\n",
        "dates = pd.date_range(start=\"2020-01-01\", periods=24, freq=\"M\")\n",
        "sales = np.random.randint(100, 500, size=24)  # Simulating sales data\n",
        "\n",
        "# Create a DataFrame\n",
        "df = pd.DataFrame({'TrnsDate': dates, 'Amount': sales})\n",
        "df.set_index('TrnsDate', inplace=True)\n",
        "\n",
        "# Step 2: Visualize the time series data\n",
        "plt.figure(figsize=(10, 6))\n",
        "plt.plot(df.index, df['Amount'], label='Amount')\n",
        "plt.title('Monthly Sales Data')\n",
        "plt.xlabel('Date')\n",
        "plt.ylabel('Sales')\n",
        "plt.legend()\n",
        "plt.grid(True)\n",
        "plt.show()\n",
        "\n",
        "# Step 3: Decompose the time series (Trend, Seasonal, Residual)\n",
        "decomposition = seasonal_decompose(df['Amount'], model='additive', period=12)\n",
        "decomposition.plot()\n",
        "plt.show()\n",
        "\n",
        "# Step 4: Fit an ARIMA model\n",
        "# ARIMA model requires the data to be stationary (constant mean, variance over time), so we need to check and differentiate if needed\n",
        "\n",
        "# Differencing to make the series stationary\n",
        "df['Amount_diff'] = df['Amount'].diff().dropna()\n",
        "\n",
        "# Split the data into training and testing\n",
        "train_size = int(len(df) * 0.8)\n",
        "train, test = df['Amount'][:train_size], df['Amount'][train_size:]\n",
        "\n",
        "# Fit ARIMA Model (parameters p, d, q)\n",
        "# p - the number of lag observations in the model (AR)\n",
        "# d - the number of times that the raw observations are differenced (I)\n",
        "# q - the size of the moving average window (MA)\n",
        "\n",
        "# Here we will use ARIMA(1,1,1) for simplicity\n",
        "model = ARIMA(train, order=(1, 1, 1))\n",
        "model_fit = model.fit()\n",
        "\n",
        "# Forecast the sales using the trained model\n",
        "forecast = model_fit.forecast(steps=len(test))\n",
        "\n",
        "# Step 5: Evaluate the model\n",
        "mse = mean_squared_error(test, forecast)\n",
        "print(f\"Mean Squared Error: {mse}\")\n",
        "\n",
        "# Visualize the forecast vs actual\n",
        "plt.figure(figsize=(10, 6))\n",
        "plt.plot(df.index[:train_size], train, label='Training Data')\n",
        "plt.plot(df.index[train_size:], test, label='Actual Sales')\n",
        "plt.plot(df.index[train_size:], forecast, label='Forecasted Sales', color='red')\n",
        "plt.title('ARIMA Forecast vs Actual Sales')\n",
        "plt.xlabel('Date')\n",
        "plt.ylabel('Sales')\n",
        "plt.legend()\n",
        "plt.grid(True)\n",
        "plt.show()\n"
      ]
    },
    {
      "cell_type": "code",
      "execution_count": 63,
      "metadata": {
        "colab": {
          "base_uri": "https://localhost:8080/",
          "height": 206
        },
        "id": "dmZ8Ogj8Jp06",
        "outputId": "5c2d6bbd-c0f0-4920-8588-f9ef7217baa1"
      },
      "outputs": [
        {
          "data": {
            "text/html": [
              "<div>\n",
              "<style scoped>\n",
              "    .dataframe tbody tr th:only-of-type {\n",
              "        vertical-align: middle;\n",
              "    }\n",
              "\n",
              "    .dataframe tbody tr th {\n",
              "        vertical-align: top;\n",
              "    }\n",
              "\n",
              "    .dataframe thead th {\n",
              "        text-align: right;\n",
              "    }\n",
              "</style>\n",
              "<table border=\"1\" class=\"dataframe\">\n",
              "  <thead>\n",
              "    <tr style=\"text-align: right;\">\n",
              "      <th></th>\n",
              "      <th>TrnsDate</th>\n",
              "      <th>ProdId</th>\n",
              "      <th>ProdDesc</th>\n",
              "      <th>Qty</th>\n",
              "      <th>Rate</th>\n",
              "      <th>Amount</th>\n",
              "      <th>Month</th>\n",
              "      <th>Year</th>\n",
              "    </tr>\n",
              "  </thead>\n",
              "  <tbody>\n",
              "    <tr>\n",
              "      <th>0</th>\n",
              "      <td>2023-08-02</td>\n",
              "      <td>100</td>\n",
              "      <td>135</td>\n",
              "      <td>9.0</td>\n",
              "      <td>10000.0</td>\n",
              "      <td>10000.0</td>\n",
              "      <td>8</td>\n",
              "      <td>2</td>\n",
              "    </tr>\n",
              "    <tr>\n",
              "      <th>1</th>\n",
              "      <td>2023-08-02</td>\n",
              "      <td>101</td>\n",
              "      <td>135</td>\n",
              "      <td>9.0</td>\n",
              "      <td>10000.0</td>\n",
              "      <td>10000.0</td>\n",
              "      <td>8</td>\n",
              "      <td>2</td>\n",
              "    </tr>\n",
              "    <tr>\n",
              "      <th>2</th>\n",
              "      <td>2023-08-02</td>\n",
              "      <td>102</td>\n",
              "      <td>135</td>\n",
              "      <td>9.0</td>\n",
              "      <td>10000.0</td>\n",
              "      <td>10000.0</td>\n",
              "      <td>8</td>\n",
              "      <td>2</td>\n",
              "    </tr>\n",
              "    <tr>\n",
              "      <th>3</th>\n",
              "      <td>2023-08-08</td>\n",
              "      <td>103</td>\n",
              "      <td>134</td>\n",
              "      <td>9.0</td>\n",
              "      <td>10000.0</td>\n",
              "      <td>10000.0</td>\n",
              "      <td>8</td>\n",
              "      <td>1</td>\n",
              "    </tr>\n",
              "    <tr>\n",
              "      <th>4</th>\n",
              "      <td>2023-09-13</td>\n",
              "      <td>104</td>\n",
              "      <td>134</td>\n",
              "      <td>9.0</td>\n",
              "      <td>10000.0</td>\n",
              "      <td>10000.0</td>\n",
              "      <td>9</td>\n",
              "      <td>2</td>\n",
              "    </tr>\n",
              "  </tbody>\n",
              "</table>\n",
              "</div>"
            ],
            "text/plain": [
              "    TrnsDate  ProdId  ProdDesc  Qty     Rate   Amount  Month  Year\n",
              "0 2023-08-02     100       135  9.0  10000.0  10000.0      8     2\n",
              "1 2023-08-02     101       135  9.0  10000.0  10000.0      8     2\n",
              "2 2023-08-02     102       135  9.0  10000.0  10000.0      8     2\n",
              "3 2023-08-08     103       134  9.0  10000.0  10000.0      8     1\n",
              "4 2023-09-13     104       134  9.0  10000.0  10000.0      9     2"
            ]
          },
          "execution_count": 63,
          "metadata": {},
          "output_type": "execute_result"
        }
      ],
      "source": [
        "df.head()"
      ]
    },
    {
      "cell_type": "code",
      "execution_count": 64,
      "metadata": {
        "colab": {
          "base_uri": "https://localhost:8080/",
          "height": 564
        },
        "collapsed": true,
        "id": "VLawcXngI8BD",
        "outputId": "297d33c1-7349-4d1c-8986-d8e48a41ab9b"
      },
      "outputs": [
        {
          "data": {
            "image/png": "[encoded data removed]",
            "text/plain": [
              "<Figure size 1000x600 with 1 Axes>"
            ]
          },
          "metadata": {},
          "output_type": "display_data"
        }
      ],
      "source": [
        "# Plot sales trends over time\n",
        "plt.figure(figsize=(10, 6))\n",
        "sns.lineplot(x='Month', y='Amount', data=df, estimator='sum')\n",
        "plt.title('Monthly Sales Trends')\n",
        "plt.show()"
      ]
    },
    {
      "cell_type": "code",
      "execution_count": 65,
      "metadata": {
        "id": "FU-vxaxLMwEc"
      },
      "outputs": [
        {
          "name": "stdout",
          "output_type": "stream",
          "text": [
            "Index(['TrnsDate', 'ProdId', 'ProdDesc', 'Qty', 'Rate', 'Amount', 'Month',\n",
            "       'Year'],\n",
            "      dtype='object')\n"
          ]
        }
      ],
      "source": [
        "print(df.columns)"
      ]
    },
    {
      "cell_type": "markdown",
      "metadata": {
        "id": "kPDHkWtoljNt"
      },
      "source": [
        "# ***Split the Data into Training and Testing Sets***"
      ]
    },
    {
      "cell_type": "code",
      "execution_count": 68,
      "metadata": {
        "colab": {
          "base_uri": "https://localhost:8080/"
        },
        "id": "x6AcWl1clp4Q",
        "outputId": "b23b094c-33a4-4a2d-e2df-546bb1a7d547"
      },
      "outputs": [
        {
          "name": "stdout",
          "output_type": "stream",
          "text": [
            "Training and testing data successfully split.\n"
          ]
        }
      ],
      "source": [
        "# Define the features (independent variables): Quantity and Rate\n",
        "X = df_scaled.drop(['Amount'], axis=1) # Assuming your dataset has columns 'Quantity' and 'Rate'\n",
        "\n",
        "# Define the target (dependent variable): Amount\n",
        "y = df_scaled['Amount']  # 'Amount' is the target variable representing sales\n",
        "\n",
        "# Split the data into 80% training and 20% testing\n",
        "X_train, X_test, y_train, y_test = train_test_split(X, y, test_size=0.2, random_state=42)\n",
        "\n",
        "print(\"Training and testing data successfully split.\")\n"
      ]
    },
    {
      "cell_type": "code",
      "execution_count": 76,
      "metadata": {
        "colab": {
          "base_uri": "https://localhost:8080/"
        },
        "id": "LiStt527EF5U",
        "outputId": "b3f57817-b41a-4590-ee37-341a5fdf4112"
      },
      "outputs": [
        {
          "data": {
            "text/plain": [
              "(137326, 7)"
            ]
          },
          "execution_count": 76,
          "metadata": {},
          "output_type": "execute_result"
        }
      ],
      "source": [
        "X_train_scaled.shape"
      ]
    },
    {
      "cell_type": "code",
      "execution_count": 77,
      "metadata": {
        "colab": {
          "base_uri": "https://localhost:8080/"
        },
        "id": "fiGaAwWEEHkV",
        "outputId": "298bfb2d-bb4b-4237-a84c-81a020450a8c"
      },
      "outputs": [
        {
          "data": {
            "text/plain": [
              "(137326,)"
            ]
          },
          "execution_count": 77,
          "metadata": {},
          "output_type": "execute_result"
        }
      ],
      "source": [
        "y_train.shape"
      ]
    },
    {
      "cell_type": "code",
      "execution_count": 32,
      "metadata": {
        "colab": {
          "base_uri": "https://localhost:8080/"
        },
        "id": "VO95i9h6Epa3",
        "outputId": "96260f3f-a862-4d0b-b319-96e8d1d6c843"
      },
      "outputs": [
        {
          "name": "stdout",
          "output_type": "stream",
          "text": [
            "<class 'pandas.core.frame.DataFrame'>\n",
            "RangeIndex: 1048575 entries, 0 to 1048574\n",
            "Data columns (total 6 columns):\n",
            " #   Column    Non-Null Count    Dtype         \n",
            "---  ------    --------------    -----         \n",
            " 0   TrnsDate  1048575 non-null  datetime64[ns]\n",
            " 1   ProdId    1048575 non-null  int64         \n",
            " 2   ProdDesc  1048575 non-null  int64         \n",
            " 3   Qty       1048575 non-null  float64       \n",
            " 4   Rate      1048575 non-null  float64       \n",
            " 5   Amount    1048575 non-null  float64       \n",
            "dtypes: datetime64[ns](1), float64(3), int64(2)\n",
            "memory usage: 48.0 MB\n"
          ]
        }
      ],
      "source": [
        "df.info()"
      ]
    },
    {
      "cell_type": "markdown",
      "metadata": {
        "id": "Ln786LhumRhS"
      },
      "source": [
        "# ***Scaling Only After Splitting***"
      ]
    },
    {
      "cell_type": "code",
      "execution_count": 69,
      "metadata": {
        "id": "CPZ1MbcTmU5a"
      },
      "outputs": [],
      "source": [
        "# Fit the scaler on training data\n",
        "scaler = StandardScaler()\n",
        "X_train_scaled = scaler.fit_transform(X_train)\n",
        "\n",
        "# Apply the same scaling to test data\n",
        "X_test_scaled = scaler.transform(X_test)\n"
      ]
    },
    {
      "cell_type": "code",
      "execution_count": 78,
      "metadata": {},
      "outputs": [
        {
          "name": "stdout",
          "output_type": "stream",
          "text": [
            "Features after scaling:\n",
            "[[-0.41058727 -0.25189118  0.34625836 ... -0.40246307 -0.02156411\n",
            "  -0.86103017]\n",
            " [-0.53972543 -0.29544388  1.43922177 ... -0.11091258 -1.09372677\n",
            "  -0.86103017]\n",
            " [ 0.0807315  -0.08619068  0.72609126 ...  1.63839035 -1.09372677\n",
            "   0.30974476]\n",
            " ...\n",
            " [-0.40613423 -0.25038936  0.93351143 ...  0.18063791 -1.09372677\n",
            "   0.30974476]\n",
            " [ 0.53457051  0.06686953  1.23515294 ... -1.56866502 -1.09372677\n",
            "  -0.2756427 ]\n",
            " [ 1.64226425  0.44044656  0.73214791 ... -0.40246307 -0.55764544\n",
            "   0.89513223]]\n",
            "\n",
            "Feature DataFrame:\n",
            "         TrnsDate  ProdId  ProdDesc    Qty       Rate        Amount  Month  \\\n",
            "0      2023-08-02     100       135    9.0    10000.0  1.000000e+04      8   \n",
            "1      2023-08-02     101       135    9.0    10000.0  1.000000e+04      8   \n",
            "2      2023-08-02     102       135    9.0    10000.0  1.000000e+04      8   \n",
            "3      2023-08-08     103       134    9.0    10000.0  1.000000e+04      8   \n",
            "4      2023-09-13     104       134    9.0    10000.0  1.000000e+04      9   \n",
            "...           ...     ...       ...    ...        ...           ...    ...   \n",
            "171728 2019-05-31  171828       798  700.0  3500000.0  2.450000e+09      5   \n",
            "171729 2019-06-29  171829      2012    9.0    10000.0  1.000000e+04      6   \n",
            "171730 2019-06-29  171830      1348    9.0    10000.0  1.000000e+04      6   \n",
            "171731 2018-08-30  171831      1368  875.0  4375000.0  3.828125e+09      8   \n",
            "171732 2018-08-30  171832      1818  680.0  3400000.0  2.312000e+09      8   \n",
            "\n",
            "        Year  Week  \n",
            "0       2023     2  \n",
            "1       2023     2  \n",
            "2       2023     2  \n",
            "3       2023     1  \n",
            "4       2023     2  \n",
            "...      ...   ...  \n",
            "171728  2019     4  \n",
            "171729  2019     5  \n",
            "171730  2019     5  \n",
            "171731  2018     3  \n",
            "171732  2018     3  \n",
            "\n",
            "[171658 rows x 9 columns]\n"
          ]
        }
      ],
      "source": [
        "# Display results\n",
        "print(\"Features after scaling:\")\n",
        "print(X_train_scaled)\n",
        "\n",
        "print(\"\\nFeature DataFrame:\")\n",
        "print(df)"
      ]
    },
    {
      "cell_type": "code",
      "execution_count": 88,
      "metadata": {},
      "outputs": [
        {
          "data": {
            "text/plain": [
              "(137326, 7)"
            ]
          },
          "execution_count": 88,
          "metadata": {},
          "output_type": "execute_result"
        }
      ],
      "source": [
        "X_train_scaled.shape"
      ]
    },
    {
      "cell_type": "code",
      "execution_count": 89,
      "metadata": {},
      "outputs": [
        {
          "data": {
            "text/plain": [
              "(34332, 7)"
            ]
          },
          "execution_count": 89,
          "metadata": {},
          "output_type": "execute_result"
        }
      ],
      "source": [
        "X_test_scaled.shape"
      ]
    },
    {
      "cell_type": "markdown",
      "metadata": {
        "id": "yVRLqYUR8aw5"
      },
      "source": [
        "# **MODEL SELECTION:**\n",
        "\n",
        "**Time Series Models:**\n",
        "If you're forecasting future sales, consider time series models like ARIMA, Prophet, or SARIMA.\n",
        "\n",
        "**Regression Models:**\n",
        "Linear regression, decision trees, random forests, and support vector machines can also be effective for sales prediction.\n",
        "\n",
        "**Neural Networks:**\n",
        "For complex relationships and large datasets, consider neural networks (e.g., feedforward neural networks, recurrent neural networks).\n",
        "\n",
        "**k-Nearest Neighbors:**\n",
        "When dealing with small to medium-sized datasets with clear decision boundaries. However, it's important to consider its limitations, especially for large or high-dimensional data."
      ]
    },
    {
      "cell_type": "markdown",
      "metadata": {
        "id": "styAyksUQahv"
      },
      "source": [
        "# ***Train The Data Random Forest Regressor***"
      ]
    },
    {
      "cell_type": "markdown",
      "metadata": {
        "id": "leCAGtEg6G7C"
      },
      "source": [
        "***R²***  measures the proportion of variance in the dependent variable (target) that is predictable from the independent variables (features).\n",
        "\n",
        "\n",
        "*   A value of 0 means the model predicts no better than the mean of the target values.\n",
        "\n",
        "*   A value closer to 1 indicates a better fit (high accuracy).\n",
        "\n",
        "\n",
        "*   Negative values indicate that the model performs worse than simply predicting the mean.\n",
        "\n",
        "\n",
        "***MSE***  calculates the average squared difference between predicted and actual values. Smaller values are better as they indicate predictio\n",
        "ns are closer to the actual values.\n",
        "\n",
        "\n",
        "*    Lower MSE signifies higher accuracy.\n",
        "\n",
        "***MAE***  is especially useful when you want a simple and interpretable measure of error without emphasizing large errors as MSE does.\n",
        "\n",
        "\n"
      ]
    },
    {
      "cell_type": "code",
      "execution_count": 90,
      "metadata": {
        "colab": {
          "base_uri": "https://localhost:8080/"
        },
        "id": "OPyrN7qFJmXF",
        "outputId": "0ee57a30-27e3-4197-9302-953f85d533ff"
      },
      "outputs": [
        {
          "name": "stdout",
          "output_type": "stream",
          "text": [
            "Mean Squared Error: 6.223856891035376e-05\n",
            "R-squared: 0.9999247170912393\n"
          ]
        }
      ],
      "source": [
        "# Train Random Forest Regressor\n",
        "rfr = RandomForestRegressor(random_state=42)\n",
        "rfr.fit(X_train_scaled, y_train)  # Fit regression model\n",
        "y_pred = rfr.predict(X_test_scaled)\n",
        "\n",
        "# Evaluate model performance\n",
        "mse = mean_squared_error(y_test, y_pred)\n",
        "r2 = r2_score(y_test, y_pred)\n",
        "\n",
        "print(f\"Mean Squared Error: {mse}\")\n",
        "print(f\"R-squared: {r2}\")\n"
      ]
    },
    {
      "cell_type": "markdown",
      "metadata": {
        "id": "mC_y5LlwOBkG"
      },
      "source": [
        "# ***Train The Data XG BOOST REGRESSOR***"
      ]
    },
    {
      "cell_type": "code",
      "execution_count": null,
      "metadata": {
        "colab": {
          "base_uri": "https://localhost:8080/"
        },
        "id": "79Wozjn1dyei",
        "outputId": "b2ea1b54-9f2b-4d5e-cb25-419e6042dc95"
      },
      "outputs": [
        {
          "name": "stdout",
          "output_type": "stream",
          "text": [
            "Mean Squared Error: 0.5341771927872038\n",
            "R-squared: 0.3538666847474433\n"
          ]
        }
      ],
      "source": [
        "import xgboost as xgb\n",
        "\n",
        "# Train XGBoost Regressor\n",
        "xbg = xgb.XGBRegressor(random_state=42)\n",
        "xbg.fit(X_train_scaled, y_train)  # Fit regression model\n",
        "y_pred = xbg.predict(X_test_scaled)\n",
        "\n",
        "# Evaluate model performance\n",
        "mse = mean_squared_error(y_test, y_pred)\n",
        "r2 = r2_score(y_test, y_pred)\n",
        "\n",
        "print(f\"Mean Squared Error: {mse}\")\n",
        "print(f\"R-squared: {r2}\")\n"
      ]
    },
    {
      "cell_type": "code",
      "execution_count": 52,
      "metadata": {
        "colab": {
          "base_uri": "https://localhost:8080/"
        },
        "id": "2-7WiIlaHfur",
        "outputId": "d96be604-b5e8-4b61-b5ab-76aeab07f020"
      },
      "outputs": [
        {
          "name": "stdout",
          "output_type": "stream",
          "text": [
            "Index(['TrnsDate', 'ProdId', 'ProdDesc', 'Qty', 'Rate', 'Amount'], dtype='object')\n"
          ]
        }
      ],
      "source": [
        "print(df.columns)"
      ]
    },
    {
      "cell_type": "code",
      "execution_count": null,
      "metadata": {
        "colab": {
          "base_uri": "https://localhost:8080/"
        },
        "id": "qNCEixVIcwNe",
        "outputId": "36a6ee1f-f673-4b35-c131-78ce53511054"
      },
      "outputs": [
        {
          "name": "stdout",
          "output_type": "stream",
          "text": [
            "<class 'pandas.core.frame.DataFrame'>\n",
            "Index: 168978 entries, 0 to 171732\n",
            "Data columns (total 7 columns):\n",
            " #   Column    Non-Null Count   Dtype         \n",
            "---  ------    --------------   -----         \n",
            " 0   TrnsDate  168978 non-null  datetime64[ns]\n",
            " 1   ProdId    168978 non-null  object        \n",
            " 2   ProdDesc  168978 non-null  object        \n",
            " 3   Qty       168978 non-null  float64       \n",
            " 4   Rate      168978 non-null  float64       \n",
            " 5   Amount    168978 non-null  float64       \n",
            " 6   Month     168978 non-null  int32         \n",
            "dtypes: datetime64[ns](1), float64(3), int32(1), object(2)\n",
            "memory usage: 9.7+ MB\n"
          ]
        }
      ],
      "source": [
        "df.info()"
      ]
    },
    {
      "cell_type": "markdown",
      "metadata": {
        "id": "nxO73cjxQyh0"
      },
      "source": [
        "# ***Train The Data Using Linear Regression***"
      ]
    },
    {
      "cell_type": "code",
      "execution_count": 92,
      "metadata": {
        "colab": {
          "base_uri": "https://localhost:8080/"
        },
        "id": "d1-z-QMsNU4l",
        "outputId": "e275d3bf-db65-4ecf-e436-19ec23a3040c"
      },
      "outputs": [
        {
          "name": "stdout",
          "output_type": "stream",
          "text": [
            "\n",
            "LinearRegression:\n",
            "Mean Squared Error: 0.11800371484684856\n",
            "R-squared: 0.8572643450232716\n"
          ]
        }
      ],
      "source": [
        "from sklearn.linear_model import LinearRegression\n",
        "\n",
        "#Applying linear regression\n",
        "#Train the model\n",
        "lr = LinearRegression()\n",
        "lr.fit(X_train_scaled, y_train)  # Fit regression model\n",
        "y_pred = lr.predict(X_test_scaled)\n",
        "\n",
        "# Evaluate the model\n",
        "mse = mean_squared_error(y_test, y_pred)\n",
        "r2 = r2_score(y_test, y_pred)\n",
        "\n",
        "# Print evaluation metrics\n",
        "\n",
        "print(\"\\nLinearRegression:\")\n",
        "print(f\"Mean Squared Error: {mse}\")\n",
        "print(f\"R-squared: {r2}\")"
      ]
    },
    {
      "cell_type": "markdown",
      "metadata": {
        "id": "5liGLMN3kJWB"
      },
      "source": [
        "# ***TRAIN AND TESTING DATA USING NEURAL NETWORK***"
      ]
    },
    {
      "cell_type": "code",
      "execution_count": 84,
      "metadata": {
        "id": "mP-fXrLvYKYO"
      },
      "outputs": [],
      "source": [
        "from sklearn.neighbors import KNeighborsRegressor\n",
        "from sklearn.neural_network import MLPRegressor\n",
        "from sklearn.metrics import accuracy_score"
      ]
    },
    {
      "cell_type": "code",
      "execution_count": 94,
      "metadata": {
        "colab": {
          "base_uri": "https://localhost:8080/"
        },
        "id": "u6Mam3WzkJl_",
        "outputId": "bffc97c8-9cbf-49b9-db29-564df675557b"
      },
      "outputs": [
        {
          "name": "stdout",
          "output_type": "stream",
          "text": [
            "\n",
            "MLP Regressor:\n",
            "  Mean Squared Error: 6.29834153932276e-05\n",
            "  R-squared: 0.999923816135276\n"
          ]
        }
      ],
      "source": [
        "# Neural Network Regressor\n",
        "# Multi-Layer Perceptron (MLP) Regressor\n",
        "mlp_regressor = MLPRegressor(hidden_layer_sizes=(50,), max_iter=100, random_state=42, early_stopping=True, validation_fraction=0.1, n_iter_no_change=10)\n",
        "mlp_regressor.fit(X_train_scaled, y_train)\n",
        "mlp_y_pred = mlp_regressor.predict(X_test_scaled)\n",
        "mlp_mse = mean_squared_error(y_test, mlp_y_pred)\n",
        "mlp_r2 = r2_score(y_test, mlp_y_pred)\n",
        "\n",
        "\n",
        "print(\"\\nMLP Regressor:\")\n",
        "print(f\"  Mean Squared Error: {mlp_mse}\")\n",
        "print(f\"  R-squared: {mlp_r2}\")"
      ]
    },
    {
      "cell_type": "markdown",
      "metadata": {
        "id": "4cQKnDgAkyGt"
      },
      "source": [
        "# ***Train The Data Using KNN Regressor***"
      ]
    },
    {
      "cell_type": "code",
      "execution_count": 93,
      "metadata": {
        "colab": {
          "base_uri": "https://localhost:8080/"
        },
        "id": "uBM4ZumtZwZ2",
        "outputId": "273b41ee-9d95-4d9c-a682-a016eb3ba3fb"
      },
      "outputs": [
        {
          "name": "stdout",
          "output_type": "stream",
          "text": [
            "KNN MSE: 0.003185068039349402\n",
            "KNN R-squared: 0.9961473859248243\n"
          ]
        }
      ],
      "source": [
        "# Train the KNN model\n",
        "knn_regressor = KNeighborsRegressor(n_neighbors=5)\n",
        "knn_regressor.fit(X_train_scaled, y_train)\n",
        "\n",
        "# Make predictions\n",
        "knn_y_pred = knn_regressor.predict(X_test_scaled)\n",
        "\n",
        "# Evaluate the model's performance\n",
        "knn_mse = mean_squared_error(y_test, knn_y_pred)\n",
        "print(f\"KNN MSE: {knn_mse}\")\n",
        "\n",
        "knn_r2 = r2_score(y_test, knn_y_pred)\n",
        "print(f\"KNN R-squared: {knn_r2}\")"
      ]
    },
    {
      "cell_type": "code",
      "execution_count": 95,
      "metadata": {
        "colab": {
          "base_uri": "https://localhost:8080/",
          "height": 206
        },
        "id": "sVl6HxBlK71p",
        "outputId": "52ca0c40-08ff-40be-ffd9-b816088b9f19"
      },
      "outputs": [
        {
          "data": {
            "text/html": [
              "<div>\n",
              "<style scoped>\n",
              "    .dataframe tbody tr th:only-of-type {\n",
              "        vertical-align: middle;\n",
              "    }\n",
              "\n",
              "    .dataframe tbody tr th {\n",
              "        vertical-align: top;\n",
              "    }\n",
              "\n",
              "    .dataframe thead th {\n",
              "        text-align: right;\n",
              "    }\n",
              "</style>\n",
              "<table border=\"1\" class=\"dataframe\">\n",
              "  <thead>\n",
              "    <tr style=\"text-align: right;\">\n",
              "      <th></th>\n",
              "      <th>TrnsDate</th>\n",
              "      <th>ProdId</th>\n",
              "      <th>ProdDesc</th>\n",
              "      <th>Qty</th>\n",
              "      <th>Rate</th>\n",
              "      <th>Amount</th>\n",
              "      <th>Month</th>\n",
              "      <th>Year</th>\n",
              "      <th>Week</th>\n",
              "    </tr>\n",
              "  </thead>\n",
              "  <tbody>\n",
              "    <tr>\n",
              "      <th>89034</th>\n",
              "      <td>2023-06-15</td>\n",
              "      <td>89134</td>\n",
              "      <td>1988</td>\n",
              "      <td>2400.0</td>\n",
              "      <td>12000000.0</td>\n",
              "      <td>2.880000e+10</td>\n",
              "      <td>6</td>\n",
              "      <td>2023</td>\n",
              "      <td>3</td>\n",
              "    </tr>\n",
              "    <tr>\n",
              "      <th>134168</th>\n",
              "      <td>2020-12-19</td>\n",
              "      <td>134268</td>\n",
              "      <td>740</td>\n",
              "      <td>11500.0</td>\n",
              "      <td>57500000.0</td>\n",
              "      <td>6.612500e+11</td>\n",
              "      <td>12</td>\n",
              "      <td>2020</td>\n",
              "      <td>5</td>\n",
              "    </tr>\n",
              "    <tr>\n",
              "      <th>87656</th>\n",
              "      <td>2023-03-16</td>\n",
              "      <td>87756</td>\n",
              "      <td>785</td>\n",
              "      <td>288.0</td>\n",
              "      <td>1440000.0</td>\n",
              "      <td>4.147200e+08</td>\n",
              "      <td>3</td>\n",
              "      <td>2023</td>\n",
              "      <td>3</td>\n",
              "    </tr>\n",
              "    <tr>\n",
              "      <th>137838</th>\n",
              "      <td>2020-05-06</td>\n",
              "      <td>137938</td>\n",
              "      <td>1341</td>\n",
              "      <td>13200.0</td>\n",
              "      <td>66000000.0</td>\n",
              "      <td>8.712000e+11</td>\n",
              "      <td>5</td>\n",
              "      <td>2020</td>\n",
              "      <td>2</td>\n",
              "    </tr>\n",
              "    <tr>\n",
              "      <th>72819</th>\n",
              "      <td>2024-09-19</td>\n",
              "      <td>72919</td>\n",
              "      <td>1583</td>\n",
              "      <td>2250.0</td>\n",
              "      <td>11250000.0</td>\n",
              "      <td>2.531250e+10</td>\n",
              "      <td>9</td>\n",
              "      <td>2024</td>\n",
              "      <td>3</td>\n",
              "    </tr>\n",
              "  </tbody>\n",
              "</table>\n",
              "</div>"
            ],
            "text/plain": [
              "         TrnsDate  ProdId  ProdDesc      Qty        Rate        Amount  Month  \\\n",
              "89034  2023-06-15   89134      1988   2400.0  12000000.0  2.880000e+10      6   \n",
              "134168 2020-12-19  134268       740  11500.0  57500000.0  6.612500e+11     12   \n",
              "87656  2023-03-16   87756       785    288.0   1440000.0  4.147200e+08      3   \n",
              "137838 2020-05-06  137938      1341  13200.0  66000000.0  8.712000e+11      5   \n",
              "72819  2024-09-19   72919      1583   2250.0  11250000.0  2.531250e+10      9   \n",
              "\n",
              "        Year  Week  \n",
              "89034   2023     3  \n",
              "134168  2020     5  \n",
              "87656   2023     3  \n",
              "137838  2020     2  \n",
              "72819   2024     3  "
            ]
          },
          "execution_count": 95,
          "metadata": {},
          "output_type": "execute_result"
        }
      ],
      "source": [
        "df.sample(5)"
      ]
    },
    {
      "cell_type": "code",
      "execution_count": 98,
      "metadata": {
        "colab": {
          "base_uri": "https://localhost:8080/"
        },
        "id": "COallZ4EN3cJ",
        "outputId": "30341f3d-f982-4c3a-bd84-52cf6af1d8c1"
      },
      "outputs": [
        {
          "name": "stdout",
          "output_type": "stream",
          "text": [
            "(137326, 7)\n"
          ]
        }
      ],
      "source": [
        "print(X_train_scaled.shape)  # This should show (n_samples, 5)\n"
      ]
    },
    {
      "cell_type": "code",
      "execution_count": null,
      "metadata": {
        "id": "i3QRrMk6HqsB"
      },
      "outputs": [],
      "source": [
        "df.head(190)"
      ]
    },
    {
      "cell_type": "code",
      "execution_count": 100,
      "metadata": {
        "colab": {
          "base_uri": "https://localhost:8080/"
        },
        "id": "caGSlpXoDaKR",
        "outputId": "7c1cba78-cf04-48be-ee15-1fa85d5b16d4"
      },
      "outputs": [
        {
          "name": "stdout",
          "output_type": "stream",
          "text": [
            "Qty         float64\n",
            "Rate        float64\n",
            "ProdId        int64\n",
            "ProdDesc      int64\n",
            "Month         int32\n",
            "Year          int32\n",
            "Week          int32\n",
            "dtype: object\n"
          ]
        }
      ],
      "source": [
        "print(X_train.dtypes)"
      ]
    },
    {
      "cell_type": "code",
      "execution_count": 114,
      "metadata": {
        "id": "WxtecIZ0HI8l"
      },
      "outputs": [
        {
          "name": "stdout",
          "output_type": "stream",
          "text": [
            "<DatetimeArray>\n",
            "['2023-08-02 00:00:00', '2023-08-08 00:00:00', '2023-09-13 00:00:00',\n",
            " '2023-11-01 00:00:00', '2023-11-22 00:00:00', '2023-12-26 00:00:00',\n",
            " '2024-01-15 00:00:00', '2024-01-24 00:00:00', '2024-02-12 00:00:00',\n",
            " '2024-05-20 00:00:00',\n",
            " ...\n",
            " '2018-11-28 00:00:00', '2018-11-17 00:00:00', '2019-06-22 00:00:00',\n",
            " '2019-04-20 00:00:00', '2018-07-07 00:00:00', '2018-10-06 00:00:00',\n",
            " '2018-12-02 00:00:00', '2018-10-25 00:00:00', '2019-04-29 00:00:00',\n",
            " '2018-10-31 00:00:00']\n",
            "Length: 1983, dtype: datetime64[ns]\n"
          ]
        }
      ],
      "source": [
        "print(df['TrnsDate'].unique())"
      ]
    },
    {
      "cell_type": "code",
      "execution_count": 102,
      "metadata": {
        "colab": {
          "base_uri": "https://localhost:8080/"
        },
        "id": "22aJWiRPh_6e",
        "outputId": "bb477873-31ba-4f95-db8b-34448d510cbd"
      },
      "outputs": [
        {
          "name": "stdout",
          "output_type": "stream",
          "text": [
            "TrnsDate    0\n",
            "ProdId      0\n",
            "ProdDesc    0\n",
            "Qty         0\n",
            "Rate        0\n",
            "Amount      0\n",
            "Year        0\n",
            "Month       0\n",
            "dtype: int64\n"
          ]
        }
      ],
      "source": [
        "#Checking the missing values in each column of your Dataset\n",
        "data_df= df[['TrnsDate', 'ProdId', 'ProdDesc', 'Qty', 'Rate', 'Amount', 'Year','Month']].isnull().sum()\n",
        "\n",
        "print(data_df)"
      ]
    },
    {
      "cell_type": "markdown",
      "metadata": {
        "id": "-B6iHWT6tc_s"
      },
      "source": [
        "\n",
        "# **Cross Validation**\n"
      ]
    },
    {
      "cell_type": "markdown",
      "metadata": {},
      "source": [
        "R-squared (R²) is a statistical measure that indicates how well the model explains the variance in the target variable (dependent variable). It ranges from 0 to 1, where:\n",
        "1 means the model perfectly explains the variance of the data.\n",
        "0 means the model does not explain any variance, and the model predictions are no better than just predicting the mean of the target variable.\n",
        "Negative values suggest that the model performs worse than a simple mean-based model.\n",
        "\n",
        "\n",
        "The mean R² score is the average R² score across all 5 folds of the cross-validation."
      ]
    },
    {
      "cell_type": "code",
      "execution_count": 105,
      "metadata": {
        "id": "voH4brsAuLS7"
      },
      "outputs": [
        {
          "name": "stdout",
          "output_type": "stream",
          "text": [
            "Cross-Validation R-squared Scores: [0.99625707 0.99666899 0.99568005 0.99587947 0.99360736]\n",
            "Mean R-squared: 0.9956185857269195\n"
          ]
        }
      ],
      "source": [
        "from sklearn.model_selection import cross_val_score\n",
        "from sklearn.pipeline import Pipeline\n",
        "\n",
        "# Create a pipeline to scale and then train\n",
        "pipeline = Pipeline([\n",
        "    ('scaler', StandardScaler()),  # Scaling step\n",
        "    ('knn_regressor', KNeighborsRegressor())  # Model step\n",
        "])\n",
        "\n",
        "# Perform cross-validation\n",
        "cv_scores = cross_val_score(pipeline, X, y, cv=5, scoring='r2')\n",
        "\n",
        "print(f\"Cross-Validation R-squared Scores: {cv_scores}\")\n",
        "print(f\"Mean R-squared: {cv_scores.mean()}\")\n"
      ]
    },
    {
      "cell_type": "markdown",
      "metadata": {
        "id": "f-U3MUhOKfZr"
      },
      "source": [
        "**Explained Variance:** Often used to understand how well a model explains the variation in the dependent variable, commonly in regression tasks.\n",
        "\n",
        "**Mean Absolute Percentage Error (MAPE):** MAPE measures the average error between the predicted and actual values, expressed as a percentage. A lower MAPE means better prediction accuracy.\n",
        "\n",
        "**Root Mean Squared Error (RMSE):** Widely used to assess the performance of regression models, with smaller values indicating better model performance.\n",
        "\n",
        "**KNN R-squared (Accuracy):** How well the model explains the variance in the data."
      ]
    },
    {
      "cell_type": "markdown",
      "metadata": {
        "id": "mrtVzPI19vbx"
      },
      "source": [
        "Explained Variance Score"
      ]
    },
    {
      "cell_type": "code",
      "execution_count": 106,
      "metadata": {
        "colab": {
          "base_uri": "https://localhost:8080/"
        },
        "id": "iJCfsAUj9uTK",
        "outputId": "1deb9340-2e4d-4a56-d7ae-b690b5390172"
      },
      "outputs": [
        {
          "name": "stdout",
          "output_type": "stream",
          "text": [
            "Explained Variance: 1.00\n"
          ]
        }
      ],
      "source": [
        "from sklearn.metrics import explained_variance_score\n",
        "\n",
        "explained_variance = explained_variance_score(y_test, knn_y_pred)\n",
        "print(f\"Explained Variance: {explained_variance:.2f}\")"
      ]
    },
    {
      "cell_type": "markdown",
      "metadata": {
        "id": "3CNTrCxp9_Pc"
      },
      "source": [
        "Mean Absolute Percentage Error (MAPE)"
      ]
    },
    {
      "cell_type": "code",
      "execution_count": 107,
      "metadata": {
        "colab": {
          "base_uri": "https://localhost:8080/"
        },
        "id": "qfub5kYD-Bxf",
        "outputId": "154db4b4-0f82-467b-dc61-9827f65b159a"
      },
      "outputs": [
        {
          "name": "stdout",
          "output_type": "stream",
          "text": [
            "Mean Absolute Percentage Error (MAPE): 4.06%\n"
          ]
        }
      ],
      "source": [
        "# Calculate MAPE\n",
        "mape = (abs((y_test - knn_y_pred) / y_test).mean()) * 100\n",
        "print(f\"Mean Absolute Percentage Error (MAPE): {mape:.2f}%\")"
      ]
    },
    {
      "cell_type": "markdown",
      "metadata": {
        "id": "0cO0XIwM-H24"
      },
      "source": [
        "Root Mean Squared Error (RMSE)"
      ]
    },
    {
      "cell_type": "code",
      "execution_count": 108,
      "metadata": {
        "colab": {
          "base_uri": "https://localhost:8080/"
        },
        "id": "2Rp2xCgK-Mm7",
        "outputId": "d743325f-a629-4748-a054-1fb7ad5f8b15"
      },
      "outputs": [
        {
          "name": "stdout",
          "output_type": "stream",
          "text": [
            "Root Mean Squared Error (RMSE): 0.06\n"
          ]
        }
      ],
      "source": [
        "rmse = np.sqrt(mean_squared_error(y_test, knn_y_pred))\n",
        "print(f\"Root Mean Squared Error (RMSE): {rmse:.2f}\")"
      ]
    },
    {
      "cell_type": "markdown",
      "metadata": {
        "id": "FrxQFxBuHB2p"
      },
      "source": [
        "R - Squared"
      ]
    },
    {
      "cell_type": "code",
      "execution_count": 109,
      "metadata": {
        "colab": {
          "base_uri": "https://localhost:8080/"
        },
        "id": "RpCmrAH56_rv",
        "outputId": "308c7d16-bc8c-4075-d94d-2a64efb9a6d4"
      },
      "outputs": [
        {
          "name": "stdout",
          "output_type": "stream",
          "text": [
            "KNN R-squared (Accuracy): 1.00\n"
          ]
        }
      ],
      "source": [
        "knn_r2 = r2_score(y_test, knn_y_pred)\n",
        "print(f\"KNN R-squared (Accuracy): {knn_r2:.2f}\")"
      ]
    },
    {
      "cell_type": "markdown",
      "metadata": {},
      "source": [
        "**Random Predictions**"
      ]
    },
    {
      "cell_type": "markdown",
      "metadata": {
        "id": "DBAUt7eT-4mZ"
      },
      "source": [
        "Testing Model Predictions with Random Inputs\n",
        "\n",
        "\n",
        "To check how well the model predicts values for new.\n",
        "\n",
        "These additional metrics and tests help you comprehensively evaluate your regression models and understand their performance beyond R² and MAE.\n",
        "\n"
      ]
    },
    {
      "cell_type": "code",
      "execution_count": 110,
      "metadata": {},
      "outputs": [
        {
          "name": "stdout",
          "output_type": "stream",
          "text": [
            "[1.77029652]\n"
          ]
        }
      ],
      "source": [
        "# not put the values of target column \"Amount\" and datetime format column \"Trnsdate\"\n",
        "input= (89134,\t1988,\t2400.0,\t12000000.0, 6,\t2023,\t3)\n",
        "new_input=np.asanyarray(input, dtype=float)\n",
        "prediction= knn_regressor.predict(new_input.reshape(1,-1))\n",
        "print(prediction)"
      ]
    },
    {
      "cell_type": "markdown",
      "metadata": {
        "id": "HffnNjO6BReq"
      },
      "source": [
        "***Precision:*** The fraction of relevant instances among the retrieved instances.\n",
        "\n",
        "***Recall:*** The fraction of relevant instances that have been retrieved over the total amount of relevant instances.\n",
        "\n"
      ]
    },
    {
      "cell_type": "code",
      "execution_count": 111,
      "metadata": {
        "colab": {
          "base_uri": "https://localhost:8080/"
        },
        "id": "ZnmIJ43BB6-6",
        "outputId": "630086cb-524b-4293-c200-d51c1759f0a3"
      },
      "outputs": [
        {
          "name": "stdout",
          "output_type": "stream",
          "text": [
            "Model: KNeighborsClassifier\n",
            "Precision: 0.98\n",
            "Recall: 0.96\n",
            "---------------------\n"
          ]
        }
      ],
      "source": [
        "from sklearn.metrics import precision_score, recall_score\n",
        "from sklearn.neighbors import KNeighborsClassifier\n",
        "\n",
        "def evaluate_model_precision_recall(model, X_train_scaled, y_train, threshold=0.5):\n",
        "    # Convert continuous target to binary (0 or 1) using threshold\n",
        "    y_train_binary = (y_train > threshold).astype(int)\n",
        "\n",
        "    # Fit the model to the training data\n",
        "    model.fit(X_train_scaled, y_train_binary)\n",
        "\n",
        "    # Make predictions on the training data\n",
        "    predictions = model.predict(X_train_scaled)\n",
        "\n",
        "    # Calculate precision and recall\n",
        "    precision = precision_score(y_train_binary, predictions)\n",
        "    recall = recall_score(y_train_binary, predictions)\n",
        "\n",
        "    # Print the metrics\n",
        "    print(f\"Model: {model.__class__.__name__}\")\n",
        "    print(f\"Precision: {precision:.2f}\")\n",
        "    print(f\"Recall: {recall:.2f}\")\n",
        "    print(\"---------------------\")\n",
        "\n",
        "# Example with KNN classifier (assuming y_train is continuous)\n",
        "model = KNeighborsClassifier(n_neighbors=5)\n",
        "evaluate_model_precision_recall(model, X_train_scaled, y_train)\n",
        "\n"
      ]
    },
    {
      "cell_type": "markdown",
      "metadata": {
        "id": "e5kInpFzuX7z"
      },
      "source": [
        "# **Grid Search in Model Linear Regression**\n",
        "\n",
        "**Purpose of Grid Search for Hyperparameter Tuning:**\n",
        "\n",
        "\n",
        "\n",
        "1.   To find the best combination of hyperparameters that maximize model performance on the validation set.\n",
        "\n",
        "2.   Default hyperparameters may not always yield optimal performance, so fine-tuning is necessary for better predictions.\n",
        "\n",
        "\n",
        "\n",
        "\n"
      ]
    },
    {
      "cell_type": "code",
      "execution_count": 112,
      "metadata": {
        "colab": {
          "base_uri": "https://localhost:8080/"
        },
        "id": "bUHltnj31Vs8",
        "outputId": "5c4b3a2a-8c1d-40f6-fac0-d28da355090e"
      },
      "outputs": [
        {
          "name": "stdout",
          "output_type": "stream",
          "text": [
            "Best Parameters:  {'fit_intercept': False}\n",
            "Best Score (Neg Mean Squared Error):  -0.18319367743752007\n",
            "R-squared: 0.8572646674976677\n"
          ]
        }
      ],
      "source": [
        "from sklearn.model_selection import GridSearchCV\n",
        "from sklearn.linear_model import LinearRegression\n",
        "\n",
        "# Define the parameter grid (adjusted for LinearRegression)\n",
        "param_grid = {\n",
        "    'fit_intercept': [True, False]  # Whether to calculate the intercept\n",
        "}\n",
        "\n",
        "# Create a Linear Regression model\n",
        "model = LinearRegression()\n",
        "\n",
        "# Create a GridSearchCV object\n",
        "grid_search = GridSearchCV(estimator=model, param_grid=param_grid, cv=5, scoring='neg_mean_squared_error')\n",
        "\n",
        "# Fit the grid search to your data (assuming X_train_scaled and y_train are available)\n",
        "grid_search.fit(X_train_scaled, y_train)\n",
        "\n",
        "# Print the best parameters and score\n",
        "print(\"Best Parameters: \", grid_search.best_params_)\n",
        "print(\"Best Score (Neg Mean Squared Error): \", grid_search.best_score_)\n",
        "\n",
        "# Get the best model\n",
        "best_model = grid_search.best_estimator_\n",
        "\n",
        "# Make predictions on the test set\n",
        "y_pred = best_model.predict(X_test_scaled)\n",
        "\n",
        "# Evaluate the model (example using R-squared)\n",
        "from sklearn.metrics import r2_score\n",
        "r2 = r2_score(y_test, y_pred)\n",
        "print(\"R-squared:\", r2)"
      ]
    },
    {
      "cell_type": "markdown",
      "metadata": {
        "id": "jr2CYcS5s2zx"
      },
      "source": [
        "# **Grid search in model KNN**"
      ]
    },
    {
      "cell_type": "markdown",
      "metadata": {
        "id": "gY-CdGkDJaBK"
      },
      "source": [
        "KNN Parameters:  This is the number of neighbors used by the KNN algorithm to make predictions. The algorithm classifies a data point based on the majority class (for classification) or the average (for regression) of its 27 closest neighbors. This indicates that the optimal number of neighbors for your dataset is 27.\n",
        "\n",
        "KNN Score:  This score could represent the R-squared (R²), which tells you how well the model explains the variance in the target variable. In this case, the score indicates that around 90.14% of the variability in the target is explained by the model, which is an excellent result."
      ]
    },
    {
      "cell_type": "code",
      "execution_count": 113,
      "metadata": {
        "colab": {
          "base_uri": "https://localhost:8080/"
        },
        "id": "Rl_0DnXes-rQ",
        "outputId": "3d5f9bd4-8806-40ba-e5b6-b69c06952cd1"
      },
      "outputs": [
        {
          "name": "stdout",
          "output_type": "stream",
          "text": [
            "Best KNN Parameters: {'n_neighbors': 1}\n",
            "Best KNN Score: 0.9974839905898477\n"
          ]
        }
      ],
      "source": [
        "from sklearn.model_selection import GridSearchCV\n",
        "from sklearn.neighbors import KNeighborsRegressor\n",
        "\n",
        "# Define the parameter grid\n",
        "param_grid = {'n_neighbors': list(range(1, 31))}\n",
        "\n",
        "# Create a KNN model\n",
        "knn = KNeighborsRegressor()\n",
        "\n",
        "# Perform grid search\n",
        "grid_search = GridSearchCV(knn, param_grid, cv=5)\n",
        "\n",
        "# Fit the grid search to the training data\n",
        "grid_search.fit(X_train_scaled, y_train)\n",
        "\n",
        "# Print the best parameters and score\n",
        "print(\"Best KNN Parameters:\", grid_search.best_params_)\n",
        "print(\"Best KNN Score:\", grid_search.best_score_)"
      ]
    },
    {
      "cell_type": "markdown",
      "metadata": {
        "id": "XoZK9MantH79"
      },
      "source": [
        "# **Grid Search in Neural Network**"
      ]
    },
    {
      "cell_type": "markdown",
      "metadata": {
        "id": "d93_yueHIqDG"
      },
      "source": [
        "Best Score: his is the negative mean squared error (MSE) during cross-validation (since we are using scoring='neg_mean_squared_error' in GridSearchCV). The negative sign is used because scikit-learn always tries to maximize the score, and a lower MSE is better. So, this value indicates the lowest error the model achieved during the cross-validation process.\n",
        "\n",
        "\n",
        "MSE represents the average squared difference between the predicted values and the actual values. A lower MSE means better predictions. Here, the MSE value is quite small, indicating that the model's predictions are very close to the true values.\n",
        "\n",
        "\n",
        "R² is a measure of how well the model explains the variability of the target variable. It ranges from 0 to 1, with 1 indicating perfect predictions. An R² of 0.89 means that approximately 89% of the variance in the target variable is explained by the model. This is an excellent result, showing that the model has good predictive power."
      ]
    },
    {
      "cell_type": "code",
      "execution_count": 118,
      "metadata": {
        "colab": {
          "base_uri": "https://localhost:8080/"
        },
        "id": "FQO0ZjgKvQBn",
        "outputId": "2f604ee4-0ead-4307-8176-08ba34e15e66"
      },
      "outputs": [
        {
          "name": "stdout",
          "output_type": "stream",
          "text": [
            "Best Parameters: {'activation': 'relu', 'alpha': 0.0001, 'hidden_layer_sizes': [64], 'solver': 'adam'}\n",
            "Best Score (Neg Mean Squared Error): -0.00024733197261285955\n",
            "\n",
            "MLP Regressor with Best Parameters:\n",
            "  Mean Squared Error: 0.00017134871021187492\n",
            "  R-squared: 0.9997927389793342\n"
          ]
        }
      ],
      "source": [
        "from sklearn.neural_network import MLPRegressor\n",
        "from sklearn.model_selection import GridSearchCV\n",
        "from sklearn.metrics import mean_squared_error, r2_score\n",
        "\n",
        "param_grid = {\n",
        "    'hidden_layer_sizes': [[64]],  # Fewer layer sizes to test\n",
        "    'activation': ['relu'],  # Only testing 'relu' for simplicity\n",
        "    'solver': ['adam'],  # Only testing 'adam' for simplicity\n",
        "    'alpha': [0.0001],  # Reduced to only one value for L2 penalty\n",
        "}\n",
        "# Create the MLPRegressor\n",
        "mlp_regressor = MLPRegressor(max_iter=500, random_state=42)\n",
        "\n",
        "# Create the GridSearchCV object\n",
        "grid_search = GridSearchCV(estimator=mlp_regressor, param_grid=param_grid, cv=3, scoring='neg_mean_squared_error', n_jobs=-1)\n",
        "\n",
        "# Fit the grid search to the training data\n",
        "grid_search.fit(X_train_scaled, y_train)\n",
        "\n",
        "# Print the best parameters and score\n",
        "print(\"Best Parameters:\", grid_search.best_params_)\n",
        "print(\"Best Score (Neg Mean Squared Error):\", grid_search.best_score_)\n",
        "\n",
        "# Train the model with the best parameters\n",
        "best_mlp_regressor = MLPRegressor(**grid_search.best_params_, max_iter=500, random_state=42)\n",
        "best_mlp_regressor.fit(X_train_scaled, y_train)\n",
        "\n",
        "# Make predictions on the test set\n",
        "mlp_y_pred = best_mlp_regressor.predict(X_test_scaled)\n",
        "\n",
        "# Evaluate the model\n",
        "mlp_mse = mean_squared_error(y_test, mlp_y_pred)\n",
        "mlp_r2 = r2_score(y_test, mlp_y_pred)\n",
        "\n",
        "print(\"\\nMLP Regressor with Best Parameters:\")\n",
        "print(f\"  Mean Squared Error: {mlp_mse}\")\n",
        "print(f\"  R-squared: {mlp_r2}\")"
      ]
    },
    {
      "cell_type": "code",
      "execution_count": 121,
      "metadata": {},
      "outputs": [
        {
          "data": {
            "text/plain": [
              "['model.joblib']"
            ]
          },
          "execution_count": 121,
          "metadata": {},
          "output_type": "execute_result"
        }
      ],
      "source": [
        "import joblib\n",
        "\n",
        "# Save the model\n",
        "joblib.dump(knn_regressor, 'model.joblib')  # Save the model to 'model.joblib'\n"
      ]
    },
    {
      "cell_type": "code",
      "execution_count": null,
      "metadata": {},
      "outputs": [],
      "source": []
    }
  ],
  "metadata": {
    "colab": {
      "cell_execution_strategy": "setup",
      "provenance": []
    },
    "kernelspec": {
      "display_name": "myenv",
      "language": "python",
      "name": "python3"
    },
    "language_info": {
      "codemirror_mode": {
        "name": "ipython",
        "version": 3
      },
      "file_extension": ".py",
      "mimetype": "text/x-python",
      "name": "python",
      "nbconvert_exporter": "python",
      "pygments_lexer": "ipython3",
      "version": "3.12.3"
    }
  },
  "nbformat": 4,
  "nbformat_minor": 0
}
